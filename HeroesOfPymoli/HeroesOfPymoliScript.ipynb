{
 "cells": [
  {
   "cell_type": "markdown",
   "metadata": {},
   "source": [
    "# __Heroes Of Pymoli__"
   ]
  },
  {
   "cell_type": "markdown",
   "metadata": {},
   "source": [
    "### Heroes Of Pymoli Analysis\n",
    "From analyzing the purchases and demographics of Heroes Of Pymoli game users, some overall findings can be drawn from the following summaries.\n",
    "\n",
    "\n",
    "#### Obserable Trends\n",
    "1. While of the majority users are 15-29 years old, age does not seem to influence purchase totals. For examples, the average purchase from 10-14 years old is \\\\$2.96 and 40+ years old is \\\\$2.94.\n",
    "\n",
    "2. Gender on the other hand, does seem to influence purchase totals. For example while users that identity as Female and Other/Non-Disclosed represents only 15.97% of users they spend on average \\\\$0.40+ more, which scales to 9-11% more than Male users.\n",
    "\n",
    "3. The popularity of items for purchase does not determine most profitable. In fact the price of items like the \"Singed Scapel\" was purchased less, but made more profit than others because of it's price."
   ]
  },
  {
   "cell_type": "code",
   "execution_count": 42,
   "metadata": {},
   "outputs": [],
   "source": [
    "#import python library\n",
    "import pandas as pd\n",
    "\n",
    "#specifying data\n",
    "pymoliheroes_file = \"Resources/purchase_data.csv\"\n",
    "\n",
    "#reading files into pandas\n",
    "pymoli_heroes = pd.read_csv(pymoliheroes_file)"
   ]
  },
  {
   "cell_type": "code",
   "execution_count": null,
   "metadata": {},
   "outputs": [],
   "source": []
  },
  {
   "cell_type": "markdown",
   "metadata": {},
   "source": [
    "## _Player Count_"
   ]
  },
  {
   "cell_type": "code",
   "execution_count": 43,
   "metadata": {},
   "outputs": [],
   "source": [
    "#calculate total number of players\n",
    "playercount = len(pymoli_heroes[\"SN\"].unique())"
   ]
  },
  {
   "cell_type": "code",
   "execution_count": 44,
   "metadata": {},
   "outputs": [
    {
     "data": {
      "text/html": [
       "<style  type=\"text/css\" >\n",
       "#T_3750800c_6b5c_11eb_bef6_acde48001122row0_col0{\n",
       "            text-align:  left;\n",
       "        }</style><table id=\"T_3750800c_6b5c_11eb_bef6_acde48001122\" ><thead>    <tr>        <th class=\"col_heading level0 col0\" >Total Players</th>    </tr></thead><tbody>\n",
       "                <tr>\n",
       "                                <td id=\"T_3750800c_6b5c_11eb_bef6_acde48001122row0_col0\" class=\"data row0 col0\" >576</td>\n",
       "            </tr>\n",
       "    </tbody></table>"
      ],
      "text/plain": [
       "<pandas.io.formats.style.Styler at 0x7fe802f34490>"
      ]
     },
     "execution_count": 44,
     "metadata": {},
     "output_type": "execute_result"
    }
   ],
   "source": [
    "#create and print player count table\n",
    "player_count = pd.DataFrame([\n",
    "    {\"Total Players\": playercount}])\n",
    "player_count.style.set_properties(**{'text-align':'left'}).hide_index()"
   ]
  },
  {
   "cell_type": "code",
   "execution_count": null,
   "metadata": {},
   "outputs": [],
   "source": []
  },
  {
   "cell_type": "markdown",
   "metadata": {},
   "source": [
    "## _Purchasing Analysis (Total)_"
   ]
  },
  {
   "cell_type": "code",
   "execution_count": 45,
   "metadata": {},
   "outputs": [],
   "source": [
    "#calculate number of items, average price, purchase count, and total revenue\n",
    "purchaseitems = len(pymoli_heroes[\"Item ID\"].unique())\n",
    "averageprice = pymoli_heroes[\"Price\"].mean()\n",
    "purchasecount = pymoli_heroes[\"Purchase ID\"].count()\n",
    "totalrevenue = pymoli_heroes[\"Price\"].sum()"
   ]
  },
  {
   "cell_type": "code",
   "execution_count": 46,
   "metadata": {},
   "outputs": [],
   "source": [
    "#create purchasing analysis table\n",
    "purchasing_analysis = pd.DataFrame([\n",
    "    {\"Number of Unique Items\": purchaseitems,\n",
    "     \"Average Price\": averageprice,\n",
    "     \"Number of Purchases\": purchasecount,\n",
    "     \"Total Revenue\": totalrevenue}])"
   ]
  },
  {
   "cell_type": "code",
   "execution_count": 47,
   "metadata": {},
   "outputs": [
    {
     "data": {
      "text/html": [
       "<style  type=\"text/css\" >\n",
       "#T_380979d6_6b5c_11eb_bef6_acde48001122row0_col0,#T_380979d6_6b5c_11eb_bef6_acde48001122row0_col1,#T_380979d6_6b5c_11eb_bef6_acde48001122row0_col2,#T_380979d6_6b5c_11eb_bef6_acde48001122row0_col3{\n",
       "            text-align:  left;\n",
       "        }</style><table id=\"T_380979d6_6b5c_11eb_bef6_acde48001122\" ><thead>    <tr>        <th class=\"col_heading level0 col0\" >Number of Unique Items</th>        <th class=\"col_heading level0 col1\" >Average Price</th>        <th class=\"col_heading level0 col2\" >Number of Purchases</th>        <th class=\"col_heading level0 col3\" >Total Revenue</th>    </tr></thead><tbody>\n",
       "                <tr>\n",
       "                                <td id=\"T_380979d6_6b5c_11eb_bef6_acde48001122row0_col0\" class=\"data row0 col0\" >179</td>\n",
       "                        <td id=\"T_380979d6_6b5c_11eb_bef6_acde48001122row0_col1\" class=\"data row0 col1\" >$3.05</td>\n",
       "                        <td id=\"T_380979d6_6b5c_11eb_bef6_acde48001122row0_col2\" class=\"data row0 col2\" >780</td>\n",
       "                        <td id=\"T_380979d6_6b5c_11eb_bef6_acde48001122row0_col3\" class=\"data row0 col3\" >$2,379.77</td>\n",
       "            </tr>\n",
       "    </tbody></table>"
      ],
      "text/plain": [
       "<pandas.io.formats.style.Styler at 0x7fe8042bfb50>"
      ]
     },
     "execution_count": 47,
     "metadata": {},
     "output_type": "execute_result"
    }
   ],
   "source": [
    "#format and print purchasing analysis table\n",
    "purchasing_dict = {'Average Price':'${0:,.2f}','Total Revenue':'${0:,.2f}'}\n",
    "purchasing_analysis.style.format(purchasing_dict).set_properties(**{'text-align':'left'}).hide_index()"
   ]
  },
  {
   "cell_type": "code",
   "execution_count": null,
   "metadata": {},
   "outputs": [],
   "source": []
  },
  {
   "cell_type": "markdown",
   "metadata": {},
   "source": [
    "## _Gender Demographics_"
   ]
  },
  {
   "cell_type": "code",
   "execution_count": 48,
   "metadata": {},
   "outputs": [],
   "source": [
    "#calculate number and percentage of members by gender\n",
    "pymolicount = pymoli_heroes.groupby(\"Gender\")\n",
    "heroes_gender = pymolicount.nunique()[\"SN\"]\n",
    "pymoligender_percentage = (heroes_gender / playercount * 100)"
   ]
  },
  {
   "cell_type": "code",
   "execution_count": 49,
   "metadata": {},
   "outputs": [
    {
     "data": {
      "text/html": [
       "<style  type=\"text/css\" >\n",
       "    #T_38931a38_6b5c_11eb_bef6_acde48001122 th {\n",
       "          text-align: left;\n",
       "    }    #T_38931a38_6b5c_11eb_bef6_acde48001122 .col_heading {\n",
       "          text-align: left;\n",
       "    }    #T_38931a38_6b5c_11eb_bef6_acde48001122 .row_heading {\n",
       "          text-align: left;\n",
       "    }#T_38931a38_6b5c_11eb_bef6_acde48001122row0_col0,#T_38931a38_6b5c_11eb_bef6_acde48001122row0_col1,#T_38931a38_6b5c_11eb_bef6_acde48001122row1_col0,#T_38931a38_6b5c_11eb_bef6_acde48001122row1_col1,#T_38931a38_6b5c_11eb_bef6_acde48001122row2_col0,#T_38931a38_6b5c_11eb_bef6_acde48001122row2_col1{\n",
       "            text-align:  center;\n",
       "        }</style><table id=\"T_38931a38_6b5c_11eb_bef6_acde48001122\" ><thead>    <tr>        <th class=\"blank level0\" ></th>        <th class=\"col_heading level0 col0\" >Total Count</th>        <th class=\"col_heading level0 col1\" >Percentage of Players</th>    </tr>    <tr>        <th class=\"index_name level0\" >Gender</th>        <th class=\"blank\" ></th>        <th class=\"blank\" ></th>    </tr></thead><tbody>\n",
       "                <tr>\n",
       "                        <th id=\"T_38931a38_6b5c_11eb_bef6_acde48001122level0_row0\" class=\"row_heading level0 row0\" >Male</th>\n",
       "                        <td id=\"T_38931a38_6b5c_11eb_bef6_acde48001122row0_col0\" class=\"data row0 col0\" >484</td>\n",
       "                        <td id=\"T_38931a38_6b5c_11eb_bef6_acde48001122row0_col1\" class=\"data row0 col1\" >84.03%</td>\n",
       "            </tr>\n",
       "            <tr>\n",
       "                        <th id=\"T_38931a38_6b5c_11eb_bef6_acde48001122level0_row1\" class=\"row_heading level0 row1\" >Female</th>\n",
       "                        <td id=\"T_38931a38_6b5c_11eb_bef6_acde48001122row1_col0\" class=\"data row1 col0\" >81</td>\n",
       "                        <td id=\"T_38931a38_6b5c_11eb_bef6_acde48001122row1_col1\" class=\"data row1 col1\" >14.06%</td>\n",
       "            </tr>\n",
       "            <tr>\n",
       "                        <th id=\"T_38931a38_6b5c_11eb_bef6_acde48001122level0_row2\" class=\"row_heading level0 row2\" >Other / Non-Disclosed</th>\n",
       "                        <td id=\"T_38931a38_6b5c_11eb_bef6_acde48001122row2_col0\" class=\"data row2 col0\" >11</td>\n",
       "                        <td id=\"T_38931a38_6b5c_11eb_bef6_acde48001122row2_col1\" class=\"data row2 col1\" >1.91%</td>\n",
       "            </tr>\n",
       "    </tbody></table>"
      ],
      "text/plain": [
       "<pandas.io.formats.style.Styler at 0x7fe804263c10>"
      ]
     },
     "execution_count": 49,
     "metadata": {},
     "output_type": "execute_result"
    }
   ],
   "source": [
    "#create table, add column titles, and place data\n",
    "pymoli_gender = pd.DataFrame({\"Total Count\": heroes_gender, \"Percentage of Players\": pymoligender_percentage})\n",
    "\n",
    "#sort by total count and format table to print\n",
    "pymoli_gender.sort_values(['Total Count'], ascending=False).style.format(\n",
    "    {\"Percentage of Players\":\"{:.2f}%\"}).set_properties(**{'text-align':'center'}).set_table_styles([\n",
    "    {'selector': 'th','props':[('text-align','left')]},\n",
    "    {'selector': '.col_heading','props':[('text-align','left')]},\n",
    "    {'selector': '.row_heading','props':[('text-align','left')]}])"
   ]
  },
  {
   "cell_type": "code",
   "execution_count": null,
   "metadata": {},
   "outputs": [],
   "source": []
  },
  {
   "cell_type": "markdown",
   "metadata": {},
   "source": [
    "## _Purchasing Analysis (Gender)_"
   ]
  },
  {
   "cell_type": "code",
   "execution_count": 50,
   "metadata": {},
   "outputs": [],
   "source": [
    "#create dataframe for purchasing analysis by gender\n",
    "purchase_count = pymoli_heroes.groupby('Gender').agg({\n",
    "    'Purchase ID':['count'],\n",
    "    'Price':['mean','sum']})\n",
    "\n",
    "#rename column titles and create new datasets\n",
    "purchase_count.columns = [\"Purchase Count\", \"Average Purchase Price\", \"Total Purchase Value\"]\n",
    "\n",
    "#calculate the average purchase per pymoli user column\n",
    "purchase_count[\"Avg Total Purchase per Person\"] = purchase_count[\"Total Purchase Value\"]/pymoli_gender[\"Total Count\"]"
   ]
  },
  {
   "cell_type": "code",
   "execution_count": 51,
   "metadata": {},
   "outputs": [
    {
     "data": {
      "text/html": [
       "<style  type=\"text/css\" >\n",
       "    #T_3997325c_6b5c_11eb_bef6_acde48001122 th {\n",
       "          text-align: left;\n",
       "    }    #T_3997325c_6b5c_11eb_bef6_acde48001122 .col_heading {\n",
       "          text-align: left;\n",
       "    }    #T_3997325c_6b5c_11eb_bef6_acde48001122 .row_heading {\n",
       "          text-align: left;\n",
       "    }#T_3997325c_6b5c_11eb_bef6_acde48001122row0_col0,#T_3997325c_6b5c_11eb_bef6_acde48001122row0_col1,#T_3997325c_6b5c_11eb_bef6_acde48001122row0_col2,#T_3997325c_6b5c_11eb_bef6_acde48001122row0_col3,#T_3997325c_6b5c_11eb_bef6_acde48001122row1_col0,#T_3997325c_6b5c_11eb_bef6_acde48001122row1_col1,#T_3997325c_6b5c_11eb_bef6_acde48001122row1_col2,#T_3997325c_6b5c_11eb_bef6_acde48001122row1_col3,#T_3997325c_6b5c_11eb_bef6_acde48001122row2_col0,#T_3997325c_6b5c_11eb_bef6_acde48001122row2_col1,#T_3997325c_6b5c_11eb_bef6_acde48001122row2_col2,#T_3997325c_6b5c_11eb_bef6_acde48001122row2_col3{\n",
       "            text-align:  center;\n",
       "        }</style><table id=\"T_3997325c_6b5c_11eb_bef6_acde48001122\" ><thead>    <tr>        <th class=\"blank level0\" ></th>        <th class=\"col_heading level0 col0\" >Purchase Count</th>        <th class=\"col_heading level0 col1\" >Average Purchase Price</th>        <th class=\"col_heading level0 col2\" >Total Purchase Value</th>        <th class=\"col_heading level0 col3\" >Avg Total Purchase per Person</th>    </tr>    <tr>        <th class=\"index_name level0\" >Gender</th>        <th class=\"blank\" ></th>        <th class=\"blank\" ></th>        <th class=\"blank\" ></th>        <th class=\"blank\" ></th>    </tr></thead><tbody>\n",
       "                <tr>\n",
       "                        <th id=\"T_3997325c_6b5c_11eb_bef6_acde48001122level0_row0\" class=\"row_heading level0 row0\" >Female</th>\n",
       "                        <td id=\"T_3997325c_6b5c_11eb_bef6_acde48001122row0_col0\" class=\"data row0 col0\" >113</td>\n",
       "                        <td id=\"T_3997325c_6b5c_11eb_bef6_acde48001122row0_col1\" class=\"data row0 col1\" >$3.20</td>\n",
       "                        <td id=\"T_3997325c_6b5c_11eb_bef6_acde48001122row0_col2\" class=\"data row0 col2\" >$361.94</td>\n",
       "                        <td id=\"T_3997325c_6b5c_11eb_bef6_acde48001122row0_col3\" class=\"data row0 col3\" >$4.47</td>\n",
       "            </tr>\n",
       "            <tr>\n",
       "                        <th id=\"T_3997325c_6b5c_11eb_bef6_acde48001122level0_row1\" class=\"row_heading level0 row1\" >Male</th>\n",
       "                        <td id=\"T_3997325c_6b5c_11eb_bef6_acde48001122row1_col0\" class=\"data row1 col0\" >652</td>\n",
       "                        <td id=\"T_3997325c_6b5c_11eb_bef6_acde48001122row1_col1\" class=\"data row1 col1\" >$3.02</td>\n",
       "                        <td id=\"T_3997325c_6b5c_11eb_bef6_acde48001122row1_col2\" class=\"data row1 col2\" >$1,967.64</td>\n",
       "                        <td id=\"T_3997325c_6b5c_11eb_bef6_acde48001122row1_col3\" class=\"data row1 col3\" >$4.07</td>\n",
       "            </tr>\n",
       "            <tr>\n",
       "                        <th id=\"T_3997325c_6b5c_11eb_bef6_acde48001122level0_row2\" class=\"row_heading level0 row2\" >Other / Non-Disclosed</th>\n",
       "                        <td id=\"T_3997325c_6b5c_11eb_bef6_acde48001122row2_col0\" class=\"data row2 col0\" >15</td>\n",
       "                        <td id=\"T_3997325c_6b5c_11eb_bef6_acde48001122row2_col1\" class=\"data row2 col1\" >$3.35</td>\n",
       "                        <td id=\"T_3997325c_6b5c_11eb_bef6_acde48001122row2_col2\" class=\"data row2 col2\" >$50.19</td>\n",
       "                        <td id=\"T_3997325c_6b5c_11eb_bef6_acde48001122row2_col3\" class=\"data row2 col3\" >$4.56</td>\n",
       "            </tr>\n",
       "    </tbody></table>"
      ],
      "text/plain": [
       "<pandas.io.formats.style.Styler at 0x7fe80451cf10>"
      ]
     },
     "execution_count": 51,
     "metadata": {},
     "output_type": "execute_result"
    }
   ],
   "source": [
    "#format purchasing count by gender summary table\n",
    "purchasecount_dict = {'Average Purchase Price':'${0:,.2f}', 'Total Purchase Value':'${0:,.2f}',\n",
    "               'Avg Total Purchase per Person':'${0:,.2f}'}\n",
    "purchase_count.style.format(purchasecount_dict).set_properties(**{'text-align':'center'}).set_table_styles([\n",
    "    {'selector': 'th','props':[('text-align','left')]},\n",
    "    {'selector': '.col_heading','props':[('text-align','left')]},\n",
    "    {'selector': '.row_heading','props':[('text-align','left')]}])"
   ]
  },
  {
   "cell_type": "code",
   "execution_count": null,
   "metadata": {},
   "outputs": [],
   "source": []
  },
  {
   "cell_type": "markdown",
   "metadata": {},
   "source": [
    "## _Age Demographics_"
   ]
  },
  {
   "cell_type": "code",
   "execution_count": 52,
   "metadata": {},
   "outputs": [],
   "source": [
    "#create custom ranges and labels for groupby based on user age\n",
    "ageranges = [0,9.99999,14,19,24,29,34,39,99999]\n",
    "agelabels = [\"<10\",\"10-14\",\"15-19\",\"20-24\",\"25-29\",\"30-34\",\"35-39\",\"40+\"]"
   ]
  },
  {
   "cell_type": "code",
   "execution_count": 53,
   "metadata": {},
   "outputs": [],
   "source": [
    "#pull per student budget data from summary table and place into ranges\n",
    "agedemographics = pymoli_heroes[\"Ages\"]=pd.cut(pymoli_heroes[\"Age\"], ageranges,labels=agelabels)"
   ]
  },
  {
   "cell_type": "code",
   "execution_count": 54,
   "metadata": {},
   "outputs": [],
   "source": [
    "#calculate and place the count and percentage of users by age\n",
    "agedemographics_sum = pymoli_heroes.groupby(\"Ages\")\n",
    "agedemo = agedemographics_sum[\"SN\"].nunique()\n",
    "agedemoper = agedemo/playercount *100"
   ]
  },
  {
   "cell_type": "code",
   "execution_count": 55,
   "metadata": {},
   "outputs": [
    {
     "data": {
      "text/html": [
       "<style  type=\"text/css\" >\n",
       "    #T_45451204_6b5c_11eb_bef6_acde48001122 th {\n",
       "          text-align: left;\n",
       "    }    #T_45451204_6b5c_11eb_bef6_acde48001122 .col_heading {\n",
       "          text-align: left;\n",
       "    }    #T_45451204_6b5c_11eb_bef6_acde48001122 .row_heading {\n",
       "          text-align: left;\n",
       "    }#T_45451204_6b5c_11eb_bef6_acde48001122row0_col0,#T_45451204_6b5c_11eb_bef6_acde48001122row0_col1,#T_45451204_6b5c_11eb_bef6_acde48001122row1_col0,#T_45451204_6b5c_11eb_bef6_acde48001122row1_col1,#T_45451204_6b5c_11eb_bef6_acde48001122row2_col0,#T_45451204_6b5c_11eb_bef6_acde48001122row2_col1,#T_45451204_6b5c_11eb_bef6_acde48001122row3_col0,#T_45451204_6b5c_11eb_bef6_acde48001122row3_col1,#T_45451204_6b5c_11eb_bef6_acde48001122row4_col0,#T_45451204_6b5c_11eb_bef6_acde48001122row4_col1,#T_45451204_6b5c_11eb_bef6_acde48001122row5_col0,#T_45451204_6b5c_11eb_bef6_acde48001122row5_col1,#T_45451204_6b5c_11eb_bef6_acde48001122row6_col0,#T_45451204_6b5c_11eb_bef6_acde48001122row6_col1,#T_45451204_6b5c_11eb_bef6_acde48001122row7_col0,#T_45451204_6b5c_11eb_bef6_acde48001122row7_col1{\n",
       "            text-align:  center;\n",
       "        }</style><table id=\"T_45451204_6b5c_11eb_bef6_acde48001122\" ><thead>    <tr>        <th class=\"blank level0\" ></th>        <th class=\"col_heading level0 col0\" >Total Count</th>        <th class=\"col_heading level0 col1\" >Percentage of Players</th>    </tr>    <tr>        <th class=\"index_name level0\" >Ages</th>        <th class=\"blank\" ></th>        <th class=\"blank\" ></th>    </tr></thead><tbody>\n",
       "                <tr>\n",
       "                        <th id=\"T_45451204_6b5c_11eb_bef6_acde48001122level0_row0\" class=\"row_heading level0 row0\" ><10</th>\n",
       "                        <td id=\"T_45451204_6b5c_11eb_bef6_acde48001122row0_col0\" class=\"data row0 col0\" >17</td>\n",
       "                        <td id=\"T_45451204_6b5c_11eb_bef6_acde48001122row0_col1\" class=\"data row0 col1\" >2.95%</td>\n",
       "            </tr>\n",
       "            <tr>\n",
       "                        <th id=\"T_45451204_6b5c_11eb_bef6_acde48001122level0_row1\" class=\"row_heading level0 row1\" >10-14</th>\n",
       "                        <td id=\"T_45451204_6b5c_11eb_bef6_acde48001122row1_col0\" class=\"data row1 col0\" >22</td>\n",
       "                        <td id=\"T_45451204_6b5c_11eb_bef6_acde48001122row1_col1\" class=\"data row1 col1\" >3.82%</td>\n",
       "            </tr>\n",
       "            <tr>\n",
       "                        <th id=\"T_45451204_6b5c_11eb_bef6_acde48001122level0_row2\" class=\"row_heading level0 row2\" >15-19</th>\n",
       "                        <td id=\"T_45451204_6b5c_11eb_bef6_acde48001122row2_col0\" class=\"data row2 col0\" >107</td>\n",
       "                        <td id=\"T_45451204_6b5c_11eb_bef6_acde48001122row2_col1\" class=\"data row2 col1\" >18.58%</td>\n",
       "            </tr>\n",
       "            <tr>\n",
       "                        <th id=\"T_45451204_6b5c_11eb_bef6_acde48001122level0_row3\" class=\"row_heading level0 row3\" >20-24</th>\n",
       "                        <td id=\"T_45451204_6b5c_11eb_bef6_acde48001122row3_col0\" class=\"data row3 col0\" >258</td>\n",
       "                        <td id=\"T_45451204_6b5c_11eb_bef6_acde48001122row3_col1\" class=\"data row3 col1\" >44.79%</td>\n",
       "            </tr>\n",
       "            <tr>\n",
       "                        <th id=\"T_45451204_6b5c_11eb_bef6_acde48001122level0_row4\" class=\"row_heading level0 row4\" >25-29</th>\n",
       "                        <td id=\"T_45451204_6b5c_11eb_bef6_acde48001122row4_col0\" class=\"data row4 col0\" >77</td>\n",
       "                        <td id=\"T_45451204_6b5c_11eb_bef6_acde48001122row4_col1\" class=\"data row4 col1\" >13.37%</td>\n",
       "            </tr>\n",
       "            <tr>\n",
       "                        <th id=\"T_45451204_6b5c_11eb_bef6_acde48001122level0_row5\" class=\"row_heading level0 row5\" >30-34</th>\n",
       "                        <td id=\"T_45451204_6b5c_11eb_bef6_acde48001122row5_col0\" class=\"data row5 col0\" >52</td>\n",
       "                        <td id=\"T_45451204_6b5c_11eb_bef6_acde48001122row5_col1\" class=\"data row5 col1\" >9.03%</td>\n",
       "            </tr>\n",
       "            <tr>\n",
       "                        <th id=\"T_45451204_6b5c_11eb_bef6_acde48001122level0_row6\" class=\"row_heading level0 row6\" >35-39</th>\n",
       "                        <td id=\"T_45451204_6b5c_11eb_bef6_acde48001122row6_col0\" class=\"data row6 col0\" >31</td>\n",
       "                        <td id=\"T_45451204_6b5c_11eb_bef6_acde48001122row6_col1\" class=\"data row6 col1\" >5.38%</td>\n",
       "            </tr>\n",
       "            <tr>\n",
       "                        <th id=\"T_45451204_6b5c_11eb_bef6_acde48001122level0_row7\" class=\"row_heading level0 row7\" >40+</th>\n",
       "                        <td id=\"T_45451204_6b5c_11eb_bef6_acde48001122row7_col0\" class=\"data row7 col0\" >12</td>\n",
       "                        <td id=\"T_45451204_6b5c_11eb_bef6_acde48001122row7_col1\" class=\"data row7 col1\" >2.08%</td>\n",
       "            </tr>\n",
       "    </tbody></table>"
      ],
      "text/plain": [
       "<pandas.io.formats.style.Styler at 0x7fe80451c550>"
      ]
     },
     "execution_count": 55,
     "metadata": {},
     "output_type": "execute_result"
    }
   ],
   "source": [
    "#create and rearrange dataframe of pymoli gender data summary table\n",
    "pymoliage_demo = pd.DataFrame(\n",
    "    {\"Total Count\": agedemo,\n",
    "     \"Percentage of Players\": agedemoper})\n",
    "\n",
    "#format age demographics summary table\n",
    "pymoliagedemo_dict = {'Percentage of Players':'{0:,.2f}%'}\n",
    "pymoliage_demo.style.format(pymoliagedemo_dict).set_properties(**{'text-align':'center'}).set_table_styles([\n",
    "    {'selector': 'th','props':[('text-align','left')]},\n",
    "    {'selector': '.col_heading','props':[('text-align','left')]},\n",
    "    {'selector': '.row_heading','props':[('text-align','left')]}])"
   ]
  },
  {
   "cell_type": "code",
   "execution_count": null,
   "metadata": {},
   "outputs": [],
   "source": []
  },
  {
   "cell_type": "markdown",
   "metadata": {},
   "source": [
    "## _Purchasing Analysis (Age)_"
   ]
  },
  {
   "cell_type": "code",
   "execution_count": 56,
   "metadata": {},
   "outputs": [],
   "source": [
    "#calculate purchases analysis by age\n",
    "purchasecount_age = agedemographics_sum[\"Purchase ID\"].count()\n",
    "avgpurchasecount_age = agedemographics_sum[\"Price\"].mean()\n",
    "totalpurchasecount_age = agedemographics_sum[\"Price\"].sum()\n",
    "\n",
    "#calculate the average purchase analysis by user age column\n",
    "purchaseage_analysis = totalpurchasecount_age/agedemo"
   ]
  },
  {
   "cell_type": "code",
   "execution_count": 57,
   "metadata": {},
   "outputs": [
    {
     "data": {
      "text/html": [
       "<style  type=\"text/css\" >\n",
       "    #T_55739dee_6b5c_11eb_bef6_acde48001122 th {\n",
       "          text-align: left;\n",
       "    }    #T_55739dee_6b5c_11eb_bef6_acde48001122 .col_heading {\n",
       "          text-align: left;\n",
       "    }    #T_55739dee_6b5c_11eb_bef6_acde48001122 .row_heading {\n",
       "          text-align: left;\n",
       "    }#T_55739dee_6b5c_11eb_bef6_acde48001122row0_col0,#T_55739dee_6b5c_11eb_bef6_acde48001122row0_col1,#T_55739dee_6b5c_11eb_bef6_acde48001122row0_col2,#T_55739dee_6b5c_11eb_bef6_acde48001122row0_col3,#T_55739dee_6b5c_11eb_bef6_acde48001122row1_col0,#T_55739dee_6b5c_11eb_bef6_acde48001122row1_col1,#T_55739dee_6b5c_11eb_bef6_acde48001122row1_col2,#T_55739dee_6b5c_11eb_bef6_acde48001122row1_col3,#T_55739dee_6b5c_11eb_bef6_acde48001122row2_col0,#T_55739dee_6b5c_11eb_bef6_acde48001122row2_col1,#T_55739dee_6b5c_11eb_bef6_acde48001122row2_col2,#T_55739dee_6b5c_11eb_bef6_acde48001122row2_col3,#T_55739dee_6b5c_11eb_bef6_acde48001122row3_col0,#T_55739dee_6b5c_11eb_bef6_acde48001122row3_col1,#T_55739dee_6b5c_11eb_bef6_acde48001122row3_col2,#T_55739dee_6b5c_11eb_bef6_acde48001122row3_col3,#T_55739dee_6b5c_11eb_bef6_acde48001122row4_col0,#T_55739dee_6b5c_11eb_bef6_acde48001122row4_col1,#T_55739dee_6b5c_11eb_bef6_acde48001122row4_col2,#T_55739dee_6b5c_11eb_bef6_acde48001122row4_col3,#T_55739dee_6b5c_11eb_bef6_acde48001122row5_col0,#T_55739dee_6b5c_11eb_bef6_acde48001122row5_col1,#T_55739dee_6b5c_11eb_bef6_acde48001122row5_col2,#T_55739dee_6b5c_11eb_bef6_acde48001122row5_col3,#T_55739dee_6b5c_11eb_bef6_acde48001122row6_col0,#T_55739dee_6b5c_11eb_bef6_acde48001122row6_col1,#T_55739dee_6b5c_11eb_bef6_acde48001122row6_col2,#T_55739dee_6b5c_11eb_bef6_acde48001122row6_col3,#T_55739dee_6b5c_11eb_bef6_acde48001122row7_col0,#T_55739dee_6b5c_11eb_bef6_acde48001122row7_col1,#T_55739dee_6b5c_11eb_bef6_acde48001122row7_col2,#T_55739dee_6b5c_11eb_bef6_acde48001122row7_col3{\n",
       "            text-align:  center;\n",
       "        }</style><table id=\"T_55739dee_6b5c_11eb_bef6_acde48001122\" ><thead>    <tr>        <th class=\"blank level0\" ></th>        <th class=\"col_heading level0 col0\" >Purchase Count</th>        <th class=\"col_heading level0 col1\" >Average Purchase Price</th>        <th class=\"col_heading level0 col2\" >Total Purchase Value</th>        <th class=\"col_heading level0 col3\" >Avg Total Purchase per Person</th>    </tr>    <tr>        <th class=\"index_name level0\" >Age Ranges</th>        <th class=\"blank\" ></th>        <th class=\"blank\" ></th>        <th class=\"blank\" ></th>        <th class=\"blank\" ></th>    </tr></thead><tbody>\n",
       "                <tr>\n",
       "                        <th id=\"T_55739dee_6b5c_11eb_bef6_acde48001122level0_row0\" class=\"row_heading level0 row0\" ><10</th>\n",
       "                        <td id=\"T_55739dee_6b5c_11eb_bef6_acde48001122row0_col0\" class=\"data row0 col0\" >23</td>\n",
       "                        <td id=\"T_55739dee_6b5c_11eb_bef6_acde48001122row0_col1\" class=\"data row0 col1\" >$3.35</td>\n",
       "                        <td id=\"T_55739dee_6b5c_11eb_bef6_acde48001122row0_col2\" class=\"data row0 col2\" >$77.13</td>\n",
       "                        <td id=\"T_55739dee_6b5c_11eb_bef6_acde48001122row0_col3\" class=\"data row0 col3\" >$4.54</td>\n",
       "            </tr>\n",
       "            <tr>\n",
       "                        <th id=\"T_55739dee_6b5c_11eb_bef6_acde48001122level0_row1\" class=\"row_heading level0 row1\" >10-14</th>\n",
       "                        <td id=\"T_55739dee_6b5c_11eb_bef6_acde48001122row1_col0\" class=\"data row1 col0\" >28</td>\n",
       "                        <td id=\"T_55739dee_6b5c_11eb_bef6_acde48001122row1_col1\" class=\"data row1 col1\" >$2.96</td>\n",
       "                        <td id=\"T_55739dee_6b5c_11eb_bef6_acde48001122row1_col2\" class=\"data row1 col2\" >$82.78</td>\n",
       "                        <td id=\"T_55739dee_6b5c_11eb_bef6_acde48001122row1_col3\" class=\"data row1 col3\" >$3.76</td>\n",
       "            </tr>\n",
       "            <tr>\n",
       "                        <th id=\"T_55739dee_6b5c_11eb_bef6_acde48001122level0_row2\" class=\"row_heading level0 row2\" >15-19</th>\n",
       "                        <td id=\"T_55739dee_6b5c_11eb_bef6_acde48001122row2_col0\" class=\"data row2 col0\" >136</td>\n",
       "                        <td id=\"T_55739dee_6b5c_11eb_bef6_acde48001122row2_col1\" class=\"data row2 col1\" >$3.04</td>\n",
       "                        <td id=\"T_55739dee_6b5c_11eb_bef6_acde48001122row2_col2\" class=\"data row2 col2\" >$412.89</td>\n",
       "                        <td id=\"T_55739dee_6b5c_11eb_bef6_acde48001122row2_col3\" class=\"data row2 col3\" >$3.86</td>\n",
       "            </tr>\n",
       "            <tr>\n",
       "                        <th id=\"T_55739dee_6b5c_11eb_bef6_acde48001122level0_row3\" class=\"row_heading level0 row3\" >20-24</th>\n",
       "                        <td id=\"T_55739dee_6b5c_11eb_bef6_acde48001122row3_col0\" class=\"data row3 col0\" >365</td>\n",
       "                        <td id=\"T_55739dee_6b5c_11eb_bef6_acde48001122row3_col1\" class=\"data row3 col1\" >$3.05</td>\n",
       "                        <td id=\"T_55739dee_6b5c_11eb_bef6_acde48001122row3_col2\" class=\"data row3 col2\" >$1,114.06</td>\n",
       "                        <td id=\"T_55739dee_6b5c_11eb_bef6_acde48001122row3_col3\" class=\"data row3 col3\" >$4.32</td>\n",
       "            </tr>\n",
       "            <tr>\n",
       "                        <th id=\"T_55739dee_6b5c_11eb_bef6_acde48001122level0_row4\" class=\"row_heading level0 row4\" >25-29</th>\n",
       "                        <td id=\"T_55739dee_6b5c_11eb_bef6_acde48001122row4_col0\" class=\"data row4 col0\" >101</td>\n",
       "                        <td id=\"T_55739dee_6b5c_11eb_bef6_acde48001122row4_col1\" class=\"data row4 col1\" >$2.90</td>\n",
       "                        <td id=\"T_55739dee_6b5c_11eb_bef6_acde48001122row4_col2\" class=\"data row4 col2\" >$293.00</td>\n",
       "                        <td id=\"T_55739dee_6b5c_11eb_bef6_acde48001122row4_col3\" class=\"data row4 col3\" >$3.81</td>\n",
       "            </tr>\n",
       "            <tr>\n",
       "                        <th id=\"T_55739dee_6b5c_11eb_bef6_acde48001122level0_row5\" class=\"row_heading level0 row5\" >30-34</th>\n",
       "                        <td id=\"T_55739dee_6b5c_11eb_bef6_acde48001122row5_col0\" class=\"data row5 col0\" >73</td>\n",
       "                        <td id=\"T_55739dee_6b5c_11eb_bef6_acde48001122row5_col1\" class=\"data row5 col1\" >$2.93</td>\n",
       "                        <td id=\"T_55739dee_6b5c_11eb_bef6_acde48001122row5_col2\" class=\"data row5 col2\" >$214.00</td>\n",
       "                        <td id=\"T_55739dee_6b5c_11eb_bef6_acde48001122row5_col3\" class=\"data row5 col3\" >$4.12</td>\n",
       "            </tr>\n",
       "            <tr>\n",
       "                        <th id=\"T_55739dee_6b5c_11eb_bef6_acde48001122level0_row6\" class=\"row_heading level0 row6\" >35-39</th>\n",
       "                        <td id=\"T_55739dee_6b5c_11eb_bef6_acde48001122row6_col0\" class=\"data row6 col0\" >41</td>\n",
       "                        <td id=\"T_55739dee_6b5c_11eb_bef6_acde48001122row6_col1\" class=\"data row6 col1\" >$3.60</td>\n",
       "                        <td id=\"T_55739dee_6b5c_11eb_bef6_acde48001122row6_col2\" class=\"data row6 col2\" >$147.67</td>\n",
       "                        <td id=\"T_55739dee_6b5c_11eb_bef6_acde48001122row6_col3\" class=\"data row6 col3\" >$4.76</td>\n",
       "            </tr>\n",
       "            <tr>\n",
       "                        <th id=\"T_55739dee_6b5c_11eb_bef6_acde48001122level0_row7\" class=\"row_heading level0 row7\" >40+</th>\n",
       "                        <td id=\"T_55739dee_6b5c_11eb_bef6_acde48001122row7_col0\" class=\"data row7 col0\" >13</td>\n",
       "                        <td id=\"T_55739dee_6b5c_11eb_bef6_acde48001122row7_col1\" class=\"data row7 col1\" >$2.94</td>\n",
       "                        <td id=\"T_55739dee_6b5c_11eb_bef6_acde48001122row7_col2\" class=\"data row7 col2\" >$38.24</td>\n",
       "                        <td id=\"T_55739dee_6b5c_11eb_bef6_acde48001122row7_col3\" class=\"data row7 col3\" >$3.19</td>\n",
       "            </tr>\n",
       "    </tbody></table>"
      ],
      "text/plain": [
       "<pandas.io.formats.style.Styler at 0x7fe80453a250>"
      ]
     },
     "execution_count": 57,
     "metadata": {},
     "output_type": "execute_result"
    }
   ],
   "source": [
    "#create and place data for purchase analysis by age summary table\n",
    "purchasecountage_sum = pd.DataFrame(\n",
    "    {\"Purchase Count\": purchasecount_age,\n",
    "     \"Average Purchase Price\": avgpurchasecount_age,\n",
    "     \"Total Purchase Value\": totalpurchasecount_age,\n",
    "     \"Avg Total Purchase per Person\": purchaseage_analysis})\n",
    "\n",
    "#format and print purchasing analysis by age table\n",
    "purchasecountage_sum.index.name= \"Age Ranges\"\n",
    "purchasecountage_dict = {'Average Purchase Price':'${0:,.2f}',\n",
    "                         'Total Purchase Value':'${0:,.2f}','Avg Total Purchase per Person':'${0:,.2f}'}\n",
    "purchasecountage_sum.style.format(purchasecountage_dict).set_properties(**{'text-align':'center'}).set_table_styles([\n",
    "    {'selector': 'th','props':[('text-align','left')]},\n",
    "    {'selector': '.col_heading','props':[('text-align','left')]},\n",
    "    {'selector': '.row_heading','props':[('text-align','left')]}])"
   ]
  },
  {
   "cell_type": "code",
   "execution_count": null,
   "metadata": {},
   "outputs": [],
   "source": []
  },
  {
   "cell_type": "markdown",
   "metadata": {},
   "source": [
    "## _Top Spenders_"
   ]
  },
  {
   "cell_type": "code",
   "execution_count": 58,
   "metadata": {},
   "outputs": [],
   "source": [
    "#find and calculate top spenders\n",
    "topspenders = pymoli_heroes.groupby([\"SN\"])\n",
    "spenderpurchases = topspenders[\"Purchase ID\"].count()\n",
    "spenderpurchaseprice = topspenders[\"Price\"].mean()\n",
    "spenderpurchasecosts = topspenders[\"Price\"].sum()"
   ]
  },
  {
   "cell_type": "code",
   "execution_count": 59,
   "metadata": {},
   "outputs": [],
   "source": [
    "#create dataframe and place data\n",
    "topspenders_sum = pd.DataFrame({\"Purchase Count\": spenderpurchases,\n",
    "                                \"Average Purchase Price\": spenderpurchaseprice,\n",
    "                                \"Total Purchase Value\": spenderpurchasecosts})\n",
    "topfive = topspenders_sum.sort_values(by=\"Total Purchase Value\", ascending=False).head(5)"
   ]
  },
  {
   "cell_type": "code",
   "execution_count": 60,
   "metadata": {},
   "outputs": [
    {
     "data": {
      "text/html": [
       "<style  type=\"text/css\" >\n",
       "    #T_839fcdc8_6b5c_11eb_bef6_acde48001122 th {\n",
       "          text-align: left;\n",
       "    }    #T_839fcdc8_6b5c_11eb_bef6_acde48001122 .col_heading {\n",
       "          text-align: left;\n",
       "    }    #T_839fcdc8_6b5c_11eb_bef6_acde48001122 .row_heading {\n",
       "          text-align: left;\n",
       "    }#T_839fcdc8_6b5c_11eb_bef6_acde48001122row0_col0,#T_839fcdc8_6b5c_11eb_bef6_acde48001122row0_col1,#T_839fcdc8_6b5c_11eb_bef6_acde48001122row0_col2,#T_839fcdc8_6b5c_11eb_bef6_acde48001122row1_col0,#T_839fcdc8_6b5c_11eb_bef6_acde48001122row1_col1,#T_839fcdc8_6b5c_11eb_bef6_acde48001122row1_col2,#T_839fcdc8_6b5c_11eb_bef6_acde48001122row2_col0,#T_839fcdc8_6b5c_11eb_bef6_acde48001122row2_col1,#T_839fcdc8_6b5c_11eb_bef6_acde48001122row2_col2,#T_839fcdc8_6b5c_11eb_bef6_acde48001122row3_col0,#T_839fcdc8_6b5c_11eb_bef6_acde48001122row3_col1,#T_839fcdc8_6b5c_11eb_bef6_acde48001122row3_col2,#T_839fcdc8_6b5c_11eb_bef6_acde48001122row4_col0,#T_839fcdc8_6b5c_11eb_bef6_acde48001122row4_col1,#T_839fcdc8_6b5c_11eb_bef6_acde48001122row4_col2{\n",
       "            text-align:  center;\n",
       "        }</style><table id=\"T_839fcdc8_6b5c_11eb_bef6_acde48001122\" ><thead>    <tr>        <th class=\"blank level0\" ></th>        <th class=\"col_heading level0 col0\" >Purchase Count</th>        <th class=\"col_heading level0 col1\" >Average Purchase Price</th>        <th class=\"col_heading level0 col2\" >Total Purchase Value</th>    </tr>    <tr>        <th class=\"index_name level0\" >SN</th>        <th class=\"blank\" ></th>        <th class=\"blank\" ></th>        <th class=\"blank\" ></th>    </tr></thead><tbody>\n",
       "                <tr>\n",
       "                        <th id=\"T_839fcdc8_6b5c_11eb_bef6_acde48001122level0_row0\" class=\"row_heading level0 row0\" >Lisosia93</th>\n",
       "                        <td id=\"T_839fcdc8_6b5c_11eb_bef6_acde48001122row0_col0\" class=\"data row0 col0\" >5</td>\n",
       "                        <td id=\"T_839fcdc8_6b5c_11eb_bef6_acde48001122row0_col1\" class=\"data row0 col1\" >$3.79</td>\n",
       "                        <td id=\"T_839fcdc8_6b5c_11eb_bef6_acde48001122row0_col2\" class=\"data row0 col2\" >$18.96</td>\n",
       "            </tr>\n",
       "            <tr>\n",
       "                        <th id=\"T_839fcdc8_6b5c_11eb_bef6_acde48001122level0_row1\" class=\"row_heading level0 row1\" >Idastidru52</th>\n",
       "                        <td id=\"T_839fcdc8_6b5c_11eb_bef6_acde48001122row1_col0\" class=\"data row1 col0\" >4</td>\n",
       "                        <td id=\"T_839fcdc8_6b5c_11eb_bef6_acde48001122row1_col1\" class=\"data row1 col1\" >$3.86</td>\n",
       "                        <td id=\"T_839fcdc8_6b5c_11eb_bef6_acde48001122row1_col2\" class=\"data row1 col2\" >$15.45</td>\n",
       "            </tr>\n",
       "            <tr>\n",
       "                        <th id=\"T_839fcdc8_6b5c_11eb_bef6_acde48001122level0_row2\" class=\"row_heading level0 row2\" >Chamjask73</th>\n",
       "                        <td id=\"T_839fcdc8_6b5c_11eb_bef6_acde48001122row2_col0\" class=\"data row2 col0\" >3</td>\n",
       "                        <td id=\"T_839fcdc8_6b5c_11eb_bef6_acde48001122row2_col1\" class=\"data row2 col1\" >$4.61</td>\n",
       "                        <td id=\"T_839fcdc8_6b5c_11eb_bef6_acde48001122row2_col2\" class=\"data row2 col2\" >$13.83</td>\n",
       "            </tr>\n",
       "            <tr>\n",
       "                        <th id=\"T_839fcdc8_6b5c_11eb_bef6_acde48001122level0_row3\" class=\"row_heading level0 row3\" >Iral74</th>\n",
       "                        <td id=\"T_839fcdc8_6b5c_11eb_bef6_acde48001122row3_col0\" class=\"data row3 col0\" >4</td>\n",
       "                        <td id=\"T_839fcdc8_6b5c_11eb_bef6_acde48001122row3_col1\" class=\"data row3 col1\" >$3.40</td>\n",
       "                        <td id=\"T_839fcdc8_6b5c_11eb_bef6_acde48001122row3_col2\" class=\"data row3 col2\" >$13.62</td>\n",
       "            </tr>\n",
       "            <tr>\n",
       "                        <th id=\"T_839fcdc8_6b5c_11eb_bef6_acde48001122level0_row4\" class=\"row_heading level0 row4\" >Iskadarya95</th>\n",
       "                        <td id=\"T_839fcdc8_6b5c_11eb_bef6_acde48001122row4_col0\" class=\"data row4 col0\" >3</td>\n",
       "                        <td id=\"T_839fcdc8_6b5c_11eb_bef6_acde48001122row4_col1\" class=\"data row4 col1\" >$4.37</td>\n",
       "                        <td id=\"T_839fcdc8_6b5c_11eb_bef6_acde48001122row4_col2\" class=\"data row4 col2\" >$13.10</td>\n",
       "            </tr>\n",
       "    </tbody></table>"
      ],
      "text/plain": [
       "<pandas.io.formats.style.Styler at 0x7fe80451ce20>"
      ]
     },
     "execution_count": 60,
     "metadata": {},
     "output_type": "execute_result"
    }
   ],
   "source": [
    "#format top spenders summary table\n",
    "topspenders_dict = {\"Average Purchase Price\":'${0:,.2f}',\"Total Purchase Value\":'${0:,.2f}'}\n",
    "topfive.style.format(topspenders_dict).set_properties(**{'text-align':'center'}).set_table_styles([\n",
    "    {'selector': 'th','props':[('text-align','left')]},\n",
    "    {'selector': '.col_heading','props':[('text-align','left')]},\n",
    "    {'selector': '.row_heading','props':[('text-align','left')]}])"
   ]
  },
  {
   "cell_type": "code",
   "execution_count": null,
   "metadata": {},
   "outputs": [],
   "source": []
  },
  {
   "cell_type": "markdown",
   "metadata": {},
   "source": [
    "## _Most Popular Items_"
   ]
  },
  {
   "cell_type": "code",
   "execution_count": 61,
   "metadata": {},
   "outputs": [],
   "source": [
    "#find and calculate most popular items\n",
    "mostpopular = pymoli_heroes.groupby([\"Item ID\",\"Item Name\"])\n",
    "popularpurchases = mostpopular[\"Item ID\"].count()\n",
    "popularprice = mostpopular[\"Price\"].mean()\n",
    "popularcosts = mostpopular[\"Price\"].sum()"
   ]
  },
  {
   "cell_type": "code",
   "execution_count": 62,
   "metadata": {},
   "outputs": [],
   "source": [
    "#create dataframe and place data\n",
    "mostpopular_sum = pd.DataFrame({\"Purchase Count\": popularpurchases,\n",
    "                                \"Item Price\": popularprice,\n",
    "                                \"Total Purchase Value\": popularcosts})\n",
    "topitems = mostpopular_sum.sort_values(by=\"Purchase Count\", ascending=False).head(5)"
   ]
  },
  {
   "cell_type": "code",
   "execution_count": 63,
   "metadata": {},
   "outputs": [
    {
     "data": {
      "text/html": [
       "<style  type=\"text/css\" >\n",
       "    #T_b0aa2ba6_6b5c_11eb_bef6_acde48001122 th {\n",
       "          text-align: left;\n",
       "    }    #T_b0aa2ba6_6b5c_11eb_bef6_acde48001122 .col_heading {\n",
       "          text-align: left;\n",
       "    }    #T_b0aa2ba6_6b5c_11eb_bef6_acde48001122 .row_heading {\n",
       "          text-align: left;\n",
       "    }#T_b0aa2ba6_6b5c_11eb_bef6_acde48001122row0_col0,#T_b0aa2ba6_6b5c_11eb_bef6_acde48001122row0_col1,#T_b0aa2ba6_6b5c_11eb_bef6_acde48001122row0_col2,#T_b0aa2ba6_6b5c_11eb_bef6_acde48001122row1_col0,#T_b0aa2ba6_6b5c_11eb_bef6_acde48001122row1_col1,#T_b0aa2ba6_6b5c_11eb_bef6_acde48001122row1_col2,#T_b0aa2ba6_6b5c_11eb_bef6_acde48001122row2_col0,#T_b0aa2ba6_6b5c_11eb_bef6_acde48001122row2_col1,#T_b0aa2ba6_6b5c_11eb_bef6_acde48001122row2_col2,#T_b0aa2ba6_6b5c_11eb_bef6_acde48001122row3_col0,#T_b0aa2ba6_6b5c_11eb_bef6_acde48001122row3_col1,#T_b0aa2ba6_6b5c_11eb_bef6_acde48001122row3_col2,#T_b0aa2ba6_6b5c_11eb_bef6_acde48001122row4_col0,#T_b0aa2ba6_6b5c_11eb_bef6_acde48001122row4_col1,#T_b0aa2ba6_6b5c_11eb_bef6_acde48001122row4_col2{\n",
       "            text-align:  center;\n",
       "        }</style><table id=\"T_b0aa2ba6_6b5c_11eb_bef6_acde48001122\" ><thead>    <tr>        <th class=\"blank\" ></th>        <th class=\"blank level0\" ></th>        <th class=\"col_heading level0 col0\" >Purchase Count</th>        <th class=\"col_heading level0 col1\" >Item Price</th>        <th class=\"col_heading level0 col2\" >Total Purchase Value</th>    </tr>    <tr>        <th class=\"index_name level0\" >Item ID</th>        <th class=\"index_name level1\" >Item Name</th>        <th class=\"blank\" ></th>        <th class=\"blank\" ></th>        <th class=\"blank\" ></th>    </tr></thead><tbody>\n",
       "                <tr>\n",
       "                        <th id=\"T_b0aa2ba6_6b5c_11eb_bef6_acde48001122level0_row0\" class=\"row_heading level0 row0\" >92</th>\n",
       "                        <th id=\"T_b0aa2ba6_6b5c_11eb_bef6_acde48001122level1_row0\" class=\"row_heading level1 row0\" >Final Critic</th>\n",
       "                        <td id=\"T_b0aa2ba6_6b5c_11eb_bef6_acde48001122row0_col0\" class=\"data row0 col0\" >13</td>\n",
       "                        <td id=\"T_b0aa2ba6_6b5c_11eb_bef6_acde48001122row0_col1\" class=\"data row0 col1\" >$4.61</td>\n",
       "                        <td id=\"T_b0aa2ba6_6b5c_11eb_bef6_acde48001122row0_col2\" class=\"data row0 col2\" >$59.99</td>\n",
       "            </tr>\n",
       "            <tr>\n",
       "                        <th id=\"T_b0aa2ba6_6b5c_11eb_bef6_acde48001122level0_row1\" class=\"row_heading level0 row1\" >178</th>\n",
       "                        <th id=\"T_b0aa2ba6_6b5c_11eb_bef6_acde48001122level1_row1\" class=\"row_heading level1 row1\" >Oathbreaker, Last Hope of the Breaking Storm</th>\n",
       "                        <td id=\"T_b0aa2ba6_6b5c_11eb_bef6_acde48001122row1_col0\" class=\"data row1 col0\" >12</td>\n",
       "                        <td id=\"T_b0aa2ba6_6b5c_11eb_bef6_acde48001122row1_col1\" class=\"data row1 col1\" >$4.23</td>\n",
       "                        <td id=\"T_b0aa2ba6_6b5c_11eb_bef6_acde48001122row1_col2\" class=\"data row1 col2\" >$50.76</td>\n",
       "            </tr>\n",
       "            <tr>\n",
       "                        <th id=\"T_b0aa2ba6_6b5c_11eb_bef6_acde48001122level0_row2\" class=\"row_heading level0 row2\" >145</th>\n",
       "                        <th id=\"T_b0aa2ba6_6b5c_11eb_bef6_acde48001122level1_row2\" class=\"row_heading level1 row2\" >Fiery Glass Crusader</th>\n",
       "                        <td id=\"T_b0aa2ba6_6b5c_11eb_bef6_acde48001122row2_col0\" class=\"data row2 col0\" >9</td>\n",
       "                        <td id=\"T_b0aa2ba6_6b5c_11eb_bef6_acde48001122row2_col1\" class=\"data row2 col1\" >$4.58</td>\n",
       "                        <td id=\"T_b0aa2ba6_6b5c_11eb_bef6_acde48001122row2_col2\" class=\"data row2 col2\" >$41.22</td>\n",
       "            </tr>\n",
       "            <tr>\n",
       "                        <th id=\"T_b0aa2ba6_6b5c_11eb_bef6_acde48001122level0_row3\" class=\"row_heading level0 row3\" >132</th>\n",
       "                        <th id=\"T_b0aa2ba6_6b5c_11eb_bef6_acde48001122level1_row3\" class=\"row_heading level1 row3\" >Persuasion</th>\n",
       "                        <td id=\"T_b0aa2ba6_6b5c_11eb_bef6_acde48001122row3_col0\" class=\"data row3 col0\" >9</td>\n",
       "                        <td id=\"T_b0aa2ba6_6b5c_11eb_bef6_acde48001122row3_col1\" class=\"data row3 col1\" >$3.22</td>\n",
       "                        <td id=\"T_b0aa2ba6_6b5c_11eb_bef6_acde48001122row3_col2\" class=\"data row3 col2\" >$28.99</td>\n",
       "            </tr>\n",
       "            <tr>\n",
       "                        <th id=\"T_b0aa2ba6_6b5c_11eb_bef6_acde48001122level0_row4\" class=\"row_heading level0 row4\" >108</th>\n",
       "                        <th id=\"T_b0aa2ba6_6b5c_11eb_bef6_acde48001122level1_row4\" class=\"row_heading level1 row4\" >Extraction, Quickblade Of Trembling Hands</th>\n",
       "                        <td id=\"T_b0aa2ba6_6b5c_11eb_bef6_acde48001122row4_col0\" class=\"data row4 col0\" >9</td>\n",
       "                        <td id=\"T_b0aa2ba6_6b5c_11eb_bef6_acde48001122row4_col1\" class=\"data row4 col1\" >$3.53</td>\n",
       "                        <td id=\"T_b0aa2ba6_6b5c_11eb_bef6_acde48001122row4_col2\" class=\"data row4 col2\" >$31.77</td>\n",
       "            </tr>\n",
       "    </tbody></table>"
      ],
      "text/plain": [
       "<pandas.io.formats.style.Styler at 0x7fe80453e460>"
      ]
     },
     "execution_count": 63,
     "metadata": {},
     "output_type": "execute_result"
    }
   ],
   "source": [
    "#format most popular items summary table\n",
    "topitems_dict = {\"Item Price\":'${0:,.2f}',\"Total Purchase Value\":'${0:,.2f}'}\n",
    "topitems.style.format(topitems_dict).set_properties(**{'text-align':'center'}).set_table_styles([\n",
    "    {'selector': 'th','props':[('text-align','left')]},\n",
    "    {'selector': '.col_heading','props':[('text-align','left')]},\n",
    "    {'selector': '.row_heading','props':[('text-align','left')]}])"
   ]
  },
  {
   "cell_type": "code",
   "execution_count": null,
   "metadata": {},
   "outputs": [],
   "source": []
  },
  {
   "cell_type": "markdown",
   "metadata": {},
   "source": [
    "## _Most Profitable Items_"
   ]
  },
  {
   "cell_type": "code",
   "execution_count": 64,
   "metadata": {},
   "outputs": [
    {
     "data": {
      "text/html": [
       "<style  type=\"text/css\" >\n",
       "    #T_b9012638_6b5c_11eb_bef6_acde48001122 th {\n",
       "          text-align: left;\n",
       "    }    #T_b9012638_6b5c_11eb_bef6_acde48001122 .col_heading {\n",
       "          text-align: left;\n",
       "    }    #T_b9012638_6b5c_11eb_bef6_acde48001122 .row_heading {\n",
       "          text-align: left;\n",
       "    }#T_b9012638_6b5c_11eb_bef6_acde48001122row0_col0,#T_b9012638_6b5c_11eb_bef6_acde48001122row0_col1,#T_b9012638_6b5c_11eb_bef6_acde48001122row0_col2,#T_b9012638_6b5c_11eb_bef6_acde48001122row1_col0,#T_b9012638_6b5c_11eb_bef6_acde48001122row1_col1,#T_b9012638_6b5c_11eb_bef6_acde48001122row1_col2,#T_b9012638_6b5c_11eb_bef6_acde48001122row2_col0,#T_b9012638_6b5c_11eb_bef6_acde48001122row2_col1,#T_b9012638_6b5c_11eb_bef6_acde48001122row2_col2,#T_b9012638_6b5c_11eb_bef6_acde48001122row3_col0,#T_b9012638_6b5c_11eb_bef6_acde48001122row3_col1,#T_b9012638_6b5c_11eb_bef6_acde48001122row3_col2,#T_b9012638_6b5c_11eb_bef6_acde48001122row4_col0,#T_b9012638_6b5c_11eb_bef6_acde48001122row4_col1,#T_b9012638_6b5c_11eb_bef6_acde48001122row4_col2{\n",
       "            text-align:  center;\n",
       "        }</style><table id=\"T_b9012638_6b5c_11eb_bef6_acde48001122\" ><thead>    <tr>        <th class=\"blank\" ></th>        <th class=\"blank level0\" ></th>        <th class=\"col_heading level0 col0\" >Purchase Count</th>        <th class=\"col_heading level0 col1\" >Item Price</th>        <th class=\"col_heading level0 col2\" >Total Purchase Value</th>    </tr>    <tr>        <th class=\"index_name level0\" >Item ID</th>        <th class=\"index_name level1\" >Item Name</th>        <th class=\"blank\" ></th>        <th class=\"blank\" ></th>        <th class=\"blank\" ></th>    </tr></thead><tbody>\n",
       "                <tr>\n",
       "                        <th id=\"T_b9012638_6b5c_11eb_bef6_acde48001122level0_row0\" class=\"row_heading level0 row0\" >92</th>\n",
       "                        <th id=\"T_b9012638_6b5c_11eb_bef6_acde48001122level1_row0\" class=\"row_heading level1 row0\" >Final Critic</th>\n",
       "                        <td id=\"T_b9012638_6b5c_11eb_bef6_acde48001122row0_col0\" class=\"data row0 col0\" >13</td>\n",
       "                        <td id=\"T_b9012638_6b5c_11eb_bef6_acde48001122row0_col1\" class=\"data row0 col1\" >$4.61</td>\n",
       "                        <td id=\"T_b9012638_6b5c_11eb_bef6_acde48001122row0_col2\" class=\"data row0 col2\" >$59.99</td>\n",
       "            </tr>\n",
       "            <tr>\n",
       "                        <th id=\"T_b9012638_6b5c_11eb_bef6_acde48001122level0_row1\" class=\"row_heading level0 row1\" >178</th>\n",
       "                        <th id=\"T_b9012638_6b5c_11eb_bef6_acde48001122level1_row1\" class=\"row_heading level1 row1\" >Oathbreaker, Last Hope of the Breaking Storm</th>\n",
       "                        <td id=\"T_b9012638_6b5c_11eb_bef6_acde48001122row1_col0\" class=\"data row1 col0\" >12</td>\n",
       "                        <td id=\"T_b9012638_6b5c_11eb_bef6_acde48001122row1_col1\" class=\"data row1 col1\" >$4.23</td>\n",
       "                        <td id=\"T_b9012638_6b5c_11eb_bef6_acde48001122row1_col2\" class=\"data row1 col2\" >$50.76</td>\n",
       "            </tr>\n",
       "            <tr>\n",
       "                        <th id=\"T_b9012638_6b5c_11eb_bef6_acde48001122level0_row2\" class=\"row_heading level0 row2\" >82</th>\n",
       "                        <th id=\"T_b9012638_6b5c_11eb_bef6_acde48001122level1_row2\" class=\"row_heading level1 row2\" >Nirvana</th>\n",
       "                        <td id=\"T_b9012638_6b5c_11eb_bef6_acde48001122row2_col0\" class=\"data row2 col0\" >9</td>\n",
       "                        <td id=\"T_b9012638_6b5c_11eb_bef6_acde48001122row2_col1\" class=\"data row2 col1\" >$4.90</td>\n",
       "                        <td id=\"T_b9012638_6b5c_11eb_bef6_acde48001122row2_col2\" class=\"data row2 col2\" >$44.10</td>\n",
       "            </tr>\n",
       "            <tr>\n",
       "                        <th id=\"T_b9012638_6b5c_11eb_bef6_acde48001122level0_row3\" class=\"row_heading level0 row3\" >145</th>\n",
       "                        <th id=\"T_b9012638_6b5c_11eb_bef6_acde48001122level1_row3\" class=\"row_heading level1 row3\" >Fiery Glass Crusader</th>\n",
       "                        <td id=\"T_b9012638_6b5c_11eb_bef6_acde48001122row3_col0\" class=\"data row3 col0\" >9</td>\n",
       "                        <td id=\"T_b9012638_6b5c_11eb_bef6_acde48001122row3_col1\" class=\"data row3 col1\" >$4.58</td>\n",
       "                        <td id=\"T_b9012638_6b5c_11eb_bef6_acde48001122row3_col2\" class=\"data row3 col2\" >$41.22</td>\n",
       "            </tr>\n",
       "            <tr>\n",
       "                        <th id=\"T_b9012638_6b5c_11eb_bef6_acde48001122level0_row4\" class=\"row_heading level0 row4\" >103</th>\n",
       "                        <th id=\"T_b9012638_6b5c_11eb_bef6_acde48001122level1_row4\" class=\"row_heading level1 row4\" >Singed Scalpel</th>\n",
       "                        <td id=\"T_b9012638_6b5c_11eb_bef6_acde48001122row4_col0\" class=\"data row4 col0\" >8</td>\n",
       "                        <td id=\"T_b9012638_6b5c_11eb_bef6_acde48001122row4_col1\" class=\"data row4 col1\" >$4.35</td>\n",
       "                        <td id=\"T_b9012638_6b5c_11eb_bef6_acde48001122row4_col2\" class=\"data row4 col2\" >$34.80</td>\n",
       "            </tr>\n",
       "    </tbody></table>"
      ],
      "text/plain": [
       "<pandas.io.formats.style.Styler at 0x7fe8042c5c40>"
      ]
     },
     "execution_count": 64,
     "metadata": {},
     "output_type": "execute_result"
    }
   ],
   "source": [
    "#find and sort the most profitable items\n",
    "mostprofit = mostpopular_sum.sort_values(by=\"Total Purchase Value\", ascending=False).head(5)\n",
    "\n",
    "#format most profitable items summary table\n",
    "mostprofit_dict = {\"Item Price\":'${0:,.2f}',\"Total Purchase Value\":'${0:,.2f}'}\n",
    "mostprofit.style.format(mostprofit_dict).set_properties(**{'text-align':'center'}).set_table_styles([\n",
    "    {'selector': 'th','props':[('text-align','left')]},\n",
    "    {'selector': '.col_heading','props':[('text-align','left')]},\n",
    "    {'selector': '.row_heading','props':[('text-align','left')]}])"
   ]
  },
  {
   "cell_type": "code",
   "execution_count": null,
   "metadata": {},
   "outputs": [],
   "source": []
  }
 ],
 "metadata": {
  "kernelspec": {
   "display_name": "Python 3",
   "language": "python",
   "name": "python3"
  },
  "language_info": {
   "codemirror_mode": {
    "name": "ipython",
    "version": 3
   },
   "file_extension": ".py",
   "mimetype": "text/x-python",
   "name": "python",
   "nbconvert_exporter": "python",
   "pygments_lexer": "ipython3",
   "version": "3.8.5"
  }
 },
 "nbformat": 4,
 "nbformat_minor": 4
}
