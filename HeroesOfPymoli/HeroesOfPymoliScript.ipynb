{
 "cells": [
  {
   "cell_type": "markdown",
   "metadata": {},
   "source": [
    "# __Heroes Of Pymoli__"
   ]
  },
  {
   "cell_type": "code",
   "execution_count": 6,
   "metadata": {},
   "outputs": [],
   "source": [
    "#import python library\n",
    "import pandas as pd\n",
    "\n",
    "#specifying data\n",
    "pymoliheroes_file = \"Resources/purchase_data.csv\"\n",
    "\n",
    "#reading files into pandas\n",
    "pymoli_heroes = pd.read_csv(pymoliheroes_file)"
   ]
  },
  {
   "cell_type": "code",
   "execution_count": null,
   "metadata": {},
   "outputs": [],
   "source": []
  },
  {
   "cell_type": "markdown",
   "metadata": {},
   "source": [
    "## _Player Count_"
   ]
  },
  {
   "cell_type": "code",
   "execution_count": 25,
   "metadata": {},
   "outputs": [],
   "source": [
    "#calculate total number of players\n",
    "playercount = len(pymoli_heroes[\"SN\"].unique())"
   ]
  },
  {
   "cell_type": "code",
   "execution_count": 29,
   "metadata": {},
   "outputs": [
    {
     "data": {
      "text/html": [
       "<style  type=\"text/css\" >\n",
       "</style><table id=\"T_9e4fe842_5e23_11eb_a765_acde48001122\" ><thead>    <tr>        <th class=\"col_heading level0 col0\" >Total Players</th>    </tr></thead><tbody>\n",
       "                <tr>\n",
       "                                <td id=\"T_9e4fe842_5e23_11eb_a765_acde48001122row0_col0\" class=\"data row0 col0\" >576</td>\n",
       "            </tr>\n",
       "    </tbody></table>"
      ],
      "text/plain": [
       "<pandas.io.formats.style.Styler at 0x7fc833a98610>"
      ]
     },
     "execution_count": 29,
     "metadata": {},
     "output_type": "execute_result"
    }
   ],
   "source": [
    "#create and print player count table\n",
    "player_count = pd.DataFrame([\n",
    "    {\"Total Players\": playercount}])\n",
    "player_count.style.hide_index()"
   ]
  },
  {
   "cell_type": "code",
   "execution_count": null,
   "metadata": {},
   "outputs": [],
   "source": []
  },
  {
   "cell_type": "markdown",
   "metadata": {},
   "source": [
    "## _Purchasing Analysis (Total)_"
   ]
  },
  {
   "cell_type": "code",
   "execution_count": 42,
   "metadata": {},
   "outputs": [],
   "source": [
    "#calculate number of items, average price, purchase count, and total revenue\n",
    "purchaseitems = len(pymoli_heroes[\"Item ID\"].unique())\n",
    "averageprice = pymoli_heroes[\"Price\"].mean()\n",
    "purchasecount = pymoli_heroes[\"Purchase ID\"].count()\n",
    "totalrevenue = pymoli_heroes[\"Price\"].sum()"
   ]
  },
  {
   "cell_type": "code",
   "execution_count": 43,
   "metadata": {},
   "outputs": [],
   "source": [
    "#create purchasing analysis table\n",
    "purchasing_analysis = pd.DataFrame([\n",
    "    {\"Number of Unique Items\": purchaseitems,\n",
    "     \"Average Price\": averageprice,\n",
    "     \"Number of Purchases\": purchasecount,\n",
    "     \"Total Revenue\": totalrevenue}])"
   ]
  },
  {
   "cell_type": "code",
   "execution_count": 44,
   "metadata": {},
   "outputs": [
    {
     "data": {
      "text/html": [
       "<style  type=\"text/css\" >\n",
       "</style><table id=\"T_3e395f54_5e25_11eb_a765_acde48001122\" ><thead>    <tr>        <th class=\"col_heading level0 col0\" >Number of Unique Items</th>        <th class=\"col_heading level0 col1\" >Average Price</th>        <th class=\"col_heading level0 col2\" >Number of Purchases</th>        <th class=\"col_heading level0 col3\" >Total Revenue</th>    </tr></thead><tbody>\n",
       "                <tr>\n",
       "                                <td id=\"T_3e395f54_5e25_11eb_a765_acde48001122row0_col0\" class=\"data row0 col0\" >179</td>\n",
       "                        <td id=\"T_3e395f54_5e25_11eb_a765_acde48001122row0_col1\" class=\"data row0 col1\" >$3.05</td>\n",
       "                        <td id=\"T_3e395f54_5e25_11eb_a765_acde48001122row0_col2\" class=\"data row0 col2\" >780</td>\n",
       "                        <td id=\"T_3e395f54_5e25_11eb_a765_acde48001122row0_col3\" class=\"data row0 col3\" >$2,379.77</td>\n",
       "            </tr>\n",
       "    </tbody></table>"
      ],
      "text/plain": [
       "<pandas.io.formats.style.Styler at 0x7fc834ca7790>"
      ]
     },
     "execution_count": 44,
     "metadata": {},
     "output_type": "execute_result"
    }
   ],
   "source": [
    "#format and print purchasing analysis table\n",
    "purchasing_dict = {'Average Price':'${0:,.2f}','Total Revenue':'${0:,.2f}'}\n",
    "purchasing_analysis.style.format(purchasing_dict).hide_index()"
   ]
  },
  {
   "cell_type": "code",
   "execution_count": null,
   "metadata": {},
   "outputs": [],
   "source": []
  },
  {
   "cell_type": "markdown",
   "metadata": {},
   "source": [
    "## _Gender Demographics_"
   ]
  },
  {
   "cell_type": "code",
   "execution_count": 157,
   "metadata": {},
   "outputs": [],
   "source": [
    "#calculate number and percentage of members by gender\n",
    "pymolicount = pymoli_heroes.groupby(\"Gender\")\n",
    "heroes_gender = pymolicount.nunique()[\"SN\"]\n",
    "pymoligender_percentage = (heroes_gender / playercount * 100)"
   ]
  },
  {
   "cell_type": "code",
   "execution_count": 158,
   "metadata": {},
   "outputs": [
    {
     "data": {
      "text/html": [
       "<style  type=\"text/css\" >\n",
       "</style><table id=\"T_66617f30_5e2e_11eb_a765_acde48001122\" ><thead>    <tr>        <th class=\"blank level0\" ></th>        <th class=\"col_heading level0 col0\" >Total Count</th>        <th class=\"col_heading level0 col1\" >Percentage of Players</th>    </tr>    <tr>        <th class=\"index_name level0\" >Gender</th>        <th class=\"blank\" ></th>        <th class=\"blank\" ></th>    </tr></thead><tbody>\n",
       "                <tr>\n",
       "                        <th id=\"T_66617f30_5e2e_11eb_a765_acde48001122level0_row0\" class=\"row_heading level0 row0\" >Male</th>\n",
       "                        <td id=\"T_66617f30_5e2e_11eb_a765_acde48001122row0_col0\" class=\"data row0 col0\" >484</td>\n",
       "                        <td id=\"T_66617f30_5e2e_11eb_a765_acde48001122row0_col1\" class=\"data row0 col1\" >84.03%</td>\n",
       "            </tr>\n",
       "            <tr>\n",
       "                        <th id=\"T_66617f30_5e2e_11eb_a765_acde48001122level0_row1\" class=\"row_heading level0 row1\" >Female</th>\n",
       "                        <td id=\"T_66617f30_5e2e_11eb_a765_acde48001122row1_col0\" class=\"data row1 col0\" >81</td>\n",
       "                        <td id=\"T_66617f30_5e2e_11eb_a765_acde48001122row1_col1\" class=\"data row1 col1\" >14.06%</td>\n",
       "            </tr>\n",
       "            <tr>\n",
       "                        <th id=\"T_66617f30_5e2e_11eb_a765_acde48001122level0_row2\" class=\"row_heading level0 row2\" >Other / Non-Disclosed</th>\n",
       "                        <td id=\"T_66617f30_5e2e_11eb_a765_acde48001122row2_col0\" class=\"data row2 col0\" >11</td>\n",
       "                        <td id=\"T_66617f30_5e2e_11eb_a765_acde48001122row2_col1\" class=\"data row2 col1\" >1.91%</td>\n",
       "            </tr>\n",
       "    </tbody></table>"
      ],
      "text/plain": [
       "<pandas.io.formats.style.Styler at 0x7fc834ef85e0>"
      ]
     },
     "execution_count": 158,
     "metadata": {},
     "output_type": "execute_result"
    }
   ],
   "source": [
    "#create table, add column titles, and place data\n",
    "pymoli_gender = pd.DataFrame({\"Total Count\": heroes_gender, \"Percentage of Players\": pymoligender_percentage})\n",
    "\n",
    "#sort by total count and format table to print\n",
    "pymoli_gender.sort_values(['Total Count'], ascending=False).style.format({\"Percentage of Players\":\"{:.2f}%\"})"
   ]
  },
  {
   "cell_type": "code",
   "execution_count": null,
   "metadata": {},
   "outputs": [],
   "source": []
  },
  {
   "cell_type": "markdown",
   "metadata": {},
   "source": [
    "## _Purchasing Analysis (Gender)_"
   ]
  },
  {
   "cell_type": "code",
   "execution_count": 169,
   "metadata": {},
   "outputs": [],
   "source": [
    "#\n",
    "purchase_count = pymoli_heroes.groupby('Gender').agg({\n",
    "    'Purchase ID':['count'],\n",
    "    'Price':['mean','sum']})"
   ]
  },
  {
   "cell_type": "code",
   "execution_count": 170,
   "metadata": {},
   "outputs": [
    {
     "data": {
      "text/html": [
       "<div>\n",
       "<style scoped>\n",
       "    .dataframe tbody tr th:only-of-type {\n",
       "        vertical-align: middle;\n",
       "    }\n",
       "\n",
       "    .dataframe tbody tr th {\n",
       "        vertical-align: top;\n",
       "    }\n",
       "\n",
       "    .dataframe thead tr th {\n",
       "        text-align: left;\n",
       "    }\n",
       "\n",
       "    .dataframe thead tr:last-of-type th {\n",
       "        text-align: right;\n",
       "    }\n",
       "</style>\n",
       "<table border=\"1\" class=\"dataframe\">\n",
       "  <thead>\n",
       "    <tr>\n",
       "      <th></th>\n",
       "      <th>Purchase ID</th>\n",
       "      <th colspan=\"2\" halign=\"left\">Price</th>\n",
       "    </tr>\n",
       "    <tr>\n",
       "      <th></th>\n",
       "      <th>count</th>\n",
       "      <th>mean</th>\n",
       "      <th>sum</th>\n",
       "    </tr>\n",
       "    <tr>\n",
       "      <th>Gender</th>\n",
       "      <th></th>\n",
       "      <th></th>\n",
       "      <th></th>\n",
       "    </tr>\n",
       "  </thead>\n",
       "  <tbody>\n",
       "    <tr>\n",
       "      <th>Female</th>\n",
       "      <td>113</td>\n",
       "      <td>3.203009</td>\n",
       "      <td>361.94</td>\n",
       "    </tr>\n",
       "    <tr>\n",
       "      <th>Male</th>\n",
       "      <td>652</td>\n",
       "      <td>3.017853</td>\n",
       "      <td>1967.64</td>\n",
       "    </tr>\n",
       "    <tr>\n",
       "      <th>Other / Non-Disclosed</th>\n",
       "      <td>15</td>\n",
       "      <td>3.346000</td>\n",
       "      <td>50.19</td>\n",
       "    </tr>\n",
       "  </tbody>\n",
       "</table>\n",
       "</div>"
      ],
      "text/plain": [
       "                      Purchase ID     Price         \n",
       "                            count      mean      sum\n",
       "Gender                                              \n",
       "Female                        113  3.203009   361.94\n",
       "Male                          652  3.017853  1967.64\n",
       "Other / Non-Disclosed          15  3.346000    50.19"
      ]
     },
     "execution_count": 170,
     "metadata": {},
     "output_type": "execute_result"
    }
   ],
   "source": [
    "purchase_count"
   ]
  },
  {
   "cell_type": "code",
   "execution_count": null,
   "metadata": {},
   "outputs": [],
   "source": []
  },
  {
   "cell_type": "code",
   "execution_count": null,
   "metadata": {},
   "outputs": [],
   "source": []
  },
  {
   "cell_type": "code",
   "execution_count": null,
   "metadata": {},
   "outputs": [],
   "source": []
  },
  {
   "cell_type": "code",
   "execution_count": null,
   "metadata": {},
   "outputs": [],
   "source": []
  },
  {
   "cell_type": "code",
   "execution_count": null,
   "metadata": {},
   "outputs": [],
   "source": []
  },
  {
   "cell_type": "code",
   "execution_count": null,
   "metadata": {},
   "outputs": [],
   "source": []
  }
 ],
 "metadata": {
  "kernelspec": {
   "display_name": "Python 3",
   "language": "python",
   "name": "python3"
  },
  "language_info": {
   "codemirror_mode": {
    "name": "ipython",
    "version": 3
   },
   "file_extension": ".py",
   "mimetype": "text/x-python",
   "name": "python",
   "nbconvert_exporter": "python",
   "pygments_lexer": "ipython3",
   "version": "3.8.5"
  }
 },
 "nbformat": 4,
 "nbformat_minor": 4
}
