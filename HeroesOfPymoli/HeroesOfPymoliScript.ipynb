{
 "cells": [
  {
   "cell_type": "markdown",
   "metadata": {},
   "source": [
    "# __Heroes Of Pymoli__"
   ]
  },
  {
   "cell_type": "markdown",
   "metadata": {},
   "source": [
    "### Heroes Of Pymoli Analysis\n",
    "\n",
    "\n",
    "\n",
    "#### Obserable Trends\n",
    "* \n",
    "\n",
    "#### Future Study\n",
    "* "
   ]
  },
  {
   "cell_type": "code",
   "execution_count": 4,
   "metadata": {},
   "outputs": [],
   "source": [
    "#import python library\n",
    "import pandas as pd\n",
    "\n",
    "#specifying data\n",
    "pymoliheroes_file = \"Resources/purchase_data.csv\"\n",
    "\n",
    "#reading files into pandas\n",
    "pymoli_heroes = pd.read_csv(pymoliheroes_file)"
   ]
  },
  {
   "cell_type": "code",
   "execution_count": null,
   "metadata": {},
   "outputs": [],
   "source": []
  },
  {
   "cell_type": "markdown",
   "metadata": {},
   "source": [
    "## _Player Count_"
   ]
  },
  {
   "cell_type": "code",
   "execution_count": 5,
   "metadata": {},
   "outputs": [],
   "source": [
    "#calculate total number of players\n",
    "playercount = len(pymoli_heroes[\"SN\"].unique())"
   ]
  },
  {
   "cell_type": "code",
   "execution_count": 6,
   "metadata": {},
   "outputs": [
    {
     "data": {
      "text/html": [
       "<style  type=\"text/css\" >\n",
       "#T_f99af47e_5e89_11eb_834a_acde48001122row0_col0{\n",
       "            text-align:  left;\n",
       "        }</style><table id=\"T_f99af47e_5e89_11eb_834a_acde48001122\" ><thead>    <tr>        <th class=\"col_heading level0 col0\" >Total Players</th>    </tr></thead><tbody>\n",
       "                <tr>\n",
       "                                <td id=\"T_f99af47e_5e89_11eb_834a_acde48001122row0_col0\" class=\"data row0 col0\" >576</td>\n",
       "            </tr>\n",
       "    </tbody></table>"
      ],
      "text/plain": [
       "<pandas.io.formats.style.Styler at 0x7ff657a5fb80>"
      ]
     },
     "execution_count": 6,
     "metadata": {},
     "output_type": "execute_result"
    }
   ],
   "source": [
    "#create and print player count table\n",
    "player_count = pd.DataFrame([\n",
    "    {\"Total Players\": playercount}])\n",
    "player_count.style.set_properties(**{'text-align':'left'}).hide_index()"
   ]
  },
  {
   "cell_type": "code",
   "execution_count": null,
   "metadata": {},
   "outputs": [],
   "source": []
  },
  {
   "cell_type": "markdown",
   "metadata": {},
   "source": [
    "## _Purchasing Analysis (Total)_"
   ]
  },
  {
   "cell_type": "code",
   "execution_count": 7,
   "metadata": {},
   "outputs": [],
   "source": [
    "#calculate number of items, average price, purchase count, and total revenue\n",
    "purchaseitems = len(pymoli_heroes[\"Item ID\"].unique())\n",
    "averageprice = pymoli_heroes[\"Price\"].mean()\n",
    "purchasecount = pymoli_heroes[\"Purchase ID\"].count()\n",
    "totalrevenue = pymoli_heroes[\"Price\"].sum()"
   ]
  },
  {
   "cell_type": "code",
   "execution_count": 8,
   "metadata": {},
   "outputs": [],
   "source": [
    "#create purchasing analysis table\n",
    "purchasing_analysis = pd.DataFrame([\n",
    "    {\"Number of Unique Items\": purchaseitems,\n",
    "     \"Average Price\": averageprice,\n",
    "     \"Number of Purchases\": purchasecount,\n",
    "     \"Total Revenue\": totalrevenue}])"
   ]
  },
  {
   "cell_type": "code",
   "execution_count": 9,
   "metadata": {},
   "outputs": [
    {
     "data": {
      "text/html": [
       "<style  type=\"text/css\" >\n",
       "#T_02b36ae6_5e8a_11eb_834a_acde48001122row0_col0,#T_02b36ae6_5e8a_11eb_834a_acde48001122row0_col1,#T_02b36ae6_5e8a_11eb_834a_acde48001122row0_col2,#T_02b36ae6_5e8a_11eb_834a_acde48001122row0_col3{\n",
       "            text-align:  left;\n",
       "        }</style><table id=\"T_02b36ae6_5e8a_11eb_834a_acde48001122\" ><thead>    <tr>        <th class=\"col_heading level0 col0\" >Number of Unique Items</th>        <th class=\"col_heading level0 col1\" >Average Price</th>        <th class=\"col_heading level0 col2\" >Number of Purchases</th>        <th class=\"col_heading level0 col3\" >Total Revenue</th>    </tr></thead><tbody>\n",
       "                <tr>\n",
       "                                <td id=\"T_02b36ae6_5e8a_11eb_834a_acde48001122row0_col0\" class=\"data row0 col0\" >179</td>\n",
       "                        <td id=\"T_02b36ae6_5e8a_11eb_834a_acde48001122row0_col1\" class=\"data row0 col1\" >$3.05</td>\n",
       "                        <td id=\"T_02b36ae6_5e8a_11eb_834a_acde48001122row0_col2\" class=\"data row0 col2\" >780</td>\n",
       "                        <td id=\"T_02b36ae6_5e8a_11eb_834a_acde48001122row0_col3\" class=\"data row0 col3\" >$2,379.77</td>\n",
       "            </tr>\n",
       "    </tbody></table>"
      ],
      "text/plain": [
       "<pandas.io.formats.style.Styler at 0x7ff65b2b62e0>"
      ]
     },
     "execution_count": 9,
     "metadata": {},
     "output_type": "execute_result"
    }
   ],
   "source": [
    "#format and print purchasing analysis table\n",
    "purchasing_dict = {'Average Price':'${0:,.2f}','Total Revenue':'${0:,.2f}'}\n",
    "purchasing_analysis.style.format(purchasing_dict).set_properties(**{'text-align':'left'}).hide_index()"
   ]
  },
  {
   "cell_type": "code",
   "execution_count": null,
   "metadata": {},
   "outputs": [],
   "source": []
  },
  {
   "cell_type": "markdown",
   "metadata": {},
   "source": [
    "## _Gender Demographics_"
   ]
  },
  {
   "cell_type": "code",
   "execution_count": 10,
   "metadata": {},
   "outputs": [],
   "source": [
    "#calculate number and percentage of members by gender\n",
    "pymolicount = pymoli_heroes.groupby(\"Gender\")\n",
    "heroes_gender = pymolicount.nunique()[\"SN\"]\n",
    "pymoligender_percentage = (heroes_gender / playercount * 100)"
   ]
  },
  {
   "cell_type": "code",
   "execution_count": 11,
   "metadata": {},
   "outputs": [
    {
     "data": {
      "text/html": [
       "<style  type=\"text/css\" >\n",
       "#T_0a3aeec4_5e8a_11eb_834a_acde48001122row0_col0,#T_0a3aeec4_5e8a_11eb_834a_acde48001122row0_col1,#T_0a3aeec4_5e8a_11eb_834a_acde48001122row1_col0,#T_0a3aeec4_5e8a_11eb_834a_acde48001122row1_col1,#T_0a3aeec4_5e8a_11eb_834a_acde48001122row2_col0,#T_0a3aeec4_5e8a_11eb_834a_acde48001122row2_col1{\n",
       "            text-align:  left;\n",
       "        }</style><table id=\"T_0a3aeec4_5e8a_11eb_834a_acde48001122\" ><thead>    <tr>        <th class=\"blank level0\" ></th>        <th class=\"col_heading level0 col0\" >Total Count</th>        <th class=\"col_heading level0 col1\" >Percentage of Players</th>    </tr>    <tr>        <th class=\"index_name level0\" >Gender</th>        <th class=\"blank\" ></th>        <th class=\"blank\" ></th>    </tr></thead><tbody>\n",
       "                <tr>\n",
       "                        <th id=\"T_0a3aeec4_5e8a_11eb_834a_acde48001122level0_row0\" class=\"row_heading level0 row0\" >Male</th>\n",
       "                        <td id=\"T_0a3aeec4_5e8a_11eb_834a_acde48001122row0_col0\" class=\"data row0 col0\" >484</td>\n",
       "                        <td id=\"T_0a3aeec4_5e8a_11eb_834a_acde48001122row0_col1\" class=\"data row0 col1\" >84.03%</td>\n",
       "            </tr>\n",
       "            <tr>\n",
       "                        <th id=\"T_0a3aeec4_5e8a_11eb_834a_acde48001122level0_row1\" class=\"row_heading level0 row1\" >Female</th>\n",
       "                        <td id=\"T_0a3aeec4_5e8a_11eb_834a_acde48001122row1_col0\" class=\"data row1 col0\" >81</td>\n",
       "                        <td id=\"T_0a3aeec4_5e8a_11eb_834a_acde48001122row1_col1\" class=\"data row1 col1\" >14.06%</td>\n",
       "            </tr>\n",
       "            <tr>\n",
       "                        <th id=\"T_0a3aeec4_5e8a_11eb_834a_acde48001122level0_row2\" class=\"row_heading level0 row2\" >Other / Non-Disclosed</th>\n",
       "                        <td id=\"T_0a3aeec4_5e8a_11eb_834a_acde48001122row2_col0\" class=\"data row2 col0\" >11</td>\n",
       "                        <td id=\"T_0a3aeec4_5e8a_11eb_834a_acde48001122row2_col1\" class=\"data row2 col1\" >1.91%</td>\n",
       "            </tr>\n",
       "    </tbody></table>"
      ],
      "text/plain": [
       "<pandas.io.formats.style.Styler at 0x7ff65b210bb0>"
      ]
     },
     "execution_count": 11,
     "metadata": {},
     "output_type": "execute_result"
    }
   ],
   "source": [
    "#create table, add column titles, and place data\n",
    "pymoli_gender = pd.DataFrame({\"Total Count\": heroes_gender, \"Percentage of Players\": pymoligender_percentage})\n",
    "\n",
    "#sort by total count and format table to print\n",
    "pymoli_gender.sort_values(['Total Count'], ascending=False).style.format({\"Percentage of Players\":\"{:.2f}%\"}).set_properties(**{'text-align':'left'})"
   ]
  },
  {
   "cell_type": "code",
   "execution_count": null,
   "metadata": {},
   "outputs": [],
   "source": []
  },
  {
   "cell_type": "markdown",
   "metadata": {},
   "source": [
    "## _Purchasing Analysis (Gender)_"
   ]
  },
  {
   "cell_type": "code",
   "execution_count": 12,
   "metadata": {},
   "outputs": [],
   "source": [
    "#\n",
    "purchase_count = pymoli_heroes.groupby('Gender').agg({\n",
    "    'Purchase ID':['count'],\n",
    "    'Price':['mean','sum']})"
   ]
  },
  {
   "cell_type": "code",
   "execution_count": 13,
   "metadata": {},
   "outputs": [
    {
     "data": {
      "text/html": [
       "<style  type=\"text/css\" >\n",
       "#T_2444ba8e_5e8a_11eb_834a_acde48001122row0_col0,#T_2444ba8e_5e8a_11eb_834a_acde48001122row0_col1,#T_2444ba8e_5e8a_11eb_834a_acde48001122row0_col2,#T_2444ba8e_5e8a_11eb_834a_acde48001122row1_col0,#T_2444ba8e_5e8a_11eb_834a_acde48001122row1_col1,#T_2444ba8e_5e8a_11eb_834a_acde48001122row1_col2,#T_2444ba8e_5e8a_11eb_834a_acde48001122row2_col0,#T_2444ba8e_5e8a_11eb_834a_acde48001122row2_col1,#T_2444ba8e_5e8a_11eb_834a_acde48001122row2_col2{\n",
       "            text-align:  left;\n",
       "        }</style><table id=\"T_2444ba8e_5e8a_11eb_834a_acde48001122\" ><thead>    <tr>        <th class=\"blank level0\" ></th>        <th class=\"col_heading level0 col0\" >Purchase ID</th>        <th class=\"col_heading level0 col1\" colspan=2>Price</th>    </tr>    <tr>        <th class=\"blank level1\" ></th>        <th class=\"col_heading level1 col0\" >count</th>        <th class=\"col_heading level1 col1\" >mean</th>        <th class=\"col_heading level1 col2\" >sum</th>    </tr>    <tr>        <th class=\"index_name level0\" >Gender</th>        <th class=\"blank\" ></th>        <th class=\"blank\" ></th>        <th class=\"blank\" ></th>    </tr></thead><tbody>\n",
       "                <tr>\n",
       "                        <th id=\"T_2444ba8e_5e8a_11eb_834a_acde48001122level0_row0\" class=\"row_heading level0 row0\" >Female</th>\n",
       "                        <td id=\"T_2444ba8e_5e8a_11eb_834a_acde48001122row0_col0\" class=\"data row0 col0\" >113</td>\n",
       "                        <td id=\"T_2444ba8e_5e8a_11eb_834a_acde48001122row0_col1\" class=\"data row0 col1\" >3.203009</td>\n",
       "                        <td id=\"T_2444ba8e_5e8a_11eb_834a_acde48001122row0_col2\" class=\"data row0 col2\" >361.940000</td>\n",
       "            </tr>\n",
       "            <tr>\n",
       "                        <th id=\"T_2444ba8e_5e8a_11eb_834a_acde48001122level0_row1\" class=\"row_heading level0 row1\" >Male</th>\n",
       "                        <td id=\"T_2444ba8e_5e8a_11eb_834a_acde48001122row1_col0\" class=\"data row1 col0\" >652</td>\n",
       "                        <td id=\"T_2444ba8e_5e8a_11eb_834a_acde48001122row1_col1\" class=\"data row1 col1\" >3.017853</td>\n",
       "                        <td id=\"T_2444ba8e_5e8a_11eb_834a_acde48001122row1_col2\" class=\"data row1 col2\" >1967.640000</td>\n",
       "            </tr>\n",
       "            <tr>\n",
       "                        <th id=\"T_2444ba8e_5e8a_11eb_834a_acde48001122level0_row2\" class=\"row_heading level0 row2\" >Other / Non-Disclosed</th>\n",
       "                        <td id=\"T_2444ba8e_5e8a_11eb_834a_acde48001122row2_col0\" class=\"data row2 col0\" >15</td>\n",
       "                        <td id=\"T_2444ba8e_5e8a_11eb_834a_acde48001122row2_col1\" class=\"data row2 col1\" >3.346000</td>\n",
       "                        <td id=\"T_2444ba8e_5e8a_11eb_834a_acde48001122row2_col2\" class=\"data row2 col2\" >50.190000</td>\n",
       "            </tr>\n",
       "    </tbody></table>"
      ],
      "text/plain": [
       "<pandas.io.formats.style.Styler at 0x7ff65b36d640>"
      ]
     },
     "execution_count": 13,
     "metadata": {},
     "output_type": "execute_result"
    }
   ],
   "source": [
    "purchase_count.style.set_properties(**{'text-align':'left'})"
   ]
  },
  {
   "cell_type": "code",
   "execution_count": null,
   "metadata": {},
   "outputs": [],
   "source": []
  },
  {
   "cell_type": "code",
   "execution_count": null,
   "metadata": {},
   "outputs": [],
   "source": []
  },
  {
   "cell_type": "code",
   "execution_count": null,
   "metadata": {},
   "outputs": [],
   "source": []
  },
  {
   "cell_type": "code",
   "execution_count": null,
   "metadata": {},
   "outputs": [],
   "source": []
  },
  {
   "cell_type": "code",
   "execution_count": null,
   "metadata": {},
   "outputs": [],
   "source": []
  },
  {
   "cell_type": "code",
   "execution_count": null,
   "metadata": {},
   "outputs": [],
   "source": []
  }
 ],
 "metadata": {
  "kernelspec": {
   "display_name": "Python 3",
   "language": "python",
   "name": "python3"
  },
  "language_info": {
   "codemirror_mode": {
    "name": "ipython",
    "version": 3
   },
   "file_extension": ".py",
   "mimetype": "text/x-python",
   "name": "python",
   "nbconvert_exporter": "python",
   "pygments_lexer": "ipython3",
   "version": "3.8.5"
  }
 },
 "nbformat": 4,
 "nbformat_minor": 4
}
