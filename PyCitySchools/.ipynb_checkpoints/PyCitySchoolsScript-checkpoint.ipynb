{
 "cells": [
  {
   "cell_type": "markdown",
   "metadata": {},
   "source": [
    "# __PyCity Schools__"
   ]
  },
  {
   "cell_type": "markdown",
   "metadata": {},
   "source": [
    "### PyCity Schools Analysis\n",
    "\n",
    "After analyzing the math and reading scores of 15 schools within the PyCity School District, some general conclusions can be drawn from the following summaries.\n",
    "\n",
    "#### Obserable Trends\n",
    "* School budgets and spending per student does not seem to have an impact on student's success, but school size does. By comparing the top and worst performing schools, the top schools spent an average of 606.40 per student and the worst schools actually spent more with an average of 646.60 per student. The school size of these schools though does apear to have an influence, the top schools have an average of 1,641 students and the worst schools have an average of 3,852 students.\n",
    "\n",
    "* The school type also appears to have an affect on the success of their students, but this may be mainly because of the school size trends of the Charter and Distrcit schools. The Charter schools have an average of 1,524 students and the District schools have an average of 3,852 students. Further information would be required to analyze whether Charter are actually better than District schools.\n",
    "\n",
    "#### Future Study\n",
    "* More information, i.e. other subject grades, classroom sizes, budget allocations, faculty demographics, and extracurricular activities would be interesting information to analyze and view trends between the Charter and Distrcit schools."
   ]
  },
  {
   "cell_type": "code",
   "execution_count": 143,
   "metadata": {},
   "outputs": [],
   "source": [
    "#import python libraries\n",
    "import pandas as pd\n",
    "\n",
    "#specifying data\n",
    "schooldata_file = \"Resources/schools_complete.csv\"\n",
    "studentdata_file = \"Resources/students_complete.csv\"\n",
    "\n",
    "#reading files into pandas\n",
    "school_data = pd.read_csv(schooldata_file)\n",
    "student_data = pd.read_csv(studentdata_file)\n",
    "\n",
    "#combining data\n",
    "pycity_data = pd.merge(student_data, school_data, how=\"left\", on=[\"school_name\",\"school_name\"])"
   ]
  },
  {
   "cell_type": "code",
   "execution_count": null,
   "metadata": {},
   "outputs": [],
   "source": []
  },
  {
   "cell_type": "markdown",
   "metadata": {},
   "source": [
    "## _District Summary_"
   ]
  },
  {
   "cell_type": "code",
   "execution_count": 144,
   "metadata": {},
   "outputs": [],
   "source": [
    "#calculate total number of schools, numbers, and budget\n",
    "school_count = len(pycity_data[\"School ID\"].unique())\n",
    "student_count = len(pycity_data[\"Student ID\"].unique())\n",
    "district_budget = school_data[\"budget\"].sum()\n",
    "\n",
    "#calculate average math and reading score\n",
    "averagedistrict_math = pycity_data[\"math_score\"].mean()\n",
    "averagedistrict_read = pycity_data[\"reading_score\"].mean()\n",
    "\n",
    "#calculate percentage of students passing math scores, passing reading scores, and both\n",
    "passingmath = (pycity_data[\"math_score\"] >= 70).sum()/student_count\n",
    "passingreading = (pycity_data[\"reading_score\"] >= 70).sum()/student_count\n",
    "passingoverall = ((pycity_data[\"math_score\"] >= 70) & (pycity_data[\"reading_score\"] >= 70)).sum() / student_count"
   ]
  },
  {
   "cell_type": "code",
   "execution_count": 145,
   "metadata": {},
   "outputs": [],
   "source": [
    "#create district summary table\n",
    "district_summary = pd.DataFrame([\n",
    "    {\"Total Schools\": school_count,\n",
    "     \"Total Students\": student_count,\n",
    "     \"Total Budget\": district_budget,\n",
    "     \"Average Math Score\": averagedistrict_math,\n",
    "     \"Average Reading Score\": averagedistrict_read,\n",
    "     \"% Passing Math\": passingmath,\n",
    "     \"% Passing Reading\": passingreading,\n",
    "     \"% Overall Passing\": passingoverall}\n",
    "])"
   ]
  },
  {
   "cell_type": "code",
   "execution_count": 146,
   "metadata": {},
   "outputs": [
    {
     "data": {
      "text/html": [
       "<style  type=\"text/css\" >\n",
       "#T_33f58474_5e92_11eb_94f9_acde48001122row0_col0,#T_33f58474_5e92_11eb_94f9_acde48001122row0_col1,#T_33f58474_5e92_11eb_94f9_acde48001122row0_col2,#T_33f58474_5e92_11eb_94f9_acde48001122row0_col3,#T_33f58474_5e92_11eb_94f9_acde48001122row0_col4,#T_33f58474_5e92_11eb_94f9_acde48001122row0_col5,#T_33f58474_5e92_11eb_94f9_acde48001122row0_col6,#T_33f58474_5e92_11eb_94f9_acde48001122row0_col7{\n",
       "            text-align:  left;\n",
       "        }</style><table id=\"T_33f58474_5e92_11eb_94f9_acde48001122\" ><thead>    <tr>        <th class=\"col_heading level0 col0\" >Total Schools</th>        <th class=\"col_heading level0 col1\" >Total Students</th>        <th class=\"col_heading level0 col2\" >Total Budget</th>        <th class=\"col_heading level0 col3\" >Average Math Score</th>        <th class=\"col_heading level0 col4\" >Average Reading Score</th>        <th class=\"col_heading level0 col5\" >% Passing Math</th>        <th class=\"col_heading level0 col6\" >% Passing Reading</th>        <th class=\"col_heading level0 col7\" >% Overall Passing</th>    </tr></thead><tbody>\n",
       "                <tr>\n",
       "                                <td id=\"T_33f58474_5e92_11eb_94f9_acde48001122row0_col0\" class=\"data row0 col0\" >15</td>\n",
       "                        <td id=\"T_33f58474_5e92_11eb_94f9_acde48001122row0_col1\" class=\"data row0 col1\" >39,170</td>\n",
       "                        <td id=\"T_33f58474_5e92_11eb_94f9_acde48001122row0_col2\" class=\"data row0 col2\" >$24,649,428.00</td>\n",
       "                        <td id=\"T_33f58474_5e92_11eb_94f9_acde48001122row0_col3\" class=\"data row0 col3\" >78.985371</td>\n",
       "                        <td id=\"T_33f58474_5e92_11eb_94f9_acde48001122row0_col4\" class=\"data row0 col4\" >81.877840</td>\n",
       "                        <td id=\"T_33f58474_5e92_11eb_94f9_acde48001122row0_col5\" class=\"data row0 col5\" >74.980853%</td>\n",
       "                        <td id=\"T_33f58474_5e92_11eb_94f9_acde48001122row0_col6\" class=\"data row0 col6\" >85.805463%</td>\n",
       "                        <td id=\"T_33f58474_5e92_11eb_94f9_acde48001122row0_col7\" class=\"data row0 col7\" >65.172326%</td>\n",
       "            </tr>\n",
       "    </tbody></table>"
      ],
      "text/plain": [
       "<pandas.io.formats.style.Styler at 0x7f8429475190>"
      ]
     },
     "execution_count": 146,
     "metadata": {},
     "output_type": "execute_result"
    }
   ],
   "source": [
    "#format district summary table\n",
    "district_dict = {'Total Students': '{0:,.0f}', 'Total Budget':'${0:,.2f}',\n",
    "               '% Passing Math': '{:%}', '% Passing Reading': '{:%}', '% Overall Passing': '{:%}'}\n",
    "district_summary.style.format(district_dict).set_properties(**{'text-align':'left'}).hide_index()"
   ]
  },
  {
   "cell_type": "code",
   "execution_count": null,
   "metadata": {},
   "outputs": [],
   "source": []
  },
  {
   "cell_type": "markdown",
   "metadata": {},
   "source": [
    "## _School Summary_"
   ]
  },
  {
   "cell_type": "code",
   "execution_count": 147,
   "metadata": {},
   "outputs": [],
   "source": [
    "#create dataframe for school summary analysis\n",
    "school_summary = pycity_data.groupby('school_name').agg({\n",
    "    'type':['max'],\n",
    "    'Student ID':['count'],\n",
    "    'budget':['max'],\n",
    "    'math_score':['mean'],\n",
    "    'reading_score':['mean']})\n",
    "\n",
    "#rename column titles and create new datasets\n",
    "school_summary.columns = [\"School Type\", \"Total Students\", \"Total School Budget\", \"Average Math Score\", \"Average Reading Score\"]\n",
    "\n",
    "#calculate the school budget per student column\n",
    "school_summary[\"Per Student Budget\"] = school_summary[\"Total School Budget\"]/school_summary[\"Total Students\"]\n",
    "\n",
    "#pre-calculation for percentage of students passing math scores, passing reading scores, and both by school\n",
    "passingmath_school = pycity_data.loc[pycity_data['math_score'] >= 70].groupby('school_name').count()['size']\n",
    "passingread_school = pycity_data.loc[pycity_data['reading_score'] >= 70].groupby('school_name').count()['size']\n",
    "passingoverall_school = pycity_data.loc[\n",
    "    (pycity_data['math_score'] >= 70)\n",
    "    &(pycity_data['reading_score'] >= 70)\n",
    "    ].groupby('school_name').count()['size']\n",
    "\n",
    "#calculate for percentage of students passing math scores, passing reading scores, and both by school\n",
    "school_summary[\"% Passing Math\"] = passingmath_school / school_summary[\"Total Students\"]*100\n",
    "school_summary[\"% Passing Reading\"] = passingread_school / school_summary[\"Total Students\"]*100\n",
    "school_summary[\"% Overall Passing\"] = passingoverall_school / school_summary[\"Total Students\"]*100"
   ]
  },
  {
   "cell_type": "code",
   "execution_count": 148,
   "metadata": {},
   "outputs": [
    {
     "data": {
      "text/html": [
       "<style  type=\"text/css\" >\n",
       "#T_344e91a4_5e92_11eb_94f9_acde48001122row0_col0,#T_344e91a4_5e92_11eb_94f9_acde48001122row0_col1,#T_344e91a4_5e92_11eb_94f9_acde48001122row0_col2,#T_344e91a4_5e92_11eb_94f9_acde48001122row0_col3,#T_344e91a4_5e92_11eb_94f9_acde48001122row0_col4,#T_344e91a4_5e92_11eb_94f9_acde48001122row0_col5,#T_344e91a4_5e92_11eb_94f9_acde48001122row0_col6,#T_344e91a4_5e92_11eb_94f9_acde48001122row0_col7,#T_344e91a4_5e92_11eb_94f9_acde48001122row0_col8,#T_344e91a4_5e92_11eb_94f9_acde48001122row1_col0,#T_344e91a4_5e92_11eb_94f9_acde48001122row1_col1,#T_344e91a4_5e92_11eb_94f9_acde48001122row1_col2,#T_344e91a4_5e92_11eb_94f9_acde48001122row1_col3,#T_344e91a4_5e92_11eb_94f9_acde48001122row1_col4,#T_344e91a4_5e92_11eb_94f9_acde48001122row1_col5,#T_344e91a4_5e92_11eb_94f9_acde48001122row1_col6,#T_344e91a4_5e92_11eb_94f9_acde48001122row1_col7,#T_344e91a4_5e92_11eb_94f9_acde48001122row1_col8,#T_344e91a4_5e92_11eb_94f9_acde48001122row2_col0,#T_344e91a4_5e92_11eb_94f9_acde48001122row2_col1,#T_344e91a4_5e92_11eb_94f9_acde48001122row2_col2,#T_344e91a4_5e92_11eb_94f9_acde48001122row2_col3,#T_344e91a4_5e92_11eb_94f9_acde48001122row2_col4,#T_344e91a4_5e92_11eb_94f9_acde48001122row2_col5,#T_344e91a4_5e92_11eb_94f9_acde48001122row2_col6,#T_344e91a4_5e92_11eb_94f9_acde48001122row2_col7,#T_344e91a4_5e92_11eb_94f9_acde48001122row2_col8,#T_344e91a4_5e92_11eb_94f9_acde48001122row3_col0,#T_344e91a4_5e92_11eb_94f9_acde48001122row3_col1,#T_344e91a4_5e92_11eb_94f9_acde48001122row3_col2,#T_344e91a4_5e92_11eb_94f9_acde48001122row3_col3,#T_344e91a4_5e92_11eb_94f9_acde48001122row3_col4,#T_344e91a4_5e92_11eb_94f9_acde48001122row3_col5,#T_344e91a4_5e92_11eb_94f9_acde48001122row3_col6,#T_344e91a4_5e92_11eb_94f9_acde48001122row3_col7,#T_344e91a4_5e92_11eb_94f9_acde48001122row3_col8,#T_344e91a4_5e92_11eb_94f9_acde48001122row4_col0,#T_344e91a4_5e92_11eb_94f9_acde48001122row4_col1,#T_344e91a4_5e92_11eb_94f9_acde48001122row4_col2,#T_344e91a4_5e92_11eb_94f9_acde48001122row4_col3,#T_344e91a4_5e92_11eb_94f9_acde48001122row4_col4,#T_344e91a4_5e92_11eb_94f9_acde48001122row4_col5,#T_344e91a4_5e92_11eb_94f9_acde48001122row4_col6,#T_344e91a4_5e92_11eb_94f9_acde48001122row4_col7,#T_344e91a4_5e92_11eb_94f9_acde48001122row4_col8,#T_344e91a4_5e92_11eb_94f9_acde48001122row5_col0,#T_344e91a4_5e92_11eb_94f9_acde48001122row5_col1,#T_344e91a4_5e92_11eb_94f9_acde48001122row5_col2,#T_344e91a4_5e92_11eb_94f9_acde48001122row5_col3,#T_344e91a4_5e92_11eb_94f9_acde48001122row5_col4,#T_344e91a4_5e92_11eb_94f9_acde48001122row5_col5,#T_344e91a4_5e92_11eb_94f9_acde48001122row5_col6,#T_344e91a4_5e92_11eb_94f9_acde48001122row5_col7,#T_344e91a4_5e92_11eb_94f9_acde48001122row5_col8,#T_344e91a4_5e92_11eb_94f9_acde48001122row6_col0,#T_344e91a4_5e92_11eb_94f9_acde48001122row6_col1,#T_344e91a4_5e92_11eb_94f9_acde48001122row6_col2,#T_344e91a4_5e92_11eb_94f9_acde48001122row6_col3,#T_344e91a4_5e92_11eb_94f9_acde48001122row6_col4,#T_344e91a4_5e92_11eb_94f9_acde48001122row6_col5,#T_344e91a4_5e92_11eb_94f9_acde48001122row6_col6,#T_344e91a4_5e92_11eb_94f9_acde48001122row6_col7,#T_344e91a4_5e92_11eb_94f9_acde48001122row6_col8,#T_344e91a4_5e92_11eb_94f9_acde48001122row7_col0,#T_344e91a4_5e92_11eb_94f9_acde48001122row7_col1,#T_344e91a4_5e92_11eb_94f9_acde48001122row7_col2,#T_344e91a4_5e92_11eb_94f9_acde48001122row7_col3,#T_344e91a4_5e92_11eb_94f9_acde48001122row7_col4,#T_344e91a4_5e92_11eb_94f9_acde48001122row7_col5,#T_344e91a4_5e92_11eb_94f9_acde48001122row7_col6,#T_344e91a4_5e92_11eb_94f9_acde48001122row7_col7,#T_344e91a4_5e92_11eb_94f9_acde48001122row7_col8,#T_344e91a4_5e92_11eb_94f9_acde48001122row8_col0,#T_344e91a4_5e92_11eb_94f9_acde48001122row8_col1,#T_344e91a4_5e92_11eb_94f9_acde48001122row8_col2,#T_344e91a4_5e92_11eb_94f9_acde48001122row8_col3,#T_344e91a4_5e92_11eb_94f9_acde48001122row8_col4,#T_344e91a4_5e92_11eb_94f9_acde48001122row8_col5,#T_344e91a4_5e92_11eb_94f9_acde48001122row8_col6,#T_344e91a4_5e92_11eb_94f9_acde48001122row8_col7,#T_344e91a4_5e92_11eb_94f9_acde48001122row8_col8,#T_344e91a4_5e92_11eb_94f9_acde48001122row9_col0,#T_344e91a4_5e92_11eb_94f9_acde48001122row9_col1,#T_344e91a4_5e92_11eb_94f9_acde48001122row9_col2,#T_344e91a4_5e92_11eb_94f9_acde48001122row9_col3,#T_344e91a4_5e92_11eb_94f9_acde48001122row9_col4,#T_344e91a4_5e92_11eb_94f9_acde48001122row9_col5,#T_344e91a4_5e92_11eb_94f9_acde48001122row9_col6,#T_344e91a4_5e92_11eb_94f9_acde48001122row9_col7,#T_344e91a4_5e92_11eb_94f9_acde48001122row9_col8,#T_344e91a4_5e92_11eb_94f9_acde48001122row10_col0,#T_344e91a4_5e92_11eb_94f9_acde48001122row10_col1,#T_344e91a4_5e92_11eb_94f9_acde48001122row10_col2,#T_344e91a4_5e92_11eb_94f9_acde48001122row10_col3,#T_344e91a4_5e92_11eb_94f9_acde48001122row10_col4,#T_344e91a4_5e92_11eb_94f9_acde48001122row10_col5,#T_344e91a4_5e92_11eb_94f9_acde48001122row10_col6,#T_344e91a4_5e92_11eb_94f9_acde48001122row10_col7,#T_344e91a4_5e92_11eb_94f9_acde48001122row10_col8,#T_344e91a4_5e92_11eb_94f9_acde48001122row11_col0,#T_344e91a4_5e92_11eb_94f9_acde48001122row11_col1,#T_344e91a4_5e92_11eb_94f9_acde48001122row11_col2,#T_344e91a4_5e92_11eb_94f9_acde48001122row11_col3,#T_344e91a4_5e92_11eb_94f9_acde48001122row11_col4,#T_344e91a4_5e92_11eb_94f9_acde48001122row11_col5,#T_344e91a4_5e92_11eb_94f9_acde48001122row11_col6,#T_344e91a4_5e92_11eb_94f9_acde48001122row11_col7,#T_344e91a4_5e92_11eb_94f9_acde48001122row11_col8,#T_344e91a4_5e92_11eb_94f9_acde48001122row12_col0,#T_344e91a4_5e92_11eb_94f9_acde48001122row12_col1,#T_344e91a4_5e92_11eb_94f9_acde48001122row12_col2,#T_344e91a4_5e92_11eb_94f9_acde48001122row12_col3,#T_344e91a4_5e92_11eb_94f9_acde48001122row12_col4,#T_344e91a4_5e92_11eb_94f9_acde48001122row12_col5,#T_344e91a4_5e92_11eb_94f9_acde48001122row12_col6,#T_344e91a4_5e92_11eb_94f9_acde48001122row12_col7,#T_344e91a4_5e92_11eb_94f9_acde48001122row12_col8,#T_344e91a4_5e92_11eb_94f9_acde48001122row13_col0,#T_344e91a4_5e92_11eb_94f9_acde48001122row13_col1,#T_344e91a4_5e92_11eb_94f9_acde48001122row13_col2,#T_344e91a4_5e92_11eb_94f9_acde48001122row13_col3,#T_344e91a4_5e92_11eb_94f9_acde48001122row13_col4,#T_344e91a4_5e92_11eb_94f9_acde48001122row13_col5,#T_344e91a4_5e92_11eb_94f9_acde48001122row13_col6,#T_344e91a4_5e92_11eb_94f9_acde48001122row13_col7,#T_344e91a4_5e92_11eb_94f9_acde48001122row13_col8,#T_344e91a4_5e92_11eb_94f9_acde48001122row14_col0,#T_344e91a4_5e92_11eb_94f9_acde48001122row14_col1,#T_344e91a4_5e92_11eb_94f9_acde48001122row14_col2,#T_344e91a4_5e92_11eb_94f9_acde48001122row14_col3,#T_344e91a4_5e92_11eb_94f9_acde48001122row14_col4,#T_344e91a4_5e92_11eb_94f9_acde48001122row14_col5,#T_344e91a4_5e92_11eb_94f9_acde48001122row14_col6,#T_344e91a4_5e92_11eb_94f9_acde48001122row14_col7,#T_344e91a4_5e92_11eb_94f9_acde48001122row14_col8{\n",
       "            text-align:  left;\n",
       "        }</style><table id=\"T_344e91a4_5e92_11eb_94f9_acde48001122\" ><thead>    <tr>        <th class=\"blank level0\" ></th>        <th class=\"col_heading level0 col0\" >School Type</th>        <th class=\"col_heading level0 col1\" >Total Students</th>        <th class=\"col_heading level0 col2\" >Total School Budget</th>        <th class=\"col_heading level0 col3\" >Per Student Budget</th>        <th class=\"col_heading level0 col4\" >Average Math Score</th>        <th class=\"col_heading level0 col5\" >Average Reading Score</th>        <th class=\"col_heading level0 col6\" >% Passing Math</th>        <th class=\"col_heading level0 col7\" >% Passing Reading</th>        <th class=\"col_heading level0 col8\" >% Overall Passing</th>    </tr>    <tr>        <th class=\"index_name level0\" >School Name</th>        <th class=\"blank\" ></th>        <th class=\"blank\" ></th>        <th class=\"blank\" ></th>        <th class=\"blank\" ></th>        <th class=\"blank\" ></th>        <th class=\"blank\" ></th>        <th class=\"blank\" ></th>        <th class=\"blank\" ></th>        <th class=\"blank\" ></th>    </tr></thead><tbody>\n",
       "                <tr>\n",
       "                        <th id=\"T_344e91a4_5e92_11eb_94f9_acde48001122level0_row0\" class=\"row_heading level0 row0\" >Bailey High School</th>\n",
       "                        <td id=\"T_344e91a4_5e92_11eb_94f9_acde48001122row0_col0\" class=\"data row0 col0\" >District</td>\n",
       "                        <td id=\"T_344e91a4_5e92_11eb_94f9_acde48001122row0_col1\" class=\"data row0 col1\" >4,976</td>\n",
       "                        <td id=\"T_344e91a4_5e92_11eb_94f9_acde48001122row0_col2\" class=\"data row0 col2\" >$3,124,928.00</td>\n",
       "                        <td id=\"T_344e91a4_5e92_11eb_94f9_acde48001122row0_col3\" class=\"data row0 col3\" >$628.00</td>\n",
       "                        <td id=\"T_344e91a4_5e92_11eb_94f9_acde48001122row0_col4\" class=\"data row0 col4\" >77.048432</td>\n",
       "                        <td id=\"T_344e91a4_5e92_11eb_94f9_acde48001122row0_col5\" class=\"data row0 col5\" >81.033963</td>\n",
       "                        <td id=\"T_344e91a4_5e92_11eb_94f9_acde48001122row0_col6\" class=\"data row0 col6\" >66.680064</td>\n",
       "                        <td id=\"T_344e91a4_5e92_11eb_94f9_acde48001122row0_col7\" class=\"data row0 col7\" >81.933280</td>\n",
       "                        <td id=\"T_344e91a4_5e92_11eb_94f9_acde48001122row0_col8\" class=\"data row0 col8\" >54.642283</td>\n",
       "            </tr>\n",
       "            <tr>\n",
       "                        <th id=\"T_344e91a4_5e92_11eb_94f9_acde48001122level0_row1\" class=\"row_heading level0 row1\" >Cabrera High School</th>\n",
       "                        <td id=\"T_344e91a4_5e92_11eb_94f9_acde48001122row1_col0\" class=\"data row1 col0\" >Charter</td>\n",
       "                        <td id=\"T_344e91a4_5e92_11eb_94f9_acde48001122row1_col1\" class=\"data row1 col1\" >1,858</td>\n",
       "                        <td id=\"T_344e91a4_5e92_11eb_94f9_acde48001122row1_col2\" class=\"data row1 col2\" >$1,081,356.00</td>\n",
       "                        <td id=\"T_344e91a4_5e92_11eb_94f9_acde48001122row1_col3\" class=\"data row1 col3\" >$582.00</td>\n",
       "                        <td id=\"T_344e91a4_5e92_11eb_94f9_acde48001122row1_col4\" class=\"data row1 col4\" >83.061895</td>\n",
       "                        <td id=\"T_344e91a4_5e92_11eb_94f9_acde48001122row1_col5\" class=\"data row1 col5\" >83.975780</td>\n",
       "                        <td id=\"T_344e91a4_5e92_11eb_94f9_acde48001122row1_col6\" class=\"data row1 col6\" >94.133477</td>\n",
       "                        <td id=\"T_344e91a4_5e92_11eb_94f9_acde48001122row1_col7\" class=\"data row1 col7\" >97.039828</td>\n",
       "                        <td id=\"T_344e91a4_5e92_11eb_94f9_acde48001122row1_col8\" class=\"data row1 col8\" >91.334769</td>\n",
       "            </tr>\n",
       "            <tr>\n",
       "                        <th id=\"T_344e91a4_5e92_11eb_94f9_acde48001122level0_row2\" class=\"row_heading level0 row2\" >Figueroa High School</th>\n",
       "                        <td id=\"T_344e91a4_5e92_11eb_94f9_acde48001122row2_col0\" class=\"data row2 col0\" >District</td>\n",
       "                        <td id=\"T_344e91a4_5e92_11eb_94f9_acde48001122row2_col1\" class=\"data row2 col1\" >2,949</td>\n",
       "                        <td id=\"T_344e91a4_5e92_11eb_94f9_acde48001122row2_col2\" class=\"data row2 col2\" >$1,884,411.00</td>\n",
       "                        <td id=\"T_344e91a4_5e92_11eb_94f9_acde48001122row2_col3\" class=\"data row2 col3\" >$639.00</td>\n",
       "                        <td id=\"T_344e91a4_5e92_11eb_94f9_acde48001122row2_col4\" class=\"data row2 col4\" >76.711767</td>\n",
       "                        <td id=\"T_344e91a4_5e92_11eb_94f9_acde48001122row2_col5\" class=\"data row2 col5\" >81.158020</td>\n",
       "                        <td id=\"T_344e91a4_5e92_11eb_94f9_acde48001122row2_col6\" class=\"data row2 col6\" >65.988471</td>\n",
       "                        <td id=\"T_344e91a4_5e92_11eb_94f9_acde48001122row2_col7\" class=\"data row2 col7\" >80.739234</td>\n",
       "                        <td id=\"T_344e91a4_5e92_11eb_94f9_acde48001122row2_col8\" class=\"data row2 col8\" >53.204476</td>\n",
       "            </tr>\n",
       "            <tr>\n",
       "                        <th id=\"T_344e91a4_5e92_11eb_94f9_acde48001122level0_row3\" class=\"row_heading level0 row3\" >Ford High School</th>\n",
       "                        <td id=\"T_344e91a4_5e92_11eb_94f9_acde48001122row3_col0\" class=\"data row3 col0\" >District</td>\n",
       "                        <td id=\"T_344e91a4_5e92_11eb_94f9_acde48001122row3_col1\" class=\"data row3 col1\" >2,739</td>\n",
       "                        <td id=\"T_344e91a4_5e92_11eb_94f9_acde48001122row3_col2\" class=\"data row3 col2\" >$1,763,916.00</td>\n",
       "                        <td id=\"T_344e91a4_5e92_11eb_94f9_acde48001122row3_col3\" class=\"data row3 col3\" >$644.00</td>\n",
       "                        <td id=\"T_344e91a4_5e92_11eb_94f9_acde48001122row3_col4\" class=\"data row3 col4\" >77.102592</td>\n",
       "                        <td id=\"T_344e91a4_5e92_11eb_94f9_acde48001122row3_col5\" class=\"data row3 col5\" >80.746258</td>\n",
       "                        <td id=\"T_344e91a4_5e92_11eb_94f9_acde48001122row3_col6\" class=\"data row3 col6\" >68.309602</td>\n",
       "                        <td id=\"T_344e91a4_5e92_11eb_94f9_acde48001122row3_col7\" class=\"data row3 col7\" >79.299014</td>\n",
       "                        <td id=\"T_344e91a4_5e92_11eb_94f9_acde48001122row3_col8\" class=\"data row3 col8\" >54.289887</td>\n",
       "            </tr>\n",
       "            <tr>\n",
       "                        <th id=\"T_344e91a4_5e92_11eb_94f9_acde48001122level0_row4\" class=\"row_heading level0 row4\" >Griffin High School</th>\n",
       "                        <td id=\"T_344e91a4_5e92_11eb_94f9_acde48001122row4_col0\" class=\"data row4 col0\" >Charter</td>\n",
       "                        <td id=\"T_344e91a4_5e92_11eb_94f9_acde48001122row4_col1\" class=\"data row4 col1\" >1,468</td>\n",
       "                        <td id=\"T_344e91a4_5e92_11eb_94f9_acde48001122row4_col2\" class=\"data row4 col2\" >$917,500.00</td>\n",
       "                        <td id=\"T_344e91a4_5e92_11eb_94f9_acde48001122row4_col3\" class=\"data row4 col3\" >$625.00</td>\n",
       "                        <td id=\"T_344e91a4_5e92_11eb_94f9_acde48001122row4_col4\" class=\"data row4 col4\" >83.351499</td>\n",
       "                        <td id=\"T_344e91a4_5e92_11eb_94f9_acde48001122row4_col5\" class=\"data row4 col5\" >83.816757</td>\n",
       "                        <td id=\"T_344e91a4_5e92_11eb_94f9_acde48001122row4_col6\" class=\"data row4 col6\" >93.392371</td>\n",
       "                        <td id=\"T_344e91a4_5e92_11eb_94f9_acde48001122row4_col7\" class=\"data row4 col7\" >97.138965</td>\n",
       "                        <td id=\"T_344e91a4_5e92_11eb_94f9_acde48001122row4_col8\" class=\"data row4 col8\" >90.599455</td>\n",
       "            </tr>\n",
       "            <tr>\n",
       "                        <th id=\"T_344e91a4_5e92_11eb_94f9_acde48001122level0_row5\" class=\"row_heading level0 row5\" >Hernandez High School</th>\n",
       "                        <td id=\"T_344e91a4_5e92_11eb_94f9_acde48001122row5_col0\" class=\"data row5 col0\" >District</td>\n",
       "                        <td id=\"T_344e91a4_5e92_11eb_94f9_acde48001122row5_col1\" class=\"data row5 col1\" >4,635</td>\n",
       "                        <td id=\"T_344e91a4_5e92_11eb_94f9_acde48001122row5_col2\" class=\"data row5 col2\" >$3,022,020.00</td>\n",
       "                        <td id=\"T_344e91a4_5e92_11eb_94f9_acde48001122row5_col3\" class=\"data row5 col3\" >$652.00</td>\n",
       "                        <td id=\"T_344e91a4_5e92_11eb_94f9_acde48001122row5_col4\" class=\"data row5 col4\" >77.289752</td>\n",
       "                        <td id=\"T_344e91a4_5e92_11eb_94f9_acde48001122row5_col5\" class=\"data row5 col5\" >80.934412</td>\n",
       "                        <td id=\"T_344e91a4_5e92_11eb_94f9_acde48001122row5_col6\" class=\"data row5 col6\" >66.752967</td>\n",
       "                        <td id=\"T_344e91a4_5e92_11eb_94f9_acde48001122row5_col7\" class=\"data row5 col7\" >80.862999</td>\n",
       "                        <td id=\"T_344e91a4_5e92_11eb_94f9_acde48001122row5_col8\" class=\"data row5 col8\" >53.527508</td>\n",
       "            </tr>\n",
       "            <tr>\n",
       "                        <th id=\"T_344e91a4_5e92_11eb_94f9_acde48001122level0_row6\" class=\"row_heading level0 row6\" >Holden High School</th>\n",
       "                        <td id=\"T_344e91a4_5e92_11eb_94f9_acde48001122row6_col0\" class=\"data row6 col0\" >Charter</td>\n",
       "                        <td id=\"T_344e91a4_5e92_11eb_94f9_acde48001122row6_col1\" class=\"data row6 col1\" >427</td>\n",
       "                        <td id=\"T_344e91a4_5e92_11eb_94f9_acde48001122row6_col2\" class=\"data row6 col2\" >$248,087.00</td>\n",
       "                        <td id=\"T_344e91a4_5e92_11eb_94f9_acde48001122row6_col3\" class=\"data row6 col3\" >$581.00</td>\n",
       "                        <td id=\"T_344e91a4_5e92_11eb_94f9_acde48001122row6_col4\" class=\"data row6 col4\" >83.803279</td>\n",
       "                        <td id=\"T_344e91a4_5e92_11eb_94f9_acde48001122row6_col5\" class=\"data row6 col5\" >83.814988</td>\n",
       "                        <td id=\"T_344e91a4_5e92_11eb_94f9_acde48001122row6_col6\" class=\"data row6 col6\" >92.505855</td>\n",
       "                        <td id=\"T_344e91a4_5e92_11eb_94f9_acde48001122row6_col7\" class=\"data row6 col7\" >96.252927</td>\n",
       "                        <td id=\"T_344e91a4_5e92_11eb_94f9_acde48001122row6_col8\" class=\"data row6 col8\" >89.227166</td>\n",
       "            </tr>\n",
       "            <tr>\n",
       "                        <th id=\"T_344e91a4_5e92_11eb_94f9_acde48001122level0_row7\" class=\"row_heading level0 row7\" >Huang High School</th>\n",
       "                        <td id=\"T_344e91a4_5e92_11eb_94f9_acde48001122row7_col0\" class=\"data row7 col0\" >District</td>\n",
       "                        <td id=\"T_344e91a4_5e92_11eb_94f9_acde48001122row7_col1\" class=\"data row7 col1\" >2,917</td>\n",
       "                        <td id=\"T_344e91a4_5e92_11eb_94f9_acde48001122row7_col2\" class=\"data row7 col2\" >$1,910,635.00</td>\n",
       "                        <td id=\"T_344e91a4_5e92_11eb_94f9_acde48001122row7_col3\" class=\"data row7 col3\" >$655.00</td>\n",
       "                        <td id=\"T_344e91a4_5e92_11eb_94f9_acde48001122row7_col4\" class=\"data row7 col4\" >76.629414</td>\n",
       "                        <td id=\"T_344e91a4_5e92_11eb_94f9_acde48001122row7_col5\" class=\"data row7 col5\" >81.182722</td>\n",
       "                        <td id=\"T_344e91a4_5e92_11eb_94f9_acde48001122row7_col6\" class=\"data row7 col6\" >65.683922</td>\n",
       "                        <td id=\"T_344e91a4_5e92_11eb_94f9_acde48001122row7_col7\" class=\"data row7 col7\" >81.316421</td>\n",
       "                        <td id=\"T_344e91a4_5e92_11eb_94f9_acde48001122row7_col8\" class=\"data row7 col8\" >53.513884</td>\n",
       "            </tr>\n",
       "            <tr>\n",
       "                        <th id=\"T_344e91a4_5e92_11eb_94f9_acde48001122level0_row8\" class=\"row_heading level0 row8\" >Johnson High School</th>\n",
       "                        <td id=\"T_344e91a4_5e92_11eb_94f9_acde48001122row8_col0\" class=\"data row8 col0\" >District</td>\n",
       "                        <td id=\"T_344e91a4_5e92_11eb_94f9_acde48001122row8_col1\" class=\"data row8 col1\" >4,761</td>\n",
       "                        <td id=\"T_344e91a4_5e92_11eb_94f9_acde48001122row8_col2\" class=\"data row8 col2\" >$3,094,650.00</td>\n",
       "                        <td id=\"T_344e91a4_5e92_11eb_94f9_acde48001122row8_col3\" class=\"data row8 col3\" >$650.00</td>\n",
       "                        <td id=\"T_344e91a4_5e92_11eb_94f9_acde48001122row8_col4\" class=\"data row8 col4\" >77.072464</td>\n",
       "                        <td id=\"T_344e91a4_5e92_11eb_94f9_acde48001122row8_col5\" class=\"data row8 col5\" >80.966394</td>\n",
       "                        <td id=\"T_344e91a4_5e92_11eb_94f9_acde48001122row8_col6\" class=\"data row8 col6\" >66.057551</td>\n",
       "                        <td id=\"T_344e91a4_5e92_11eb_94f9_acde48001122row8_col7\" class=\"data row8 col7\" >81.222432</td>\n",
       "                        <td id=\"T_344e91a4_5e92_11eb_94f9_acde48001122row8_col8\" class=\"data row8 col8\" >53.539172</td>\n",
       "            </tr>\n",
       "            <tr>\n",
       "                        <th id=\"T_344e91a4_5e92_11eb_94f9_acde48001122level0_row9\" class=\"row_heading level0 row9\" >Pena High School</th>\n",
       "                        <td id=\"T_344e91a4_5e92_11eb_94f9_acde48001122row9_col0\" class=\"data row9 col0\" >Charter</td>\n",
       "                        <td id=\"T_344e91a4_5e92_11eb_94f9_acde48001122row9_col1\" class=\"data row9 col1\" >962</td>\n",
       "                        <td id=\"T_344e91a4_5e92_11eb_94f9_acde48001122row9_col2\" class=\"data row9 col2\" >$585,858.00</td>\n",
       "                        <td id=\"T_344e91a4_5e92_11eb_94f9_acde48001122row9_col3\" class=\"data row9 col3\" >$609.00</td>\n",
       "                        <td id=\"T_344e91a4_5e92_11eb_94f9_acde48001122row9_col4\" class=\"data row9 col4\" >83.839917</td>\n",
       "                        <td id=\"T_344e91a4_5e92_11eb_94f9_acde48001122row9_col5\" class=\"data row9 col5\" >84.044699</td>\n",
       "                        <td id=\"T_344e91a4_5e92_11eb_94f9_acde48001122row9_col6\" class=\"data row9 col6\" >94.594595</td>\n",
       "                        <td id=\"T_344e91a4_5e92_11eb_94f9_acde48001122row9_col7\" class=\"data row9 col7\" >95.945946</td>\n",
       "                        <td id=\"T_344e91a4_5e92_11eb_94f9_acde48001122row9_col8\" class=\"data row9 col8\" >90.540541</td>\n",
       "            </tr>\n",
       "            <tr>\n",
       "                        <th id=\"T_344e91a4_5e92_11eb_94f9_acde48001122level0_row10\" class=\"row_heading level0 row10\" >Rodriguez High School</th>\n",
       "                        <td id=\"T_344e91a4_5e92_11eb_94f9_acde48001122row10_col0\" class=\"data row10 col0\" >District</td>\n",
       "                        <td id=\"T_344e91a4_5e92_11eb_94f9_acde48001122row10_col1\" class=\"data row10 col1\" >3,999</td>\n",
       "                        <td id=\"T_344e91a4_5e92_11eb_94f9_acde48001122row10_col2\" class=\"data row10 col2\" >$2,547,363.00</td>\n",
       "                        <td id=\"T_344e91a4_5e92_11eb_94f9_acde48001122row10_col3\" class=\"data row10 col3\" >$637.00</td>\n",
       "                        <td id=\"T_344e91a4_5e92_11eb_94f9_acde48001122row10_col4\" class=\"data row10 col4\" >76.842711</td>\n",
       "                        <td id=\"T_344e91a4_5e92_11eb_94f9_acde48001122row10_col5\" class=\"data row10 col5\" >80.744686</td>\n",
       "                        <td id=\"T_344e91a4_5e92_11eb_94f9_acde48001122row10_col6\" class=\"data row10 col6\" >66.366592</td>\n",
       "                        <td id=\"T_344e91a4_5e92_11eb_94f9_acde48001122row10_col7\" class=\"data row10 col7\" >80.220055</td>\n",
       "                        <td id=\"T_344e91a4_5e92_11eb_94f9_acde48001122row10_col8\" class=\"data row10 col8\" >52.988247</td>\n",
       "            </tr>\n",
       "            <tr>\n",
       "                        <th id=\"T_344e91a4_5e92_11eb_94f9_acde48001122level0_row11\" class=\"row_heading level0 row11\" >Shelton High School</th>\n",
       "                        <td id=\"T_344e91a4_5e92_11eb_94f9_acde48001122row11_col0\" class=\"data row11 col0\" >Charter</td>\n",
       "                        <td id=\"T_344e91a4_5e92_11eb_94f9_acde48001122row11_col1\" class=\"data row11 col1\" >1,761</td>\n",
       "                        <td id=\"T_344e91a4_5e92_11eb_94f9_acde48001122row11_col2\" class=\"data row11 col2\" >$1,056,600.00</td>\n",
       "                        <td id=\"T_344e91a4_5e92_11eb_94f9_acde48001122row11_col3\" class=\"data row11 col3\" >$600.00</td>\n",
       "                        <td id=\"T_344e91a4_5e92_11eb_94f9_acde48001122row11_col4\" class=\"data row11 col4\" >83.359455</td>\n",
       "                        <td id=\"T_344e91a4_5e92_11eb_94f9_acde48001122row11_col5\" class=\"data row11 col5\" >83.725724</td>\n",
       "                        <td id=\"T_344e91a4_5e92_11eb_94f9_acde48001122row11_col6\" class=\"data row11 col6\" >93.867121</td>\n",
       "                        <td id=\"T_344e91a4_5e92_11eb_94f9_acde48001122row11_col7\" class=\"data row11 col7\" >95.854628</td>\n",
       "                        <td id=\"T_344e91a4_5e92_11eb_94f9_acde48001122row11_col8\" class=\"data row11 col8\" >89.892107</td>\n",
       "            </tr>\n",
       "            <tr>\n",
       "                        <th id=\"T_344e91a4_5e92_11eb_94f9_acde48001122level0_row12\" class=\"row_heading level0 row12\" >Thomas High School</th>\n",
       "                        <td id=\"T_344e91a4_5e92_11eb_94f9_acde48001122row12_col0\" class=\"data row12 col0\" >Charter</td>\n",
       "                        <td id=\"T_344e91a4_5e92_11eb_94f9_acde48001122row12_col1\" class=\"data row12 col1\" >1,635</td>\n",
       "                        <td id=\"T_344e91a4_5e92_11eb_94f9_acde48001122row12_col2\" class=\"data row12 col2\" >$1,043,130.00</td>\n",
       "                        <td id=\"T_344e91a4_5e92_11eb_94f9_acde48001122row12_col3\" class=\"data row12 col3\" >$638.00</td>\n",
       "                        <td id=\"T_344e91a4_5e92_11eb_94f9_acde48001122row12_col4\" class=\"data row12 col4\" >83.418349</td>\n",
       "                        <td id=\"T_344e91a4_5e92_11eb_94f9_acde48001122row12_col5\" class=\"data row12 col5\" >83.848930</td>\n",
       "                        <td id=\"T_344e91a4_5e92_11eb_94f9_acde48001122row12_col6\" class=\"data row12 col6\" >93.272171</td>\n",
       "                        <td id=\"T_344e91a4_5e92_11eb_94f9_acde48001122row12_col7\" class=\"data row12 col7\" >97.308869</td>\n",
       "                        <td id=\"T_344e91a4_5e92_11eb_94f9_acde48001122row12_col8\" class=\"data row12 col8\" >90.948012</td>\n",
       "            </tr>\n",
       "            <tr>\n",
       "                        <th id=\"T_344e91a4_5e92_11eb_94f9_acde48001122level0_row13\" class=\"row_heading level0 row13\" >Wilson High School</th>\n",
       "                        <td id=\"T_344e91a4_5e92_11eb_94f9_acde48001122row13_col0\" class=\"data row13 col0\" >Charter</td>\n",
       "                        <td id=\"T_344e91a4_5e92_11eb_94f9_acde48001122row13_col1\" class=\"data row13 col1\" >2,283</td>\n",
       "                        <td id=\"T_344e91a4_5e92_11eb_94f9_acde48001122row13_col2\" class=\"data row13 col2\" >$1,319,574.00</td>\n",
       "                        <td id=\"T_344e91a4_5e92_11eb_94f9_acde48001122row13_col3\" class=\"data row13 col3\" >$578.00</td>\n",
       "                        <td id=\"T_344e91a4_5e92_11eb_94f9_acde48001122row13_col4\" class=\"data row13 col4\" >83.274201</td>\n",
       "                        <td id=\"T_344e91a4_5e92_11eb_94f9_acde48001122row13_col5\" class=\"data row13 col5\" >83.989488</td>\n",
       "                        <td id=\"T_344e91a4_5e92_11eb_94f9_acde48001122row13_col6\" class=\"data row13 col6\" >93.867718</td>\n",
       "                        <td id=\"T_344e91a4_5e92_11eb_94f9_acde48001122row13_col7\" class=\"data row13 col7\" >96.539641</td>\n",
       "                        <td id=\"T_344e91a4_5e92_11eb_94f9_acde48001122row13_col8\" class=\"data row13 col8\" >90.582567</td>\n",
       "            </tr>\n",
       "            <tr>\n",
       "                        <th id=\"T_344e91a4_5e92_11eb_94f9_acde48001122level0_row14\" class=\"row_heading level0 row14\" >Wright High School</th>\n",
       "                        <td id=\"T_344e91a4_5e92_11eb_94f9_acde48001122row14_col0\" class=\"data row14 col0\" >Charter</td>\n",
       "                        <td id=\"T_344e91a4_5e92_11eb_94f9_acde48001122row14_col1\" class=\"data row14 col1\" >1,800</td>\n",
       "                        <td id=\"T_344e91a4_5e92_11eb_94f9_acde48001122row14_col2\" class=\"data row14 col2\" >$1,049,400.00</td>\n",
       "                        <td id=\"T_344e91a4_5e92_11eb_94f9_acde48001122row14_col3\" class=\"data row14 col3\" >$583.00</td>\n",
       "                        <td id=\"T_344e91a4_5e92_11eb_94f9_acde48001122row14_col4\" class=\"data row14 col4\" >83.682222</td>\n",
       "                        <td id=\"T_344e91a4_5e92_11eb_94f9_acde48001122row14_col5\" class=\"data row14 col5\" >83.955000</td>\n",
       "                        <td id=\"T_344e91a4_5e92_11eb_94f9_acde48001122row14_col6\" class=\"data row14 col6\" >93.333333</td>\n",
       "                        <td id=\"T_344e91a4_5e92_11eb_94f9_acde48001122row14_col7\" class=\"data row14 col7\" >96.611111</td>\n",
       "                        <td id=\"T_344e91a4_5e92_11eb_94f9_acde48001122row14_col8\" class=\"data row14 col8\" >90.333333</td>\n",
       "            </tr>\n",
       "    </tbody></table>"
      ],
      "text/plain": [
       "<pandas.io.formats.style.Styler at 0x7f8427560fd0>"
      ]
     },
     "execution_count": 148,
     "metadata": {},
     "output_type": "execute_result"
    }
   ],
   "source": [
    "#rearrange columns\n",
    "school_summary = school_summary[['School Type', 'Total Students', 'Total School Budget','Per Student Budget',\n",
    "       'Average Math Score', 'Average Reading Score', \n",
    "       '% Passing Math', '% Passing Reading', '% Overall Passing']]\n",
    "\n",
    "#rename index column\n",
    "school_summary.index.name= \"School Name\"\n",
    "\n",
    "#format school summary table\n",
    "school_dict = {'Total Students': '{0:,.0f}', 'Total School Budget':'${0:,.2f}',\n",
    "               'Per Student Budget':'${0:,.2f}'}\n",
    "school_summary.style.format(school_dict).set_properties(**{'text-align':'left'})"
   ]
  },
  {
   "cell_type": "code",
   "execution_count": null,
   "metadata": {},
   "outputs": [],
   "source": []
  },
  {
   "cell_type": "markdown",
   "metadata": {},
   "source": [
    "## _Top Performing Schools (By % Overall Passing)_"
   ]
  },
  {
   "cell_type": "code",
   "execution_count": 149,
   "metadata": {},
   "outputs": [],
   "source": [
    "#find and sort the top five performing schools by % overall passing\n",
    "topschools = school_summary.sort_values(by='% Overall Passing', ascending=False).head(5)"
   ]
  },
  {
   "cell_type": "code",
   "execution_count": 150,
   "metadata": {},
   "outputs": [
    {
     "data": {
      "text/html": [
       "<style  type=\"text/css\" >\n",
       "#T_34b00a42_5e92_11eb_94f9_acde48001122row0_col0,#T_34b00a42_5e92_11eb_94f9_acde48001122row0_col1,#T_34b00a42_5e92_11eb_94f9_acde48001122row0_col2,#T_34b00a42_5e92_11eb_94f9_acde48001122row0_col3,#T_34b00a42_5e92_11eb_94f9_acde48001122row0_col4,#T_34b00a42_5e92_11eb_94f9_acde48001122row0_col5,#T_34b00a42_5e92_11eb_94f9_acde48001122row0_col6,#T_34b00a42_5e92_11eb_94f9_acde48001122row0_col7,#T_34b00a42_5e92_11eb_94f9_acde48001122row0_col8,#T_34b00a42_5e92_11eb_94f9_acde48001122row1_col0,#T_34b00a42_5e92_11eb_94f9_acde48001122row1_col1,#T_34b00a42_5e92_11eb_94f9_acde48001122row1_col2,#T_34b00a42_5e92_11eb_94f9_acde48001122row1_col3,#T_34b00a42_5e92_11eb_94f9_acde48001122row1_col4,#T_34b00a42_5e92_11eb_94f9_acde48001122row1_col5,#T_34b00a42_5e92_11eb_94f9_acde48001122row1_col6,#T_34b00a42_5e92_11eb_94f9_acde48001122row1_col7,#T_34b00a42_5e92_11eb_94f9_acde48001122row1_col8,#T_34b00a42_5e92_11eb_94f9_acde48001122row2_col0,#T_34b00a42_5e92_11eb_94f9_acde48001122row2_col1,#T_34b00a42_5e92_11eb_94f9_acde48001122row2_col2,#T_34b00a42_5e92_11eb_94f9_acde48001122row2_col3,#T_34b00a42_5e92_11eb_94f9_acde48001122row2_col4,#T_34b00a42_5e92_11eb_94f9_acde48001122row2_col5,#T_34b00a42_5e92_11eb_94f9_acde48001122row2_col6,#T_34b00a42_5e92_11eb_94f9_acde48001122row2_col7,#T_34b00a42_5e92_11eb_94f9_acde48001122row2_col8,#T_34b00a42_5e92_11eb_94f9_acde48001122row3_col0,#T_34b00a42_5e92_11eb_94f9_acde48001122row3_col1,#T_34b00a42_5e92_11eb_94f9_acde48001122row3_col2,#T_34b00a42_5e92_11eb_94f9_acde48001122row3_col3,#T_34b00a42_5e92_11eb_94f9_acde48001122row3_col4,#T_34b00a42_5e92_11eb_94f9_acde48001122row3_col5,#T_34b00a42_5e92_11eb_94f9_acde48001122row3_col6,#T_34b00a42_5e92_11eb_94f9_acde48001122row3_col7,#T_34b00a42_5e92_11eb_94f9_acde48001122row3_col8,#T_34b00a42_5e92_11eb_94f9_acde48001122row4_col0,#T_34b00a42_5e92_11eb_94f9_acde48001122row4_col1,#T_34b00a42_5e92_11eb_94f9_acde48001122row4_col2,#T_34b00a42_5e92_11eb_94f9_acde48001122row4_col3,#T_34b00a42_5e92_11eb_94f9_acde48001122row4_col4,#T_34b00a42_5e92_11eb_94f9_acde48001122row4_col5,#T_34b00a42_5e92_11eb_94f9_acde48001122row4_col6,#T_34b00a42_5e92_11eb_94f9_acde48001122row4_col7,#T_34b00a42_5e92_11eb_94f9_acde48001122row4_col8{\n",
       "            text-align:  left;\n",
       "        }</style><table id=\"T_34b00a42_5e92_11eb_94f9_acde48001122\" ><thead>    <tr>        <th class=\"blank level0\" ></th>        <th class=\"col_heading level0 col0\" >School Type</th>        <th class=\"col_heading level0 col1\" >Total Students</th>        <th class=\"col_heading level0 col2\" >Total School Budget</th>        <th class=\"col_heading level0 col3\" >Per Student Budget</th>        <th class=\"col_heading level0 col4\" >Average Math Score</th>        <th class=\"col_heading level0 col5\" >Average Reading Score</th>        <th class=\"col_heading level0 col6\" >% Passing Math</th>        <th class=\"col_heading level0 col7\" >% Passing Reading</th>        <th class=\"col_heading level0 col8\" >% Overall Passing</th>    </tr>    <tr>        <th class=\"index_name level0\" >School Name</th>        <th class=\"blank\" ></th>        <th class=\"blank\" ></th>        <th class=\"blank\" ></th>        <th class=\"blank\" ></th>        <th class=\"blank\" ></th>        <th class=\"blank\" ></th>        <th class=\"blank\" ></th>        <th class=\"blank\" ></th>        <th class=\"blank\" ></th>    </tr></thead><tbody>\n",
       "                <tr>\n",
       "                        <th id=\"T_34b00a42_5e92_11eb_94f9_acde48001122level0_row0\" class=\"row_heading level0 row0\" >Cabrera High School</th>\n",
       "                        <td id=\"T_34b00a42_5e92_11eb_94f9_acde48001122row0_col0\" class=\"data row0 col0\" >Charter</td>\n",
       "                        <td id=\"T_34b00a42_5e92_11eb_94f9_acde48001122row0_col1\" class=\"data row0 col1\" >1,858</td>\n",
       "                        <td id=\"T_34b00a42_5e92_11eb_94f9_acde48001122row0_col2\" class=\"data row0 col2\" >$1,081,356.00</td>\n",
       "                        <td id=\"T_34b00a42_5e92_11eb_94f9_acde48001122row0_col3\" class=\"data row0 col3\" >$582.00</td>\n",
       "                        <td id=\"T_34b00a42_5e92_11eb_94f9_acde48001122row0_col4\" class=\"data row0 col4\" >83.061895</td>\n",
       "                        <td id=\"T_34b00a42_5e92_11eb_94f9_acde48001122row0_col5\" class=\"data row0 col5\" >83.975780</td>\n",
       "                        <td id=\"T_34b00a42_5e92_11eb_94f9_acde48001122row0_col6\" class=\"data row0 col6\" >94.133477</td>\n",
       "                        <td id=\"T_34b00a42_5e92_11eb_94f9_acde48001122row0_col7\" class=\"data row0 col7\" >97.039828</td>\n",
       "                        <td id=\"T_34b00a42_5e92_11eb_94f9_acde48001122row0_col8\" class=\"data row0 col8\" >91.334769</td>\n",
       "            </tr>\n",
       "            <tr>\n",
       "                        <th id=\"T_34b00a42_5e92_11eb_94f9_acde48001122level0_row1\" class=\"row_heading level0 row1\" >Thomas High School</th>\n",
       "                        <td id=\"T_34b00a42_5e92_11eb_94f9_acde48001122row1_col0\" class=\"data row1 col0\" >Charter</td>\n",
       "                        <td id=\"T_34b00a42_5e92_11eb_94f9_acde48001122row1_col1\" class=\"data row1 col1\" >1,635</td>\n",
       "                        <td id=\"T_34b00a42_5e92_11eb_94f9_acde48001122row1_col2\" class=\"data row1 col2\" >$1,043,130.00</td>\n",
       "                        <td id=\"T_34b00a42_5e92_11eb_94f9_acde48001122row1_col3\" class=\"data row1 col3\" >$638.00</td>\n",
       "                        <td id=\"T_34b00a42_5e92_11eb_94f9_acde48001122row1_col4\" class=\"data row1 col4\" >83.418349</td>\n",
       "                        <td id=\"T_34b00a42_5e92_11eb_94f9_acde48001122row1_col5\" class=\"data row1 col5\" >83.848930</td>\n",
       "                        <td id=\"T_34b00a42_5e92_11eb_94f9_acde48001122row1_col6\" class=\"data row1 col6\" >93.272171</td>\n",
       "                        <td id=\"T_34b00a42_5e92_11eb_94f9_acde48001122row1_col7\" class=\"data row1 col7\" >97.308869</td>\n",
       "                        <td id=\"T_34b00a42_5e92_11eb_94f9_acde48001122row1_col8\" class=\"data row1 col8\" >90.948012</td>\n",
       "            </tr>\n",
       "            <tr>\n",
       "                        <th id=\"T_34b00a42_5e92_11eb_94f9_acde48001122level0_row2\" class=\"row_heading level0 row2\" >Griffin High School</th>\n",
       "                        <td id=\"T_34b00a42_5e92_11eb_94f9_acde48001122row2_col0\" class=\"data row2 col0\" >Charter</td>\n",
       "                        <td id=\"T_34b00a42_5e92_11eb_94f9_acde48001122row2_col1\" class=\"data row2 col1\" >1,468</td>\n",
       "                        <td id=\"T_34b00a42_5e92_11eb_94f9_acde48001122row2_col2\" class=\"data row2 col2\" >$917,500.00</td>\n",
       "                        <td id=\"T_34b00a42_5e92_11eb_94f9_acde48001122row2_col3\" class=\"data row2 col3\" >$625.00</td>\n",
       "                        <td id=\"T_34b00a42_5e92_11eb_94f9_acde48001122row2_col4\" class=\"data row2 col4\" >83.351499</td>\n",
       "                        <td id=\"T_34b00a42_5e92_11eb_94f9_acde48001122row2_col5\" class=\"data row2 col5\" >83.816757</td>\n",
       "                        <td id=\"T_34b00a42_5e92_11eb_94f9_acde48001122row2_col6\" class=\"data row2 col6\" >93.392371</td>\n",
       "                        <td id=\"T_34b00a42_5e92_11eb_94f9_acde48001122row2_col7\" class=\"data row2 col7\" >97.138965</td>\n",
       "                        <td id=\"T_34b00a42_5e92_11eb_94f9_acde48001122row2_col8\" class=\"data row2 col8\" >90.599455</td>\n",
       "            </tr>\n",
       "            <tr>\n",
       "                        <th id=\"T_34b00a42_5e92_11eb_94f9_acde48001122level0_row3\" class=\"row_heading level0 row3\" >Wilson High School</th>\n",
       "                        <td id=\"T_34b00a42_5e92_11eb_94f9_acde48001122row3_col0\" class=\"data row3 col0\" >Charter</td>\n",
       "                        <td id=\"T_34b00a42_5e92_11eb_94f9_acde48001122row3_col1\" class=\"data row3 col1\" >2,283</td>\n",
       "                        <td id=\"T_34b00a42_5e92_11eb_94f9_acde48001122row3_col2\" class=\"data row3 col2\" >$1,319,574.00</td>\n",
       "                        <td id=\"T_34b00a42_5e92_11eb_94f9_acde48001122row3_col3\" class=\"data row3 col3\" >$578.00</td>\n",
       "                        <td id=\"T_34b00a42_5e92_11eb_94f9_acde48001122row3_col4\" class=\"data row3 col4\" >83.274201</td>\n",
       "                        <td id=\"T_34b00a42_5e92_11eb_94f9_acde48001122row3_col5\" class=\"data row3 col5\" >83.989488</td>\n",
       "                        <td id=\"T_34b00a42_5e92_11eb_94f9_acde48001122row3_col6\" class=\"data row3 col6\" >93.867718</td>\n",
       "                        <td id=\"T_34b00a42_5e92_11eb_94f9_acde48001122row3_col7\" class=\"data row3 col7\" >96.539641</td>\n",
       "                        <td id=\"T_34b00a42_5e92_11eb_94f9_acde48001122row3_col8\" class=\"data row3 col8\" >90.582567</td>\n",
       "            </tr>\n",
       "            <tr>\n",
       "                        <th id=\"T_34b00a42_5e92_11eb_94f9_acde48001122level0_row4\" class=\"row_heading level0 row4\" >Pena High School</th>\n",
       "                        <td id=\"T_34b00a42_5e92_11eb_94f9_acde48001122row4_col0\" class=\"data row4 col0\" >Charter</td>\n",
       "                        <td id=\"T_34b00a42_5e92_11eb_94f9_acde48001122row4_col1\" class=\"data row4 col1\" >962</td>\n",
       "                        <td id=\"T_34b00a42_5e92_11eb_94f9_acde48001122row4_col2\" class=\"data row4 col2\" >$585,858.00</td>\n",
       "                        <td id=\"T_34b00a42_5e92_11eb_94f9_acde48001122row4_col3\" class=\"data row4 col3\" >$609.00</td>\n",
       "                        <td id=\"T_34b00a42_5e92_11eb_94f9_acde48001122row4_col4\" class=\"data row4 col4\" >83.839917</td>\n",
       "                        <td id=\"T_34b00a42_5e92_11eb_94f9_acde48001122row4_col5\" class=\"data row4 col5\" >84.044699</td>\n",
       "                        <td id=\"T_34b00a42_5e92_11eb_94f9_acde48001122row4_col6\" class=\"data row4 col6\" >94.594595</td>\n",
       "                        <td id=\"T_34b00a42_5e92_11eb_94f9_acde48001122row4_col7\" class=\"data row4 col7\" >95.945946</td>\n",
       "                        <td id=\"T_34b00a42_5e92_11eb_94f9_acde48001122row4_col8\" class=\"data row4 col8\" >90.540541</td>\n",
       "            </tr>\n",
       "    </tbody></table>"
      ],
      "text/plain": [
       "<pandas.io.formats.style.Styler at 0x7f8427560eb0>"
      ]
     },
     "execution_count": 150,
     "metadata": {},
     "output_type": "execute_result"
    }
   ],
   "source": [
    "#format top school summary table\n",
    "topschool_dict = {'Total Students': '{0:,.0f}', 'Total School Budget':'${0:,.2f}',\n",
    "               'Per Student Budget':'${0:,.2f}'}\n",
    "topschools.style.format(topschool_dict).set_properties(**{'text-align':'left'})"
   ]
  },
  {
   "cell_type": "markdown",
   "metadata": {},
   "source": [
    "## _Bottom Performing Schools (By % Overall Passing)_"
   ]
  },
  {
   "cell_type": "code",
   "execution_count": 151,
   "metadata": {},
   "outputs": [],
   "source": [
    "#find and sort the top five worst performing schools by % overall passing\n",
    "worstschools = school_summary.sort_values(by=['% Overall Passing']).head(5)"
   ]
  },
  {
   "cell_type": "code",
   "execution_count": 152,
   "metadata": {},
   "outputs": [
    {
     "data": {
      "text/html": [
       "<style  type=\"text/css\" >\n",
       "#T_3501a578_5e92_11eb_94f9_acde48001122row0_col0,#T_3501a578_5e92_11eb_94f9_acde48001122row0_col1,#T_3501a578_5e92_11eb_94f9_acde48001122row0_col2,#T_3501a578_5e92_11eb_94f9_acde48001122row0_col3,#T_3501a578_5e92_11eb_94f9_acde48001122row0_col4,#T_3501a578_5e92_11eb_94f9_acde48001122row0_col5,#T_3501a578_5e92_11eb_94f9_acde48001122row0_col6,#T_3501a578_5e92_11eb_94f9_acde48001122row0_col7,#T_3501a578_5e92_11eb_94f9_acde48001122row0_col8,#T_3501a578_5e92_11eb_94f9_acde48001122row1_col0,#T_3501a578_5e92_11eb_94f9_acde48001122row1_col1,#T_3501a578_5e92_11eb_94f9_acde48001122row1_col2,#T_3501a578_5e92_11eb_94f9_acde48001122row1_col3,#T_3501a578_5e92_11eb_94f9_acde48001122row1_col4,#T_3501a578_5e92_11eb_94f9_acde48001122row1_col5,#T_3501a578_5e92_11eb_94f9_acde48001122row1_col6,#T_3501a578_5e92_11eb_94f9_acde48001122row1_col7,#T_3501a578_5e92_11eb_94f9_acde48001122row1_col8,#T_3501a578_5e92_11eb_94f9_acde48001122row2_col0,#T_3501a578_5e92_11eb_94f9_acde48001122row2_col1,#T_3501a578_5e92_11eb_94f9_acde48001122row2_col2,#T_3501a578_5e92_11eb_94f9_acde48001122row2_col3,#T_3501a578_5e92_11eb_94f9_acde48001122row2_col4,#T_3501a578_5e92_11eb_94f9_acde48001122row2_col5,#T_3501a578_5e92_11eb_94f9_acde48001122row2_col6,#T_3501a578_5e92_11eb_94f9_acde48001122row2_col7,#T_3501a578_5e92_11eb_94f9_acde48001122row2_col8,#T_3501a578_5e92_11eb_94f9_acde48001122row3_col0,#T_3501a578_5e92_11eb_94f9_acde48001122row3_col1,#T_3501a578_5e92_11eb_94f9_acde48001122row3_col2,#T_3501a578_5e92_11eb_94f9_acde48001122row3_col3,#T_3501a578_5e92_11eb_94f9_acde48001122row3_col4,#T_3501a578_5e92_11eb_94f9_acde48001122row3_col5,#T_3501a578_5e92_11eb_94f9_acde48001122row3_col6,#T_3501a578_5e92_11eb_94f9_acde48001122row3_col7,#T_3501a578_5e92_11eb_94f9_acde48001122row3_col8,#T_3501a578_5e92_11eb_94f9_acde48001122row4_col0,#T_3501a578_5e92_11eb_94f9_acde48001122row4_col1,#T_3501a578_5e92_11eb_94f9_acde48001122row4_col2,#T_3501a578_5e92_11eb_94f9_acde48001122row4_col3,#T_3501a578_5e92_11eb_94f9_acde48001122row4_col4,#T_3501a578_5e92_11eb_94f9_acde48001122row4_col5,#T_3501a578_5e92_11eb_94f9_acde48001122row4_col6,#T_3501a578_5e92_11eb_94f9_acde48001122row4_col7,#T_3501a578_5e92_11eb_94f9_acde48001122row4_col8{\n",
       "            text-align:  left;\n",
       "        }</style><table id=\"T_3501a578_5e92_11eb_94f9_acde48001122\" ><thead>    <tr>        <th class=\"blank level0\" ></th>        <th class=\"col_heading level0 col0\" >School Type</th>        <th class=\"col_heading level0 col1\" >Total Students</th>        <th class=\"col_heading level0 col2\" >Total School Budget</th>        <th class=\"col_heading level0 col3\" >Per Student Budget</th>        <th class=\"col_heading level0 col4\" >Average Math Score</th>        <th class=\"col_heading level0 col5\" >Average Reading Score</th>        <th class=\"col_heading level0 col6\" >% Passing Math</th>        <th class=\"col_heading level0 col7\" >% Passing Reading</th>        <th class=\"col_heading level0 col8\" >% Overall Passing</th>    </tr>    <tr>        <th class=\"index_name level0\" >School Name</th>        <th class=\"blank\" ></th>        <th class=\"blank\" ></th>        <th class=\"blank\" ></th>        <th class=\"blank\" ></th>        <th class=\"blank\" ></th>        <th class=\"blank\" ></th>        <th class=\"blank\" ></th>        <th class=\"blank\" ></th>        <th class=\"blank\" ></th>    </tr></thead><tbody>\n",
       "                <tr>\n",
       "                        <th id=\"T_3501a578_5e92_11eb_94f9_acde48001122level0_row0\" class=\"row_heading level0 row0\" >Rodriguez High School</th>\n",
       "                        <td id=\"T_3501a578_5e92_11eb_94f9_acde48001122row0_col0\" class=\"data row0 col0\" >District</td>\n",
       "                        <td id=\"T_3501a578_5e92_11eb_94f9_acde48001122row0_col1\" class=\"data row0 col1\" >3,999</td>\n",
       "                        <td id=\"T_3501a578_5e92_11eb_94f9_acde48001122row0_col2\" class=\"data row0 col2\" >$2,547,363.00</td>\n",
       "                        <td id=\"T_3501a578_5e92_11eb_94f9_acde48001122row0_col3\" class=\"data row0 col3\" >$637.00</td>\n",
       "                        <td id=\"T_3501a578_5e92_11eb_94f9_acde48001122row0_col4\" class=\"data row0 col4\" >76.842711</td>\n",
       "                        <td id=\"T_3501a578_5e92_11eb_94f9_acde48001122row0_col5\" class=\"data row0 col5\" >80.744686</td>\n",
       "                        <td id=\"T_3501a578_5e92_11eb_94f9_acde48001122row0_col6\" class=\"data row0 col6\" >66.366592</td>\n",
       "                        <td id=\"T_3501a578_5e92_11eb_94f9_acde48001122row0_col7\" class=\"data row0 col7\" >80.220055</td>\n",
       "                        <td id=\"T_3501a578_5e92_11eb_94f9_acde48001122row0_col8\" class=\"data row0 col8\" >52.988247</td>\n",
       "            </tr>\n",
       "            <tr>\n",
       "                        <th id=\"T_3501a578_5e92_11eb_94f9_acde48001122level0_row1\" class=\"row_heading level0 row1\" >Figueroa High School</th>\n",
       "                        <td id=\"T_3501a578_5e92_11eb_94f9_acde48001122row1_col0\" class=\"data row1 col0\" >District</td>\n",
       "                        <td id=\"T_3501a578_5e92_11eb_94f9_acde48001122row1_col1\" class=\"data row1 col1\" >2,949</td>\n",
       "                        <td id=\"T_3501a578_5e92_11eb_94f9_acde48001122row1_col2\" class=\"data row1 col2\" >$1,884,411.00</td>\n",
       "                        <td id=\"T_3501a578_5e92_11eb_94f9_acde48001122row1_col3\" class=\"data row1 col3\" >$639.00</td>\n",
       "                        <td id=\"T_3501a578_5e92_11eb_94f9_acde48001122row1_col4\" class=\"data row1 col4\" >76.711767</td>\n",
       "                        <td id=\"T_3501a578_5e92_11eb_94f9_acde48001122row1_col5\" class=\"data row1 col5\" >81.158020</td>\n",
       "                        <td id=\"T_3501a578_5e92_11eb_94f9_acde48001122row1_col6\" class=\"data row1 col6\" >65.988471</td>\n",
       "                        <td id=\"T_3501a578_5e92_11eb_94f9_acde48001122row1_col7\" class=\"data row1 col7\" >80.739234</td>\n",
       "                        <td id=\"T_3501a578_5e92_11eb_94f9_acde48001122row1_col8\" class=\"data row1 col8\" >53.204476</td>\n",
       "            </tr>\n",
       "            <tr>\n",
       "                        <th id=\"T_3501a578_5e92_11eb_94f9_acde48001122level0_row2\" class=\"row_heading level0 row2\" >Huang High School</th>\n",
       "                        <td id=\"T_3501a578_5e92_11eb_94f9_acde48001122row2_col0\" class=\"data row2 col0\" >District</td>\n",
       "                        <td id=\"T_3501a578_5e92_11eb_94f9_acde48001122row2_col1\" class=\"data row2 col1\" >2,917</td>\n",
       "                        <td id=\"T_3501a578_5e92_11eb_94f9_acde48001122row2_col2\" class=\"data row2 col2\" >$1,910,635.00</td>\n",
       "                        <td id=\"T_3501a578_5e92_11eb_94f9_acde48001122row2_col3\" class=\"data row2 col3\" >$655.00</td>\n",
       "                        <td id=\"T_3501a578_5e92_11eb_94f9_acde48001122row2_col4\" class=\"data row2 col4\" >76.629414</td>\n",
       "                        <td id=\"T_3501a578_5e92_11eb_94f9_acde48001122row2_col5\" class=\"data row2 col5\" >81.182722</td>\n",
       "                        <td id=\"T_3501a578_5e92_11eb_94f9_acde48001122row2_col6\" class=\"data row2 col6\" >65.683922</td>\n",
       "                        <td id=\"T_3501a578_5e92_11eb_94f9_acde48001122row2_col7\" class=\"data row2 col7\" >81.316421</td>\n",
       "                        <td id=\"T_3501a578_5e92_11eb_94f9_acde48001122row2_col8\" class=\"data row2 col8\" >53.513884</td>\n",
       "            </tr>\n",
       "            <tr>\n",
       "                        <th id=\"T_3501a578_5e92_11eb_94f9_acde48001122level0_row3\" class=\"row_heading level0 row3\" >Hernandez High School</th>\n",
       "                        <td id=\"T_3501a578_5e92_11eb_94f9_acde48001122row3_col0\" class=\"data row3 col0\" >District</td>\n",
       "                        <td id=\"T_3501a578_5e92_11eb_94f9_acde48001122row3_col1\" class=\"data row3 col1\" >4,635</td>\n",
       "                        <td id=\"T_3501a578_5e92_11eb_94f9_acde48001122row3_col2\" class=\"data row3 col2\" >$3,022,020.00</td>\n",
       "                        <td id=\"T_3501a578_5e92_11eb_94f9_acde48001122row3_col3\" class=\"data row3 col3\" >$652.00</td>\n",
       "                        <td id=\"T_3501a578_5e92_11eb_94f9_acde48001122row3_col4\" class=\"data row3 col4\" >77.289752</td>\n",
       "                        <td id=\"T_3501a578_5e92_11eb_94f9_acde48001122row3_col5\" class=\"data row3 col5\" >80.934412</td>\n",
       "                        <td id=\"T_3501a578_5e92_11eb_94f9_acde48001122row3_col6\" class=\"data row3 col6\" >66.752967</td>\n",
       "                        <td id=\"T_3501a578_5e92_11eb_94f9_acde48001122row3_col7\" class=\"data row3 col7\" >80.862999</td>\n",
       "                        <td id=\"T_3501a578_5e92_11eb_94f9_acde48001122row3_col8\" class=\"data row3 col8\" >53.527508</td>\n",
       "            </tr>\n",
       "            <tr>\n",
       "                        <th id=\"T_3501a578_5e92_11eb_94f9_acde48001122level0_row4\" class=\"row_heading level0 row4\" >Johnson High School</th>\n",
       "                        <td id=\"T_3501a578_5e92_11eb_94f9_acde48001122row4_col0\" class=\"data row4 col0\" >District</td>\n",
       "                        <td id=\"T_3501a578_5e92_11eb_94f9_acde48001122row4_col1\" class=\"data row4 col1\" >4,761</td>\n",
       "                        <td id=\"T_3501a578_5e92_11eb_94f9_acde48001122row4_col2\" class=\"data row4 col2\" >$3,094,650.00</td>\n",
       "                        <td id=\"T_3501a578_5e92_11eb_94f9_acde48001122row4_col3\" class=\"data row4 col3\" >$650.00</td>\n",
       "                        <td id=\"T_3501a578_5e92_11eb_94f9_acde48001122row4_col4\" class=\"data row4 col4\" >77.072464</td>\n",
       "                        <td id=\"T_3501a578_5e92_11eb_94f9_acde48001122row4_col5\" class=\"data row4 col5\" >80.966394</td>\n",
       "                        <td id=\"T_3501a578_5e92_11eb_94f9_acde48001122row4_col6\" class=\"data row4 col6\" >66.057551</td>\n",
       "                        <td id=\"T_3501a578_5e92_11eb_94f9_acde48001122row4_col7\" class=\"data row4 col7\" >81.222432</td>\n",
       "                        <td id=\"T_3501a578_5e92_11eb_94f9_acde48001122row4_col8\" class=\"data row4 col8\" >53.539172</td>\n",
       "            </tr>\n",
       "    </tbody></table>"
      ],
      "text/plain": [
       "<pandas.io.formats.style.Styler at 0x7f8427560580>"
      ]
     },
     "execution_count": 152,
     "metadata": {},
     "output_type": "execute_result"
    }
   ],
   "source": [
    "#format worst school summary table\n",
    "worstschool_dict = {'Total Students': '{0:,.0f}', 'Total School Budget':'${0:,.2f}',\n",
    "               'Per Student Budget':'${0:,.2f}'}\n",
    "worstschools.style.format(worstschool_dict).set_properties(**{'text-align':'left'})"
   ]
  },
  {
   "cell_type": "code",
   "execution_count": null,
   "metadata": {},
   "outputs": [],
   "source": []
  },
  {
   "cell_type": "markdown",
   "metadata": {},
   "source": [
    "## _Math Scores by Grade_"
   ]
  },
  {
   "cell_type": "code",
   "execution_count": 153,
   "metadata": {},
   "outputs": [],
   "source": [
    "#filter data by school for an average math score by grade and school\n",
    "mathgrade_nine = pycity_data[pycity_data['grade'] == \"9th\"].groupby('school_name').mean()['math_score']\n",
    "mathgrade_ten = pycity_data[pycity_data['grade'] == \"10th\"].groupby('school_name').mean()['math_score']\n",
    "mathgrade_eleven = pycity_data[pycity_data['grade'] == \"11th\"].groupby('school_name').mean()['math_score']\n",
    "mathgrade_twelve = pycity_data[pycity_data['grade'] == \"12th\"].groupby('school_name').mean()['math_score']\n",
    "mathgrade_total = pycity_data.groupby('school_name').mean()['math_score']"
   ]
  },
  {
   "cell_type": "code",
   "execution_count": 154,
   "metadata": {},
   "outputs": [],
   "source": [
    "#create math scores table with columns titles and place filtered data\n",
    "mathscores_grade = pd.DataFrame({\"9th\":mathgrade_nine,\"10th\":mathgrade_ten,\"11th\":mathgrade_eleven,\"12th\":mathgrade_twelve,\"Overall\":mathgrade_total})"
   ]
  },
  {
   "cell_type": "code",
   "execution_count": 155,
   "metadata": {},
   "outputs": [
    {
     "data": {
      "text/html": [
       "<style  type=\"text/css\" >\n",
       "#T_358a8fa0_5e92_11eb_94f9_acde48001122row0_col0,#T_358a8fa0_5e92_11eb_94f9_acde48001122row0_col1,#T_358a8fa0_5e92_11eb_94f9_acde48001122row0_col2,#T_358a8fa0_5e92_11eb_94f9_acde48001122row0_col3,#T_358a8fa0_5e92_11eb_94f9_acde48001122row0_col4,#T_358a8fa0_5e92_11eb_94f9_acde48001122row1_col0,#T_358a8fa0_5e92_11eb_94f9_acde48001122row1_col1,#T_358a8fa0_5e92_11eb_94f9_acde48001122row1_col2,#T_358a8fa0_5e92_11eb_94f9_acde48001122row1_col3,#T_358a8fa0_5e92_11eb_94f9_acde48001122row1_col4,#T_358a8fa0_5e92_11eb_94f9_acde48001122row2_col0,#T_358a8fa0_5e92_11eb_94f9_acde48001122row2_col1,#T_358a8fa0_5e92_11eb_94f9_acde48001122row2_col2,#T_358a8fa0_5e92_11eb_94f9_acde48001122row2_col3,#T_358a8fa0_5e92_11eb_94f9_acde48001122row2_col4,#T_358a8fa0_5e92_11eb_94f9_acde48001122row3_col0,#T_358a8fa0_5e92_11eb_94f9_acde48001122row3_col1,#T_358a8fa0_5e92_11eb_94f9_acde48001122row3_col2,#T_358a8fa0_5e92_11eb_94f9_acde48001122row3_col3,#T_358a8fa0_5e92_11eb_94f9_acde48001122row3_col4,#T_358a8fa0_5e92_11eb_94f9_acde48001122row4_col0,#T_358a8fa0_5e92_11eb_94f9_acde48001122row4_col1,#T_358a8fa0_5e92_11eb_94f9_acde48001122row4_col2,#T_358a8fa0_5e92_11eb_94f9_acde48001122row4_col3,#T_358a8fa0_5e92_11eb_94f9_acde48001122row4_col4,#T_358a8fa0_5e92_11eb_94f9_acde48001122row5_col0,#T_358a8fa0_5e92_11eb_94f9_acde48001122row5_col1,#T_358a8fa0_5e92_11eb_94f9_acde48001122row5_col2,#T_358a8fa0_5e92_11eb_94f9_acde48001122row5_col3,#T_358a8fa0_5e92_11eb_94f9_acde48001122row5_col4,#T_358a8fa0_5e92_11eb_94f9_acde48001122row6_col0,#T_358a8fa0_5e92_11eb_94f9_acde48001122row6_col1,#T_358a8fa0_5e92_11eb_94f9_acde48001122row6_col2,#T_358a8fa0_5e92_11eb_94f9_acde48001122row6_col3,#T_358a8fa0_5e92_11eb_94f9_acde48001122row6_col4,#T_358a8fa0_5e92_11eb_94f9_acde48001122row7_col0,#T_358a8fa0_5e92_11eb_94f9_acde48001122row7_col1,#T_358a8fa0_5e92_11eb_94f9_acde48001122row7_col2,#T_358a8fa0_5e92_11eb_94f9_acde48001122row7_col3,#T_358a8fa0_5e92_11eb_94f9_acde48001122row7_col4,#T_358a8fa0_5e92_11eb_94f9_acde48001122row8_col0,#T_358a8fa0_5e92_11eb_94f9_acde48001122row8_col1,#T_358a8fa0_5e92_11eb_94f9_acde48001122row8_col2,#T_358a8fa0_5e92_11eb_94f9_acde48001122row8_col3,#T_358a8fa0_5e92_11eb_94f9_acde48001122row8_col4,#T_358a8fa0_5e92_11eb_94f9_acde48001122row9_col0,#T_358a8fa0_5e92_11eb_94f9_acde48001122row9_col1,#T_358a8fa0_5e92_11eb_94f9_acde48001122row9_col2,#T_358a8fa0_5e92_11eb_94f9_acde48001122row9_col3,#T_358a8fa0_5e92_11eb_94f9_acde48001122row9_col4,#T_358a8fa0_5e92_11eb_94f9_acde48001122row10_col0,#T_358a8fa0_5e92_11eb_94f9_acde48001122row10_col1,#T_358a8fa0_5e92_11eb_94f9_acde48001122row10_col2,#T_358a8fa0_5e92_11eb_94f9_acde48001122row10_col3,#T_358a8fa0_5e92_11eb_94f9_acde48001122row10_col4,#T_358a8fa0_5e92_11eb_94f9_acde48001122row11_col0,#T_358a8fa0_5e92_11eb_94f9_acde48001122row11_col1,#T_358a8fa0_5e92_11eb_94f9_acde48001122row11_col2,#T_358a8fa0_5e92_11eb_94f9_acde48001122row11_col3,#T_358a8fa0_5e92_11eb_94f9_acde48001122row11_col4,#T_358a8fa0_5e92_11eb_94f9_acde48001122row12_col0,#T_358a8fa0_5e92_11eb_94f9_acde48001122row12_col1,#T_358a8fa0_5e92_11eb_94f9_acde48001122row12_col2,#T_358a8fa0_5e92_11eb_94f9_acde48001122row12_col3,#T_358a8fa0_5e92_11eb_94f9_acde48001122row12_col4,#T_358a8fa0_5e92_11eb_94f9_acde48001122row13_col0,#T_358a8fa0_5e92_11eb_94f9_acde48001122row13_col1,#T_358a8fa0_5e92_11eb_94f9_acde48001122row13_col2,#T_358a8fa0_5e92_11eb_94f9_acde48001122row13_col3,#T_358a8fa0_5e92_11eb_94f9_acde48001122row13_col4,#T_358a8fa0_5e92_11eb_94f9_acde48001122row14_col0,#T_358a8fa0_5e92_11eb_94f9_acde48001122row14_col1,#T_358a8fa0_5e92_11eb_94f9_acde48001122row14_col2,#T_358a8fa0_5e92_11eb_94f9_acde48001122row14_col3,#T_358a8fa0_5e92_11eb_94f9_acde48001122row14_col4{\n",
       "            text-align:  left;\n",
       "        }</style><table id=\"T_358a8fa0_5e92_11eb_94f9_acde48001122\" ><thead>    <tr>        <th class=\"blank level0\" ></th>        <th class=\"col_heading level0 col0\" >9th</th>        <th class=\"col_heading level0 col1\" >10th</th>        <th class=\"col_heading level0 col2\" >11th</th>        <th class=\"col_heading level0 col3\" >12th</th>        <th class=\"col_heading level0 col4\" >Overall</th>    </tr>    <tr>        <th class=\"index_name level0\" >School Name</th>        <th class=\"blank\" ></th>        <th class=\"blank\" ></th>        <th class=\"blank\" ></th>        <th class=\"blank\" ></th>        <th class=\"blank\" ></th>    </tr></thead><tbody>\n",
       "                <tr>\n",
       "                        <th id=\"T_358a8fa0_5e92_11eb_94f9_acde48001122level0_row0\" class=\"row_heading level0 row0\" >Bailey High School</th>\n",
       "                        <td id=\"T_358a8fa0_5e92_11eb_94f9_acde48001122row0_col0\" class=\"data row0 col0\" >77.083676</td>\n",
       "                        <td id=\"T_358a8fa0_5e92_11eb_94f9_acde48001122row0_col1\" class=\"data row0 col1\" >76.996772</td>\n",
       "                        <td id=\"T_358a8fa0_5e92_11eb_94f9_acde48001122row0_col2\" class=\"data row0 col2\" >77.515588</td>\n",
       "                        <td id=\"T_358a8fa0_5e92_11eb_94f9_acde48001122row0_col3\" class=\"data row0 col3\" >76.492218</td>\n",
       "                        <td id=\"T_358a8fa0_5e92_11eb_94f9_acde48001122row0_col4\" class=\"data row0 col4\" >77.048432</td>\n",
       "            </tr>\n",
       "            <tr>\n",
       "                        <th id=\"T_358a8fa0_5e92_11eb_94f9_acde48001122level0_row1\" class=\"row_heading level0 row1\" >Cabrera High School</th>\n",
       "                        <td id=\"T_358a8fa0_5e92_11eb_94f9_acde48001122row1_col0\" class=\"data row1 col0\" >83.094697</td>\n",
       "                        <td id=\"T_358a8fa0_5e92_11eb_94f9_acde48001122row1_col1\" class=\"data row1 col1\" >83.154506</td>\n",
       "                        <td id=\"T_358a8fa0_5e92_11eb_94f9_acde48001122row1_col2\" class=\"data row1 col2\" >82.765560</td>\n",
       "                        <td id=\"T_358a8fa0_5e92_11eb_94f9_acde48001122row1_col3\" class=\"data row1 col3\" >83.277487</td>\n",
       "                        <td id=\"T_358a8fa0_5e92_11eb_94f9_acde48001122row1_col4\" class=\"data row1 col4\" >83.061895</td>\n",
       "            </tr>\n",
       "            <tr>\n",
       "                        <th id=\"T_358a8fa0_5e92_11eb_94f9_acde48001122level0_row2\" class=\"row_heading level0 row2\" >Figueroa High School</th>\n",
       "                        <td id=\"T_358a8fa0_5e92_11eb_94f9_acde48001122row2_col0\" class=\"data row2 col0\" >76.403037</td>\n",
       "                        <td id=\"T_358a8fa0_5e92_11eb_94f9_acde48001122row2_col1\" class=\"data row2 col1\" >76.539974</td>\n",
       "                        <td id=\"T_358a8fa0_5e92_11eb_94f9_acde48001122row2_col2\" class=\"data row2 col2\" >76.884344</td>\n",
       "                        <td id=\"T_358a8fa0_5e92_11eb_94f9_acde48001122row2_col3\" class=\"data row2 col3\" >77.151369</td>\n",
       "                        <td id=\"T_358a8fa0_5e92_11eb_94f9_acde48001122row2_col4\" class=\"data row2 col4\" >76.711767</td>\n",
       "            </tr>\n",
       "            <tr>\n",
       "                        <th id=\"T_358a8fa0_5e92_11eb_94f9_acde48001122level0_row3\" class=\"row_heading level0 row3\" >Ford High School</th>\n",
       "                        <td id=\"T_358a8fa0_5e92_11eb_94f9_acde48001122row3_col0\" class=\"data row3 col0\" >77.361345</td>\n",
       "                        <td id=\"T_358a8fa0_5e92_11eb_94f9_acde48001122row3_col1\" class=\"data row3 col1\" >77.672316</td>\n",
       "                        <td id=\"T_358a8fa0_5e92_11eb_94f9_acde48001122row3_col2\" class=\"data row3 col2\" >76.918058</td>\n",
       "                        <td id=\"T_358a8fa0_5e92_11eb_94f9_acde48001122row3_col3\" class=\"data row3 col3\" >76.179963</td>\n",
       "                        <td id=\"T_358a8fa0_5e92_11eb_94f9_acde48001122row3_col4\" class=\"data row3 col4\" >77.102592</td>\n",
       "            </tr>\n",
       "            <tr>\n",
       "                        <th id=\"T_358a8fa0_5e92_11eb_94f9_acde48001122level0_row4\" class=\"row_heading level0 row4\" >Griffin High School</th>\n",
       "                        <td id=\"T_358a8fa0_5e92_11eb_94f9_acde48001122row4_col0\" class=\"data row4 col0\" >82.044010</td>\n",
       "                        <td id=\"T_358a8fa0_5e92_11eb_94f9_acde48001122row4_col1\" class=\"data row4 col1\" >84.229064</td>\n",
       "                        <td id=\"T_358a8fa0_5e92_11eb_94f9_acde48001122row4_col2\" class=\"data row4 col2\" >83.842105</td>\n",
       "                        <td id=\"T_358a8fa0_5e92_11eb_94f9_acde48001122row4_col3\" class=\"data row4 col3\" >83.356164</td>\n",
       "                        <td id=\"T_358a8fa0_5e92_11eb_94f9_acde48001122row4_col4\" class=\"data row4 col4\" >83.351499</td>\n",
       "            </tr>\n",
       "            <tr>\n",
       "                        <th id=\"T_358a8fa0_5e92_11eb_94f9_acde48001122level0_row5\" class=\"row_heading level0 row5\" >Hernandez High School</th>\n",
       "                        <td id=\"T_358a8fa0_5e92_11eb_94f9_acde48001122row5_col0\" class=\"data row5 col0\" >77.438495</td>\n",
       "                        <td id=\"T_358a8fa0_5e92_11eb_94f9_acde48001122row5_col1\" class=\"data row5 col1\" >77.337408</td>\n",
       "                        <td id=\"T_358a8fa0_5e92_11eb_94f9_acde48001122row5_col2\" class=\"data row5 col2\" >77.136029</td>\n",
       "                        <td id=\"T_358a8fa0_5e92_11eb_94f9_acde48001122row5_col3\" class=\"data row5 col3\" >77.186567</td>\n",
       "                        <td id=\"T_358a8fa0_5e92_11eb_94f9_acde48001122row5_col4\" class=\"data row5 col4\" >77.289752</td>\n",
       "            </tr>\n",
       "            <tr>\n",
       "                        <th id=\"T_358a8fa0_5e92_11eb_94f9_acde48001122level0_row6\" class=\"row_heading level0 row6\" >Holden High School</th>\n",
       "                        <td id=\"T_358a8fa0_5e92_11eb_94f9_acde48001122row6_col0\" class=\"data row6 col0\" >83.787402</td>\n",
       "                        <td id=\"T_358a8fa0_5e92_11eb_94f9_acde48001122row6_col1\" class=\"data row6 col1\" >83.429825</td>\n",
       "                        <td id=\"T_358a8fa0_5e92_11eb_94f9_acde48001122row6_col2\" class=\"data row6 col2\" >85.000000</td>\n",
       "                        <td id=\"T_358a8fa0_5e92_11eb_94f9_acde48001122row6_col3\" class=\"data row6 col3\" >82.855422</td>\n",
       "                        <td id=\"T_358a8fa0_5e92_11eb_94f9_acde48001122row6_col4\" class=\"data row6 col4\" >83.803279</td>\n",
       "            </tr>\n",
       "            <tr>\n",
       "                        <th id=\"T_358a8fa0_5e92_11eb_94f9_acde48001122level0_row7\" class=\"row_heading level0 row7\" >Huang High School</th>\n",
       "                        <td id=\"T_358a8fa0_5e92_11eb_94f9_acde48001122row7_col0\" class=\"data row7 col0\" >77.027251</td>\n",
       "                        <td id=\"T_358a8fa0_5e92_11eb_94f9_acde48001122row7_col1\" class=\"data row7 col1\" >75.908735</td>\n",
       "                        <td id=\"T_358a8fa0_5e92_11eb_94f9_acde48001122row7_col2\" class=\"data row7 col2\" >76.446602</td>\n",
       "                        <td id=\"T_358a8fa0_5e92_11eb_94f9_acde48001122row7_col3\" class=\"data row7 col3\" >77.225641</td>\n",
       "                        <td id=\"T_358a8fa0_5e92_11eb_94f9_acde48001122row7_col4\" class=\"data row7 col4\" >76.629414</td>\n",
       "            </tr>\n",
       "            <tr>\n",
       "                        <th id=\"T_358a8fa0_5e92_11eb_94f9_acde48001122level0_row8\" class=\"row_heading level0 row8\" >Johnson High School</th>\n",
       "                        <td id=\"T_358a8fa0_5e92_11eb_94f9_acde48001122row8_col0\" class=\"data row8 col0\" >77.187857</td>\n",
       "                        <td id=\"T_358a8fa0_5e92_11eb_94f9_acde48001122row8_col1\" class=\"data row8 col1\" >76.691117</td>\n",
       "                        <td id=\"T_358a8fa0_5e92_11eb_94f9_acde48001122row8_col2\" class=\"data row8 col2\" >77.491653</td>\n",
       "                        <td id=\"T_358a8fa0_5e92_11eb_94f9_acde48001122row8_col3\" class=\"data row8 col3\" >76.863248</td>\n",
       "                        <td id=\"T_358a8fa0_5e92_11eb_94f9_acde48001122row8_col4\" class=\"data row8 col4\" >77.072464</td>\n",
       "            </tr>\n",
       "            <tr>\n",
       "                        <th id=\"T_358a8fa0_5e92_11eb_94f9_acde48001122level0_row9\" class=\"row_heading level0 row9\" >Pena High School</th>\n",
       "                        <td id=\"T_358a8fa0_5e92_11eb_94f9_acde48001122row9_col0\" class=\"data row9 col0\" >83.625455</td>\n",
       "                        <td id=\"T_358a8fa0_5e92_11eb_94f9_acde48001122row9_col1\" class=\"data row9 col1\" >83.372000</td>\n",
       "                        <td id=\"T_358a8fa0_5e92_11eb_94f9_acde48001122row9_col2\" class=\"data row9 col2\" >84.328125</td>\n",
       "                        <td id=\"T_358a8fa0_5e92_11eb_94f9_acde48001122row9_col3\" class=\"data row9 col3\" >84.121547</td>\n",
       "                        <td id=\"T_358a8fa0_5e92_11eb_94f9_acde48001122row9_col4\" class=\"data row9 col4\" >83.839917</td>\n",
       "            </tr>\n",
       "            <tr>\n",
       "                        <th id=\"T_358a8fa0_5e92_11eb_94f9_acde48001122level0_row10\" class=\"row_heading level0 row10\" >Rodriguez High School</th>\n",
       "                        <td id=\"T_358a8fa0_5e92_11eb_94f9_acde48001122row10_col0\" class=\"data row10 col0\" >76.859966</td>\n",
       "                        <td id=\"T_358a8fa0_5e92_11eb_94f9_acde48001122row10_col1\" class=\"data row10 col1\" >76.612500</td>\n",
       "                        <td id=\"T_358a8fa0_5e92_11eb_94f9_acde48001122row10_col2\" class=\"data row10 col2\" >76.395626</td>\n",
       "                        <td id=\"T_358a8fa0_5e92_11eb_94f9_acde48001122row10_col3\" class=\"data row10 col3\" >77.690748</td>\n",
       "                        <td id=\"T_358a8fa0_5e92_11eb_94f9_acde48001122row10_col4\" class=\"data row10 col4\" >76.842711</td>\n",
       "            </tr>\n",
       "            <tr>\n",
       "                        <th id=\"T_358a8fa0_5e92_11eb_94f9_acde48001122level0_row11\" class=\"row_heading level0 row11\" >Shelton High School</th>\n",
       "                        <td id=\"T_358a8fa0_5e92_11eb_94f9_acde48001122row11_col0\" class=\"data row11 col0\" >83.420755</td>\n",
       "                        <td id=\"T_358a8fa0_5e92_11eb_94f9_acde48001122row11_col1\" class=\"data row11 col1\" >82.917411</td>\n",
       "                        <td id=\"T_358a8fa0_5e92_11eb_94f9_acde48001122row11_col2\" class=\"data row11 col2\" >83.383495</td>\n",
       "                        <td id=\"T_358a8fa0_5e92_11eb_94f9_acde48001122row11_col3\" class=\"data row11 col3\" >83.778976</td>\n",
       "                        <td id=\"T_358a8fa0_5e92_11eb_94f9_acde48001122row11_col4\" class=\"data row11 col4\" >83.359455</td>\n",
       "            </tr>\n",
       "            <tr>\n",
       "                        <th id=\"T_358a8fa0_5e92_11eb_94f9_acde48001122level0_row12\" class=\"row_heading level0 row12\" >Thomas High School</th>\n",
       "                        <td id=\"T_358a8fa0_5e92_11eb_94f9_acde48001122row12_col0\" class=\"data row12 col0\" >83.590022</td>\n",
       "                        <td id=\"T_358a8fa0_5e92_11eb_94f9_acde48001122row12_col1\" class=\"data row12 col1\" >83.087886</td>\n",
       "                        <td id=\"T_358a8fa0_5e92_11eb_94f9_acde48001122row12_col2\" class=\"data row12 col2\" >83.498795</td>\n",
       "                        <td id=\"T_358a8fa0_5e92_11eb_94f9_acde48001122row12_col3\" class=\"data row12 col3\" >83.497041</td>\n",
       "                        <td id=\"T_358a8fa0_5e92_11eb_94f9_acde48001122row12_col4\" class=\"data row12 col4\" >83.418349</td>\n",
       "            </tr>\n",
       "            <tr>\n",
       "                        <th id=\"T_358a8fa0_5e92_11eb_94f9_acde48001122level0_row13\" class=\"row_heading level0 row13\" >Wilson High School</th>\n",
       "                        <td id=\"T_358a8fa0_5e92_11eb_94f9_acde48001122row13_col0\" class=\"data row13 col0\" >83.085578</td>\n",
       "                        <td id=\"T_358a8fa0_5e92_11eb_94f9_acde48001122row13_col1\" class=\"data row13 col1\" >83.724422</td>\n",
       "                        <td id=\"T_358a8fa0_5e92_11eb_94f9_acde48001122row13_col2\" class=\"data row13 col2\" >83.195326</td>\n",
       "                        <td id=\"T_358a8fa0_5e92_11eb_94f9_acde48001122row13_col3\" class=\"data row13 col3\" >83.035794</td>\n",
       "                        <td id=\"T_358a8fa0_5e92_11eb_94f9_acde48001122row13_col4\" class=\"data row13 col4\" >83.274201</td>\n",
       "            </tr>\n",
       "            <tr>\n",
       "                        <th id=\"T_358a8fa0_5e92_11eb_94f9_acde48001122level0_row14\" class=\"row_heading level0 row14\" >Wright High School</th>\n",
       "                        <td id=\"T_358a8fa0_5e92_11eb_94f9_acde48001122row14_col0\" class=\"data row14 col0\" >83.264706</td>\n",
       "                        <td id=\"T_358a8fa0_5e92_11eb_94f9_acde48001122row14_col1\" class=\"data row14 col1\" >84.010288</td>\n",
       "                        <td id=\"T_358a8fa0_5e92_11eb_94f9_acde48001122row14_col2\" class=\"data row14 col2\" >83.836782</td>\n",
       "                        <td id=\"T_358a8fa0_5e92_11eb_94f9_acde48001122row14_col3\" class=\"data row14 col3\" >83.644986</td>\n",
       "                        <td id=\"T_358a8fa0_5e92_11eb_94f9_acde48001122row14_col4\" class=\"data row14 col4\" >83.682222</td>\n",
       "            </tr>\n",
       "    </tbody></table>"
      ],
      "text/plain": [
       "<pandas.io.formats.style.Styler at 0x7f8427560c70>"
      ]
     },
     "execution_count": 155,
     "metadata": {},
     "output_type": "execute_result"
    }
   ],
   "source": [
    "#rename index column and print math scores by grade table\n",
    "mathscores_grade.index.name= \"School Name\"\n",
    "mathscores_grade.style.set_properties(**{'text-align':'left'})"
   ]
  },
  {
   "cell_type": "code",
   "execution_count": null,
   "metadata": {},
   "outputs": [],
   "source": []
  },
  {
   "cell_type": "markdown",
   "metadata": {},
   "source": [
    "## _Reading Scores by Grade_"
   ]
  },
  {
   "cell_type": "code",
   "execution_count": 156,
   "metadata": {},
   "outputs": [],
   "source": [
    "#filter data by school for an average reading score by grade and school\n",
    "readgrade_nine = pycity_data[pycity_data['grade'] == \"9th\"].groupby('school_name').mean()['reading_score']\n",
    "readgrade_ten = pycity_data[pycity_data['grade'] == \"10th\"].groupby('school_name').mean()['reading_score']\n",
    "readgrade_eleven = pycity_data[pycity_data['grade'] == \"11th\"].groupby('school_name').mean()['reading_score']\n",
    "readgrade_twelve = pycity_data[pycity_data['grade'] == \"12th\"].groupby('school_name').mean()['reading_score']\n",
    "readgrade_total = pycity_data.groupby('school_name').mean()['reading_score']"
   ]
  },
  {
   "cell_type": "code",
   "execution_count": 157,
   "metadata": {},
   "outputs": [],
   "source": [
    "#create reading scores table with columns titles and place filtered data\n",
    "readscores_grade = pd.DataFrame({\"9th\":readgrade_nine,\"10th\":readgrade_ten,\"11th\":readgrade_eleven,\"12th\":readgrade_twelve,\"Overall\":readgrade_total})"
   ]
  },
  {
   "cell_type": "code",
   "execution_count": 158,
   "metadata": {},
   "outputs": [
    {
     "data": {
      "text/html": [
       "<style  type=\"text/css\" >\n",
       "#T_3626839c_5e92_11eb_94f9_acde48001122row0_col0,#T_3626839c_5e92_11eb_94f9_acde48001122row0_col1,#T_3626839c_5e92_11eb_94f9_acde48001122row0_col2,#T_3626839c_5e92_11eb_94f9_acde48001122row0_col3,#T_3626839c_5e92_11eb_94f9_acde48001122row0_col4,#T_3626839c_5e92_11eb_94f9_acde48001122row1_col0,#T_3626839c_5e92_11eb_94f9_acde48001122row1_col1,#T_3626839c_5e92_11eb_94f9_acde48001122row1_col2,#T_3626839c_5e92_11eb_94f9_acde48001122row1_col3,#T_3626839c_5e92_11eb_94f9_acde48001122row1_col4,#T_3626839c_5e92_11eb_94f9_acde48001122row2_col0,#T_3626839c_5e92_11eb_94f9_acde48001122row2_col1,#T_3626839c_5e92_11eb_94f9_acde48001122row2_col2,#T_3626839c_5e92_11eb_94f9_acde48001122row2_col3,#T_3626839c_5e92_11eb_94f9_acde48001122row2_col4,#T_3626839c_5e92_11eb_94f9_acde48001122row3_col0,#T_3626839c_5e92_11eb_94f9_acde48001122row3_col1,#T_3626839c_5e92_11eb_94f9_acde48001122row3_col2,#T_3626839c_5e92_11eb_94f9_acde48001122row3_col3,#T_3626839c_5e92_11eb_94f9_acde48001122row3_col4,#T_3626839c_5e92_11eb_94f9_acde48001122row4_col0,#T_3626839c_5e92_11eb_94f9_acde48001122row4_col1,#T_3626839c_5e92_11eb_94f9_acde48001122row4_col2,#T_3626839c_5e92_11eb_94f9_acde48001122row4_col3,#T_3626839c_5e92_11eb_94f9_acde48001122row4_col4,#T_3626839c_5e92_11eb_94f9_acde48001122row5_col0,#T_3626839c_5e92_11eb_94f9_acde48001122row5_col1,#T_3626839c_5e92_11eb_94f9_acde48001122row5_col2,#T_3626839c_5e92_11eb_94f9_acde48001122row5_col3,#T_3626839c_5e92_11eb_94f9_acde48001122row5_col4,#T_3626839c_5e92_11eb_94f9_acde48001122row6_col0,#T_3626839c_5e92_11eb_94f9_acde48001122row6_col1,#T_3626839c_5e92_11eb_94f9_acde48001122row6_col2,#T_3626839c_5e92_11eb_94f9_acde48001122row6_col3,#T_3626839c_5e92_11eb_94f9_acde48001122row6_col4,#T_3626839c_5e92_11eb_94f9_acde48001122row7_col0,#T_3626839c_5e92_11eb_94f9_acde48001122row7_col1,#T_3626839c_5e92_11eb_94f9_acde48001122row7_col2,#T_3626839c_5e92_11eb_94f9_acde48001122row7_col3,#T_3626839c_5e92_11eb_94f9_acde48001122row7_col4,#T_3626839c_5e92_11eb_94f9_acde48001122row8_col0,#T_3626839c_5e92_11eb_94f9_acde48001122row8_col1,#T_3626839c_5e92_11eb_94f9_acde48001122row8_col2,#T_3626839c_5e92_11eb_94f9_acde48001122row8_col3,#T_3626839c_5e92_11eb_94f9_acde48001122row8_col4,#T_3626839c_5e92_11eb_94f9_acde48001122row9_col0,#T_3626839c_5e92_11eb_94f9_acde48001122row9_col1,#T_3626839c_5e92_11eb_94f9_acde48001122row9_col2,#T_3626839c_5e92_11eb_94f9_acde48001122row9_col3,#T_3626839c_5e92_11eb_94f9_acde48001122row9_col4,#T_3626839c_5e92_11eb_94f9_acde48001122row10_col0,#T_3626839c_5e92_11eb_94f9_acde48001122row10_col1,#T_3626839c_5e92_11eb_94f9_acde48001122row10_col2,#T_3626839c_5e92_11eb_94f9_acde48001122row10_col3,#T_3626839c_5e92_11eb_94f9_acde48001122row10_col4,#T_3626839c_5e92_11eb_94f9_acde48001122row11_col0,#T_3626839c_5e92_11eb_94f9_acde48001122row11_col1,#T_3626839c_5e92_11eb_94f9_acde48001122row11_col2,#T_3626839c_5e92_11eb_94f9_acde48001122row11_col3,#T_3626839c_5e92_11eb_94f9_acde48001122row11_col4,#T_3626839c_5e92_11eb_94f9_acde48001122row12_col0,#T_3626839c_5e92_11eb_94f9_acde48001122row12_col1,#T_3626839c_5e92_11eb_94f9_acde48001122row12_col2,#T_3626839c_5e92_11eb_94f9_acde48001122row12_col3,#T_3626839c_5e92_11eb_94f9_acde48001122row12_col4,#T_3626839c_5e92_11eb_94f9_acde48001122row13_col0,#T_3626839c_5e92_11eb_94f9_acde48001122row13_col1,#T_3626839c_5e92_11eb_94f9_acde48001122row13_col2,#T_3626839c_5e92_11eb_94f9_acde48001122row13_col3,#T_3626839c_5e92_11eb_94f9_acde48001122row13_col4,#T_3626839c_5e92_11eb_94f9_acde48001122row14_col0,#T_3626839c_5e92_11eb_94f9_acde48001122row14_col1,#T_3626839c_5e92_11eb_94f9_acde48001122row14_col2,#T_3626839c_5e92_11eb_94f9_acde48001122row14_col3,#T_3626839c_5e92_11eb_94f9_acde48001122row14_col4{\n",
       "            text-align:  left;\n",
       "        }</style><table id=\"T_3626839c_5e92_11eb_94f9_acde48001122\" ><thead>    <tr>        <th class=\"blank level0\" ></th>        <th class=\"col_heading level0 col0\" >9th</th>        <th class=\"col_heading level0 col1\" >10th</th>        <th class=\"col_heading level0 col2\" >11th</th>        <th class=\"col_heading level0 col3\" >12th</th>        <th class=\"col_heading level0 col4\" >Overall</th>    </tr>    <tr>        <th class=\"index_name level0\" >School Name</th>        <th class=\"blank\" ></th>        <th class=\"blank\" ></th>        <th class=\"blank\" ></th>        <th class=\"blank\" ></th>        <th class=\"blank\" ></th>    </tr></thead><tbody>\n",
       "                <tr>\n",
       "                        <th id=\"T_3626839c_5e92_11eb_94f9_acde48001122level0_row0\" class=\"row_heading level0 row0\" >Bailey High School</th>\n",
       "                        <td id=\"T_3626839c_5e92_11eb_94f9_acde48001122row0_col0\" class=\"data row0 col0\" >81.303155</td>\n",
       "                        <td id=\"T_3626839c_5e92_11eb_94f9_acde48001122row0_col1\" class=\"data row0 col1\" >80.907183</td>\n",
       "                        <td id=\"T_3626839c_5e92_11eb_94f9_acde48001122row0_col2\" class=\"data row0 col2\" >80.945643</td>\n",
       "                        <td id=\"T_3626839c_5e92_11eb_94f9_acde48001122row0_col3\" class=\"data row0 col3\" >80.912451</td>\n",
       "                        <td id=\"T_3626839c_5e92_11eb_94f9_acde48001122row0_col4\" class=\"data row0 col4\" >81.033963</td>\n",
       "            </tr>\n",
       "            <tr>\n",
       "                        <th id=\"T_3626839c_5e92_11eb_94f9_acde48001122level0_row1\" class=\"row_heading level0 row1\" >Cabrera High School</th>\n",
       "                        <td id=\"T_3626839c_5e92_11eb_94f9_acde48001122row1_col0\" class=\"data row1 col0\" >83.676136</td>\n",
       "                        <td id=\"T_3626839c_5e92_11eb_94f9_acde48001122row1_col1\" class=\"data row1 col1\" >84.253219</td>\n",
       "                        <td id=\"T_3626839c_5e92_11eb_94f9_acde48001122row1_col2\" class=\"data row1 col2\" >83.788382</td>\n",
       "                        <td id=\"T_3626839c_5e92_11eb_94f9_acde48001122row1_col3\" class=\"data row1 col3\" >84.287958</td>\n",
       "                        <td id=\"T_3626839c_5e92_11eb_94f9_acde48001122row1_col4\" class=\"data row1 col4\" >83.975780</td>\n",
       "            </tr>\n",
       "            <tr>\n",
       "                        <th id=\"T_3626839c_5e92_11eb_94f9_acde48001122level0_row2\" class=\"row_heading level0 row2\" >Figueroa High School</th>\n",
       "                        <td id=\"T_3626839c_5e92_11eb_94f9_acde48001122row2_col0\" class=\"data row2 col0\" >81.198598</td>\n",
       "                        <td id=\"T_3626839c_5e92_11eb_94f9_acde48001122row2_col1\" class=\"data row2 col1\" >81.408912</td>\n",
       "                        <td id=\"T_3626839c_5e92_11eb_94f9_acde48001122row2_col2\" class=\"data row2 col2\" >80.640339</td>\n",
       "                        <td id=\"T_3626839c_5e92_11eb_94f9_acde48001122row2_col3\" class=\"data row2 col3\" >81.384863</td>\n",
       "                        <td id=\"T_3626839c_5e92_11eb_94f9_acde48001122row2_col4\" class=\"data row2 col4\" >81.158020</td>\n",
       "            </tr>\n",
       "            <tr>\n",
       "                        <th id=\"T_3626839c_5e92_11eb_94f9_acde48001122level0_row3\" class=\"row_heading level0 row3\" >Ford High School</th>\n",
       "                        <td id=\"T_3626839c_5e92_11eb_94f9_acde48001122row3_col0\" class=\"data row3 col0\" >80.632653</td>\n",
       "                        <td id=\"T_3626839c_5e92_11eb_94f9_acde48001122row3_col1\" class=\"data row3 col1\" >81.262712</td>\n",
       "                        <td id=\"T_3626839c_5e92_11eb_94f9_acde48001122row3_col2\" class=\"data row3 col2\" >80.403642</td>\n",
       "                        <td id=\"T_3626839c_5e92_11eb_94f9_acde48001122row3_col3\" class=\"data row3 col3\" >80.662338</td>\n",
       "                        <td id=\"T_3626839c_5e92_11eb_94f9_acde48001122row3_col4\" class=\"data row3 col4\" >80.746258</td>\n",
       "            </tr>\n",
       "            <tr>\n",
       "                        <th id=\"T_3626839c_5e92_11eb_94f9_acde48001122level0_row4\" class=\"row_heading level0 row4\" >Griffin High School</th>\n",
       "                        <td id=\"T_3626839c_5e92_11eb_94f9_acde48001122row4_col0\" class=\"data row4 col0\" >83.369193</td>\n",
       "                        <td id=\"T_3626839c_5e92_11eb_94f9_acde48001122row4_col1\" class=\"data row4 col1\" >83.706897</td>\n",
       "                        <td id=\"T_3626839c_5e92_11eb_94f9_acde48001122row4_col2\" class=\"data row4 col2\" >84.288089</td>\n",
       "                        <td id=\"T_3626839c_5e92_11eb_94f9_acde48001122row4_col3\" class=\"data row4 col3\" >84.013699</td>\n",
       "                        <td id=\"T_3626839c_5e92_11eb_94f9_acde48001122row4_col4\" class=\"data row4 col4\" >83.816757</td>\n",
       "            </tr>\n",
       "            <tr>\n",
       "                        <th id=\"T_3626839c_5e92_11eb_94f9_acde48001122level0_row5\" class=\"row_heading level0 row5\" >Hernandez High School</th>\n",
       "                        <td id=\"T_3626839c_5e92_11eb_94f9_acde48001122row5_col0\" class=\"data row5 col0\" >80.866860</td>\n",
       "                        <td id=\"T_3626839c_5e92_11eb_94f9_acde48001122row5_col1\" class=\"data row5 col1\" >80.660147</td>\n",
       "                        <td id=\"T_3626839c_5e92_11eb_94f9_acde48001122row5_col2\" class=\"data row5 col2\" >81.396140</td>\n",
       "                        <td id=\"T_3626839c_5e92_11eb_94f9_acde48001122row5_col3\" class=\"data row5 col3\" >80.857143</td>\n",
       "                        <td id=\"T_3626839c_5e92_11eb_94f9_acde48001122row5_col4\" class=\"data row5 col4\" >80.934412</td>\n",
       "            </tr>\n",
       "            <tr>\n",
       "                        <th id=\"T_3626839c_5e92_11eb_94f9_acde48001122level0_row6\" class=\"row_heading level0 row6\" >Holden High School</th>\n",
       "                        <td id=\"T_3626839c_5e92_11eb_94f9_acde48001122row6_col0\" class=\"data row6 col0\" >83.677165</td>\n",
       "                        <td id=\"T_3626839c_5e92_11eb_94f9_acde48001122row6_col1\" class=\"data row6 col1\" >83.324561</td>\n",
       "                        <td id=\"T_3626839c_5e92_11eb_94f9_acde48001122row6_col2\" class=\"data row6 col2\" >83.815534</td>\n",
       "                        <td id=\"T_3626839c_5e92_11eb_94f9_acde48001122row6_col3\" class=\"data row6 col3\" >84.698795</td>\n",
       "                        <td id=\"T_3626839c_5e92_11eb_94f9_acde48001122row6_col4\" class=\"data row6 col4\" >83.814988</td>\n",
       "            </tr>\n",
       "            <tr>\n",
       "                        <th id=\"T_3626839c_5e92_11eb_94f9_acde48001122level0_row7\" class=\"row_heading level0 row7\" >Huang High School</th>\n",
       "                        <td id=\"T_3626839c_5e92_11eb_94f9_acde48001122row7_col0\" class=\"data row7 col0\" >81.290284</td>\n",
       "                        <td id=\"T_3626839c_5e92_11eb_94f9_acde48001122row7_col1\" class=\"data row7 col1\" >81.512386</td>\n",
       "                        <td id=\"T_3626839c_5e92_11eb_94f9_acde48001122row7_col2\" class=\"data row7 col2\" >81.417476</td>\n",
       "                        <td id=\"T_3626839c_5e92_11eb_94f9_acde48001122row7_col3\" class=\"data row7 col3\" >80.305983</td>\n",
       "                        <td id=\"T_3626839c_5e92_11eb_94f9_acde48001122row7_col4\" class=\"data row7 col4\" >81.182722</td>\n",
       "            </tr>\n",
       "            <tr>\n",
       "                        <th id=\"T_3626839c_5e92_11eb_94f9_acde48001122level0_row8\" class=\"row_heading level0 row8\" >Johnson High School</th>\n",
       "                        <td id=\"T_3626839c_5e92_11eb_94f9_acde48001122row8_col0\" class=\"data row8 col0\" >81.260714</td>\n",
       "                        <td id=\"T_3626839c_5e92_11eb_94f9_acde48001122row8_col1\" class=\"data row8 col1\" >80.773431</td>\n",
       "                        <td id=\"T_3626839c_5e92_11eb_94f9_acde48001122row8_col2\" class=\"data row8 col2\" >80.616027</td>\n",
       "                        <td id=\"T_3626839c_5e92_11eb_94f9_acde48001122row8_col3\" class=\"data row8 col3\" >81.227564</td>\n",
       "                        <td id=\"T_3626839c_5e92_11eb_94f9_acde48001122row8_col4\" class=\"data row8 col4\" >80.966394</td>\n",
       "            </tr>\n",
       "            <tr>\n",
       "                        <th id=\"T_3626839c_5e92_11eb_94f9_acde48001122level0_row9\" class=\"row_heading level0 row9\" >Pena High School</th>\n",
       "                        <td id=\"T_3626839c_5e92_11eb_94f9_acde48001122row9_col0\" class=\"data row9 col0\" >83.807273</td>\n",
       "                        <td id=\"T_3626839c_5e92_11eb_94f9_acde48001122row9_col1\" class=\"data row9 col1\" >83.612000</td>\n",
       "                        <td id=\"T_3626839c_5e92_11eb_94f9_acde48001122row9_col2\" class=\"data row9 col2\" >84.335938</td>\n",
       "                        <td id=\"T_3626839c_5e92_11eb_94f9_acde48001122row9_col3\" class=\"data row9 col3\" >84.591160</td>\n",
       "                        <td id=\"T_3626839c_5e92_11eb_94f9_acde48001122row9_col4\" class=\"data row9 col4\" >84.044699</td>\n",
       "            </tr>\n",
       "            <tr>\n",
       "                        <th id=\"T_3626839c_5e92_11eb_94f9_acde48001122level0_row10\" class=\"row_heading level0 row10\" >Rodriguez High School</th>\n",
       "                        <td id=\"T_3626839c_5e92_11eb_94f9_acde48001122row10_col0\" class=\"data row10 col0\" >80.993127</td>\n",
       "                        <td id=\"T_3626839c_5e92_11eb_94f9_acde48001122row10_col1\" class=\"data row10 col1\" >80.629808</td>\n",
       "                        <td id=\"T_3626839c_5e92_11eb_94f9_acde48001122row10_col2\" class=\"data row10 col2\" >80.864811</td>\n",
       "                        <td id=\"T_3626839c_5e92_11eb_94f9_acde48001122row10_col3\" class=\"data row10 col3\" >80.376426</td>\n",
       "                        <td id=\"T_3626839c_5e92_11eb_94f9_acde48001122row10_col4\" class=\"data row10 col4\" >80.744686</td>\n",
       "            </tr>\n",
       "            <tr>\n",
       "                        <th id=\"T_3626839c_5e92_11eb_94f9_acde48001122level0_row11\" class=\"row_heading level0 row11\" >Shelton High School</th>\n",
       "                        <td id=\"T_3626839c_5e92_11eb_94f9_acde48001122row11_col0\" class=\"data row11 col0\" >84.122642</td>\n",
       "                        <td id=\"T_3626839c_5e92_11eb_94f9_acde48001122row11_col1\" class=\"data row11 col1\" >83.441964</td>\n",
       "                        <td id=\"T_3626839c_5e92_11eb_94f9_acde48001122row11_col2\" class=\"data row11 col2\" >84.373786</td>\n",
       "                        <td id=\"T_3626839c_5e92_11eb_94f9_acde48001122row11_col3\" class=\"data row11 col3\" >82.781671</td>\n",
       "                        <td id=\"T_3626839c_5e92_11eb_94f9_acde48001122row11_col4\" class=\"data row11 col4\" >83.725724</td>\n",
       "            </tr>\n",
       "            <tr>\n",
       "                        <th id=\"T_3626839c_5e92_11eb_94f9_acde48001122level0_row12\" class=\"row_heading level0 row12\" >Thomas High School</th>\n",
       "                        <td id=\"T_3626839c_5e92_11eb_94f9_acde48001122row12_col0\" class=\"data row12 col0\" >83.728850</td>\n",
       "                        <td id=\"T_3626839c_5e92_11eb_94f9_acde48001122row12_col1\" class=\"data row12 col1\" >84.254157</td>\n",
       "                        <td id=\"T_3626839c_5e92_11eb_94f9_acde48001122row12_col2\" class=\"data row12 col2\" >83.585542</td>\n",
       "                        <td id=\"T_3626839c_5e92_11eb_94f9_acde48001122row12_col3\" class=\"data row12 col3\" >83.831361</td>\n",
       "                        <td id=\"T_3626839c_5e92_11eb_94f9_acde48001122row12_col4\" class=\"data row12 col4\" >83.848930</td>\n",
       "            </tr>\n",
       "            <tr>\n",
       "                        <th id=\"T_3626839c_5e92_11eb_94f9_acde48001122level0_row13\" class=\"row_heading level0 row13\" >Wilson High School</th>\n",
       "                        <td id=\"T_3626839c_5e92_11eb_94f9_acde48001122row13_col0\" class=\"data row13 col0\" >83.939778</td>\n",
       "                        <td id=\"T_3626839c_5e92_11eb_94f9_acde48001122row13_col1\" class=\"data row13 col1\" >84.021452</td>\n",
       "                        <td id=\"T_3626839c_5e92_11eb_94f9_acde48001122row13_col2\" class=\"data row13 col2\" >83.764608</td>\n",
       "                        <td id=\"T_3626839c_5e92_11eb_94f9_acde48001122row13_col3\" class=\"data row13 col3\" >84.317673</td>\n",
       "                        <td id=\"T_3626839c_5e92_11eb_94f9_acde48001122row13_col4\" class=\"data row13 col4\" >83.989488</td>\n",
       "            </tr>\n",
       "            <tr>\n",
       "                        <th id=\"T_3626839c_5e92_11eb_94f9_acde48001122level0_row14\" class=\"row_heading level0 row14\" >Wright High School</th>\n",
       "                        <td id=\"T_3626839c_5e92_11eb_94f9_acde48001122row14_col0\" class=\"data row14 col0\" >83.833333</td>\n",
       "                        <td id=\"T_3626839c_5e92_11eb_94f9_acde48001122row14_col1\" class=\"data row14 col1\" >83.812757</td>\n",
       "                        <td id=\"T_3626839c_5e92_11eb_94f9_acde48001122row14_col2\" class=\"data row14 col2\" >84.156322</td>\n",
       "                        <td id=\"T_3626839c_5e92_11eb_94f9_acde48001122row14_col3\" class=\"data row14 col3\" >84.073171</td>\n",
       "                        <td id=\"T_3626839c_5e92_11eb_94f9_acde48001122row14_col4\" class=\"data row14 col4\" >83.955000</td>\n",
       "            </tr>\n",
       "    </tbody></table>"
      ],
      "text/plain": [
       "<pandas.io.formats.style.Styler at 0x7f842768a880>"
      ]
     },
     "execution_count": 158,
     "metadata": {},
     "output_type": "execute_result"
    }
   ],
   "source": [
    "#rename index column and print reading scores by grade table\n",
    "readscores_grade.index.name= \"School Name\"\n",
    "readscores_grade.style.set_properties(**{'text-align':'left'})"
   ]
  },
  {
   "cell_type": "code",
   "execution_count": null,
   "metadata": {},
   "outputs": [],
   "source": []
  },
  {
   "cell_type": "markdown",
   "metadata": {},
   "source": [
    "## _Scores by School Spending_"
   ]
  },
  {
   "cell_type": "code",
   "execution_count": 159,
   "metadata": {},
   "outputs": [],
   "source": [
    "#create custom ranges and labels for groupby based on school spending per student\n",
    "studentspending = [0,584,629,644,675]\n",
    "spendinglabels = [\"<$584\",\"$585-629\",\"$630-644\",\"$645-675\"]"
   ]
  },
  {
   "cell_type": "code",
   "execution_count": 160,
   "metadata": {},
   "outputs": [],
   "source": [
    "#pull per student budget data from summary table and place into ranges\n",
    "schoolscores = school_summary[\"Spending Ranges (Per Student)\"]=pd.cut(school_summary[\"Per Student Budget\"], studentspending,labels=spendinglabels)"
   ]
  },
  {
   "cell_type": "code",
   "execution_count": 161,
   "metadata": {},
   "outputs": [],
   "source": [
    "#calculate and place average math and reading scores, percentage of students passing math and reading, and percentage of students passing both math and reading\n",
    "schoolscores_spending = school_summary.groupby(\"Spending Ranges (Per Student)\").mean()"
   ]
  },
  {
   "cell_type": "code",
   "execution_count": 162,
   "metadata": {},
   "outputs": [],
   "source": [
    "#configure table with relevant information\n",
    "del schoolscores_spending['Total Students']\n",
    "del schoolscores_spending['Total School Budget']\n",
    "del schoolscores_spending['Per Student Budget']"
   ]
  },
  {
   "cell_type": "code",
   "execution_count": 163,
   "metadata": {},
   "outputs": [
    {
     "data": {
      "text/html": [
       "<style  type=\"text/css\" >\n",
       "#T_37711b18_5e92_11eb_94f9_acde48001122row0_col0,#T_37711b18_5e92_11eb_94f9_acde48001122row0_col1,#T_37711b18_5e92_11eb_94f9_acde48001122row0_col2,#T_37711b18_5e92_11eb_94f9_acde48001122row0_col3,#T_37711b18_5e92_11eb_94f9_acde48001122row0_col4,#T_37711b18_5e92_11eb_94f9_acde48001122row1_col0,#T_37711b18_5e92_11eb_94f9_acde48001122row1_col1,#T_37711b18_5e92_11eb_94f9_acde48001122row1_col2,#T_37711b18_5e92_11eb_94f9_acde48001122row1_col3,#T_37711b18_5e92_11eb_94f9_acde48001122row1_col4,#T_37711b18_5e92_11eb_94f9_acde48001122row2_col0,#T_37711b18_5e92_11eb_94f9_acde48001122row2_col1,#T_37711b18_5e92_11eb_94f9_acde48001122row2_col2,#T_37711b18_5e92_11eb_94f9_acde48001122row2_col3,#T_37711b18_5e92_11eb_94f9_acde48001122row2_col4,#T_37711b18_5e92_11eb_94f9_acde48001122row3_col0,#T_37711b18_5e92_11eb_94f9_acde48001122row3_col1,#T_37711b18_5e92_11eb_94f9_acde48001122row3_col2,#T_37711b18_5e92_11eb_94f9_acde48001122row3_col3,#T_37711b18_5e92_11eb_94f9_acde48001122row3_col4{\n",
       "            text-align:  left;\n",
       "        }</style><table id=\"T_37711b18_5e92_11eb_94f9_acde48001122\" ><thead>    <tr>        <th class=\"blank level0\" ></th>        <th class=\"col_heading level0 col0\" >Average Math Score</th>        <th class=\"col_heading level0 col1\" >Average Reading Score</th>        <th class=\"col_heading level0 col2\" >% Passing Math</th>        <th class=\"col_heading level0 col3\" >% Passing Reading</th>        <th class=\"col_heading level0 col4\" >% Overall Passing</th>    </tr>    <tr>        <th class=\"index_name level0\" >Spending Ranges (Per Student)</th>        <th class=\"blank\" ></th>        <th class=\"blank\" ></th>        <th class=\"blank\" ></th>        <th class=\"blank\" ></th>        <th class=\"blank\" ></th>    </tr></thead><tbody>\n",
       "                <tr>\n",
       "                        <th id=\"T_37711b18_5e92_11eb_94f9_acde48001122level0_row0\" class=\"row_heading level0 row0\" ><$584</th>\n",
       "                        <td id=\"T_37711b18_5e92_11eb_94f9_acde48001122row0_col0\" class=\"data row0 col0\" >83.46</td>\n",
       "                        <td id=\"T_37711b18_5e92_11eb_94f9_acde48001122row0_col1\" class=\"data row0 col1\" >83.93</td>\n",
       "                        <td id=\"T_37711b18_5e92_11eb_94f9_acde48001122row0_col2\" class=\"data row0 col2\" >93.46</td>\n",
       "                        <td id=\"T_37711b18_5e92_11eb_94f9_acde48001122row0_col3\" class=\"data row0 col3\" >96.61</td>\n",
       "                        <td id=\"T_37711b18_5e92_11eb_94f9_acde48001122row0_col4\" class=\"data row0 col4\" >90.37</td>\n",
       "            </tr>\n",
       "            <tr>\n",
       "                        <th id=\"T_37711b18_5e92_11eb_94f9_acde48001122level0_row1\" class=\"row_heading level0 row1\" >$585-629</th>\n",
       "                        <td id=\"T_37711b18_5e92_11eb_94f9_acde48001122row1_col0\" class=\"data row1 col0\" >81.90</td>\n",
       "                        <td id=\"T_37711b18_5e92_11eb_94f9_acde48001122row1_col1\" class=\"data row1 col1\" >83.16</td>\n",
       "                        <td id=\"T_37711b18_5e92_11eb_94f9_acde48001122row1_col2\" class=\"data row1 col2\" >87.13</td>\n",
       "                        <td id=\"T_37711b18_5e92_11eb_94f9_acde48001122row1_col3\" class=\"data row1 col3\" >92.72</td>\n",
       "                        <td id=\"T_37711b18_5e92_11eb_94f9_acde48001122row1_col4\" class=\"data row1 col4\" >81.42</td>\n",
       "            </tr>\n",
       "            <tr>\n",
       "                        <th id=\"T_37711b18_5e92_11eb_94f9_acde48001122level0_row2\" class=\"row_heading level0 row2\" >$630-644</th>\n",
       "                        <td id=\"T_37711b18_5e92_11eb_94f9_acde48001122row2_col0\" class=\"data row2 col0\" >78.52</td>\n",
       "                        <td id=\"T_37711b18_5e92_11eb_94f9_acde48001122row2_col1\" class=\"data row2 col1\" >81.62</td>\n",
       "                        <td id=\"T_37711b18_5e92_11eb_94f9_acde48001122row2_col2\" class=\"data row2 col2\" >73.48</td>\n",
       "                        <td id=\"T_37711b18_5e92_11eb_94f9_acde48001122row2_col3\" class=\"data row2 col3\" >84.39</td>\n",
       "                        <td id=\"T_37711b18_5e92_11eb_94f9_acde48001122row2_col4\" class=\"data row2 col4\" >62.86</td>\n",
       "            </tr>\n",
       "            <tr>\n",
       "                        <th id=\"T_37711b18_5e92_11eb_94f9_acde48001122level0_row3\" class=\"row_heading level0 row3\" >$645-675</th>\n",
       "                        <td id=\"T_37711b18_5e92_11eb_94f9_acde48001122row3_col0\" class=\"data row3 col0\" >77.00</td>\n",
       "                        <td id=\"T_37711b18_5e92_11eb_94f9_acde48001122row3_col1\" class=\"data row3 col1\" >81.03</td>\n",
       "                        <td id=\"T_37711b18_5e92_11eb_94f9_acde48001122row3_col2\" class=\"data row3 col2\" >66.16</td>\n",
       "                        <td id=\"T_37711b18_5e92_11eb_94f9_acde48001122row3_col3\" class=\"data row3 col3\" >81.13</td>\n",
       "                        <td id=\"T_37711b18_5e92_11eb_94f9_acde48001122row3_col4\" class=\"data row3 col4\" >53.53</td>\n",
       "            </tr>\n",
       "    </tbody></table>"
      ],
      "text/plain": [
       "<pandas.io.formats.style.Styler at 0x7f8427560130>"
      ]
     },
     "execution_count": 163,
     "metadata": {},
     "output_type": "execute_result"
    }
   ],
   "source": [
    "#format scores by school spending summary table\n",
    "schoolscorespending_dict = {'Average Math Score':'{0:,.2f}',\n",
    "                            'Average Reading Score':'{0:,.2f}',\n",
    "                            '% Passing Math':'{0:,.2f}',\n",
    "                            '% Passing Reading':'{0:,.2f}',\n",
    "                            '% Overall Passing':'{0:,.2f}'}\n",
    "schoolscores_spending.style.format(schoolscorespending_dict).set_properties(**{'text-align':'left'})"
   ]
  },
  {
   "cell_type": "code",
   "execution_count": null,
   "metadata": {},
   "outputs": [],
   "source": []
  },
  {
   "cell_type": "markdown",
   "metadata": {},
   "source": [
    "## _Scores by School Size_"
   ]
  },
  {
   "cell_type": "code",
   "execution_count": 164,
   "metadata": {},
   "outputs": [],
   "source": [
    "#create custom ranges and labels for groupby based on school size\n",
    "schoolstudentsize = [0,1000,2000,5000]\n",
    "sizelabels = [\"Small (<1000)\",\"Medium (1000-2000)\",\"Large (2000-5000)\"]"
   ]
  },
  {
   "cell_type": "code",
   "execution_count": 165,
   "metadata": {},
   "outputs": [],
   "source": [
    "#pull school size data from summary table and place into ranges\n",
    "schoolsize = school_summary[\"School Size\"]=pd.cut(school_summary[\"Total Students\"], schoolstudentsize,labels=sizelabels)"
   ]
  },
  {
   "cell_type": "code",
   "execution_count": 166,
   "metadata": {},
   "outputs": [],
   "source": [
    "#calculate and place average math and reading scores, percentage of students passing math and reading, and percentage of students passing both math and reading\n",
    "schoolscores_size = school_summary.groupby(\"School Size\").mean()"
   ]
  },
  {
   "cell_type": "code",
   "execution_count": 167,
   "metadata": {},
   "outputs": [
    {
     "data": {
      "text/html": [
       "<style  type=\"text/css\" >\n",
       "#T_3876ecae_5e92_11eb_94f9_acde48001122row0_col0,#T_3876ecae_5e92_11eb_94f9_acde48001122row0_col1,#T_3876ecae_5e92_11eb_94f9_acde48001122row0_col2,#T_3876ecae_5e92_11eb_94f9_acde48001122row0_col3,#T_3876ecae_5e92_11eb_94f9_acde48001122row0_col4,#T_3876ecae_5e92_11eb_94f9_acde48001122row1_col0,#T_3876ecae_5e92_11eb_94f9_acde48001122row1_col1,#T_3876ecae_5e92_11eb_94f9_acde48001122row1_col2,#T_3876ecae_5e92_11eb_94f9_acde48001122row1_col3,#T_3876ecae_5e92_11eb_94f9_acde48001122row1_col4,#T_3876ecae_5e92_11eb_94f9_acde48001122row2_col0,#T_3876ecae_5e92_11eb_94f9_acde48001122row2_col1,#T_3876ecae_5e92_11eb_94f9_acde48001122row2_col2,#T_3876ecae_5e92_11eb_94f9_acde48001122row2_col3,#T_3876ecae_5e92_11eb_94f9_acde48001122row2_col4{\n",
       "            text-align:  left;\n",
       "        }</style><table id=\"T_3876ecae_5e92_11eb_94f9_acde48001122\" ><thead>    <tr>        <th class=\"blank level0\" ></th>        <th class=\"col_heading level0 col0\" >Average Math Score</th>        <th class=\"col_heading level0 col1\" >Average Reading Score</th>        <th class=\"col_heading level0 col2\" >% Passing Math</th>        <th class=\"col_heading level0 col3\" >% Passing Reading</th>        <th class=\"col_heading level0 col4\" >% Overall Passing</th>    </tr>    <tr>        <th class=\"index_name level0\" >School Size</th>        <th class=\"blank\" ></th>        <th class=\"blank\" ></th>        <th class=\"blank\" ></th>        <th class=\"blank\" ></th>        <th class=\"blank\" ></th>    </tr></thead><tbody>\n",
       "                <tr>\n",
       "                        <th id=\"T_3876ecae_5e92_11eb_94f9_acde48001122level0_row0\" class=\"row_heading level0 row0\" >Small (<1000)</th>\n",
       "                        <td id=\"T_3876ecae_5e92_11eb_94f9_acde48001122row0_col0\" class=\"data row0 col0\" >83.821598</td>\n",
       "                        <td id=\"T_3876ecae_5e92_11eb_94f9_acde48001122row0_col1\" class=\"data row0 col1\" >83.929843</td>\n",
       "                        <td id=\"T_3876ecae_5e92_11eb_94f9_acde48001122row0_col2\" class=\"data row0 col2\" >93.550225</td>\n",
       "                        <td id=\"T_3876ecae_5e92_11eb_94f9_acde48001122row0_col3\" class=\"data row0 col3\" >96.099437</td>\n",
       "                        <td id=\"T_3876ecae_5e92_11eb_94f9_acde48001122row0_col4\" class=\"data row0 col4\" >89.883853</td>\n",
       "            </tr>\n",
       "            <tr>\n",
       "                        <th id=\"T_3876ecae_5e92_11eb_94f9_acde48001122level0_row1\" class=\"row_heading level0 row1\" >Medium (1000-2000)</th>\n",
       "                        <td id=\"T_3876ecae_5e92_11eb_94f9_acde48001122row1_col0\" class=\"data row1 col0\" >83.374684</td>\n",
       "                        <td id=\"T_3876ecae_5e92_11eb_94f9_acde48001122row1_col1\" class=\"data row1 col1\" >83.864438</td>\n",
       "                        <td id=\"T_3876ecae_5e92_11eb_94f9_acde48001122row1_col2\" class=\"data row1 col2\" >93.599695</td>\n",
       "                        <td id=\"T_3876ecae_5e92_11eb_94f9_acde48001122row1_col3\" class=\"data row1 col3\" >96.790680</td>\n",
       "                        <td id=\"T_3876ecae_5e92_11eb_94f9_acde48001122row1_col4\" class=\"data row1 col4\" >90.621535</td>\n",
       "            </tr>\n",
       "            <tr>\n",
       "                        <th id=\"T_3876ecae_5e92_11eb_94f9_acde48001122level0_row2\" class=\"row_heading level0 row2\" >Large (2000-5000)</th>\n",
       "                        <td id=\"T_3876ecae_5e92_11eb_94f9_acde48001122row2_col0\" class=\"data row2 col0\" >77.746417</td>\n",
       "                        <td id=\"T_3876ecae_5e92_11eb_94f9_acde48001122row2_col1\" class=\"data row2 col1\" >81.344493</td>\n",
       "                        <td id=\"T_3876ecae_5e92_11eb_94f9_acde48001122row2_col2\" class=\"data row2 col2\" >69.963361</td>\n",
       "                        <td id=\"T_3876ecae_5e92_11eb_94f9_acde48001122row2_col3\" class=\"data row2 col3\" >82.766634</td>\n",
       "                        <td id=\"T_3876ecae_5e92_11eb_94f9_acde48001122row2_col4\" class=\"data row2 col4\" >58.286003</td>\n",
       "            </tr>\n",
       "    </tbody></table>"
      ],
      "text/plain": [
       "<pandas.io.formats.style.Styler at 0x7f8427fbf370>"
      ]
     },
     "execution_count": 167,
     "metadata": {},
     "output_type": "execute_result"
    }
   ],
   "source": [
    "#configure and print table with relevant information\n",
    "del schoolscores_size['Total Students']\n",
    "del schoolscores_size['Total School Budget']\n",
    "del schoolscores_size['Per Student Budget']\n",
    "schoolscores_size.style.set_properties(**{'text-align':'left'})"
   ]
  },
  {
   "cell_type": "code",
   "execution_count": null,
   "metadata": {},
   "outputs": [],
   "source": []
  },
  {
   "cell_type": "markdown",
   "metadata": {},
   "source": [
    "## _Scores by School Type_"
   ]
  },
  {
   "cell_type": "code",
   "execution_count": 168,
   "metadata": {},
   "outputs": [],
   "source": [
    "#calculate and place data based on school type\n",
    "schoolscores_type = school_summary.groupby(\"School Type\").mean()"
   ]
  },
  {
   "cell_type": "code",
   "execution_count": 169,
   "metadata": {},
   "outputs": [
    {
     "data": {
      "text/html": [
       "<style  type=\"text/css\" >\n",
       "#T_39377aaa_5e92_11eb_94f9_acde48001122row0_col0,#T_39377aaa_5e92_11eb_94f9_acde48001122row0_col1,#T_39377aaa_5e92_11eb_94f9_acde48001122row0_col2,#T_39377aaa_5e92_11eb_94f9_acde48001122row0_col3,#T_39377aaa_5e92_11eb_94f9_acde48001122row0_col4,#T_39377aaa_5e92_11eb_94f9_acde48001122row1_col0,#T_39377aaa_5e92_11eb_94f9_acde48001122row1_col1,#T_39377aaa_5e92_11eb_94f9_acde48001122row1_col2,#T_39377aaa_5e92_11eb_94f9_acde48001122row1_col3,#T_39377aaa_5e92_11eb_94f9_acde48001122row1_col4{\n",
       "            text-align:  left;\n",
       "        }</style><table id=\"T_39377aaa_5e92_11eb_94f9_acde48001122\" ><thead>    <tr>        <th class=\"blank level0\" ></th>        <th class=\"col_heading level0 col0\" >Average Math Score</th>        <th class=\"col_heading level0 col1\" >Average Reading Score</th>        <th class=\"col_heading level0 col2\" >% Passing Math</th>        <th class=\"col_heading level0 col3\" >% Passing Reading</th>        <th class=\"col_heading level0 col4\" >% Overall Passing</th>    </tr>    <tr>        <th class=\"index_name level0\" >School Type</th>        <th class=\"blank\" ></th>        <th class=\"blank\" ></th>        <th class=\"blank\" ></th>        <th class=\"blank\" ></th>        <th class=\"blank\" ></th>    </tr></thead><tbody>\n",
       "                <tr>\n",
       "                        <th id=\"T_39377aaa_5e92_11eb_94f9_acde48001122level0_row0\" class=\"row_heading level0 row0\" >Charter</th>\n",
       "                        <td id=\"T_39377aaa_5e92_11eb_94f9_acde48001122row0_col0\" class=\"data row0 col0\" >83.473852</td>\n",
       "                        <td id=\"T_39377aaa_5e92_11eb_94f9_acde48001122row0_col1\" class=\"data row0 col1\" >83.896421</td>\n",
       "                        <td id=\"T_39377aaa_5e92_11eb_94f9_acde48001122row0_col2\" class=\"data row0 col2\" >93.620830</td>\n",
       "                        <td id=\"T_39377aaa_5e92_11eb_94f9_acde48001122row0_col3\" class=\"data row0 col3\" >96.586489</td>\n",
       "                        <td id=\"T_39377aaa_5e92_11eb_94f9_acde48001122row0_col4\" class=\"data row0 col4\" >90.432244</td>\n",
       "            </tr>\n",
       "            <tr>\n",
       "                        <th id=\"T_39377aaa_5e92_11eb_94f9_acde48001122level0_row1\" class=\"row_heading level0 row1\" >District</th>\n",
       "                        <td id=\"T_39377aaa_5e92_11eb_94f9_acde48001122row1_col0\" class=\"data row1 col0\" >76.956733</td>\n",
       "                        <td id=\"T_39377aaa_5e92_11eb_94f9_acde48001122row1_col1\" class=\"data row1 col1\" >80.966636</td>\n",
       "                        <td id=\"T_39377aaa_5e92_11eb_94f9_acde48001122row1_col2\" class=\"data row1 col2\" >66.548453</td>\n",
       "                        <td id=\"T_39377aaa_5e92_11eb_94f9_acde48001122row1_col3\" class=\"data row1 col3\" >80.799062</td>\n",
       "                        <td id=\"T_39377aaa_5e92_11eb_94f9_acde48001122row1_col4\" class=\"data row1 col4\" >53.672208</td>\n",
       "            </tr>\n",
       "    </tbody></table>"
      ],
      "text/plain": [
       "<pandas.io.formats.style.Styler at 0x7f842c628280>"
      ]
     },
     "execution_count": 169,
     "metadata": {},
     "output_type": "execute_result"
    }
   ],
   "source": [
    "#configure and print table with relevant information\n",
    "del schoolscores_type['Total Students']\n",
    "del schoolscores_type['Total School Budget']\n",
    "del schoolscores_type['Per Student Budget']\n",
    "schoolscores_type.style.set_properties(**{'text-align':'left'})"
   ]
  },
  {
   "cell_type": "code",
   "execution_count": null,
   "metadata": {},
   "outputs": [],
   "source": []
  },
  {
   "cell_type": "code",
   "execution_count": null,
   "metadata": {},
   "outputs": [],
   "source": []
  }
 ],
 "metadata": {
  "kernelspec": {
   "display_name": "Python 3",
   "language": "python",
   "name": "python3"
  },
  "language_info": {
   "codemirror_mode": {
    "name": "ipython",
    "version": 3
   },
   "file_extension": ".py",
   "mimetype": "text/x-python",
   "name": "python",
   "nbconvert_exporter": "python",
   "pygments_lexer": "ipython3",
   "version": "3.8.5"
  }
 },
 "nbformat": 4,
 "nbformat_minor": 4
}
